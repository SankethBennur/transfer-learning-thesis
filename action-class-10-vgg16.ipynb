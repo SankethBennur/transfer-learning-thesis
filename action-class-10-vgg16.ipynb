{
 "cells": [
  {
   "cell_type": "markdown",
   "id": "ab025bf5",
   "metadata": {},
   "source": [
    "# VGG-16 Model"
   ]
  },
  {
   "cell_type": "markdown",
   "id": "45dd6033",
   "metadata": {},
   "source": [
    "### <u>Action Classes - 10</u>"
   ]
  },
  {
   "cell_type": "code",
   "execution_count": 1,
   "id": "d442044a",
   "metadata": {},
   "outputs": [],
   "source": [
    "from keras import models\n",
    "from keras.layers import Dense,Flatten\n",
    "from keras import backend as K\n",
    "import numpy as np\n",
    "import matplotlib.pyplot as plt\n",
    "\n",
    "from keras.applications import vgg16"
   ]
  },
  {
   "cell_type": "code",
   "execution_count": 2,
   "id": "aaa4be4f",
   "metadata": {},
   "outputs": [
    {
     "name": "stdout",
     "output_type": "stream",
     "text": [
      "Num GPUs Available:  1\n"
     ]
    },
    {
     "name": "stderr",
     "output_type": "stream",
     "text": [
      "2022-08-25 15:22:33.106107: I tensorflow/stream_executor/cuda/cuda_gpu_executor.cc:975] successful NUMA node read from SysFS had negative value (-1), but there must be at least one NUMA node, so returning NUMA node zero\n",
      "2022-08-25 15:22:33.222823: I tensorflow/stream_executor/cuda/cuda_gpu_executor.cc:975] successful NUMA node read from SysFS had negative value (-1), but there must be at least one NUMA node, so returning NUMA node zero\n",
      "2022-08-25 15:22:33.223112: I tensorflow/stream_executor/cuda/cuda_gpu_executor.cc:975] successful NUMA node read from SysFS had negative value (-1), but there must be at least one NUMA node, so returning NUMA node zero\n"
     ]
    }
   ],
   "source": [
    "import tensorflow as tf\n",
    "print(\"Num GPUs Available: \", len(tf.config.list_physical_devices('GPU')))"
   ]
  },
  {
   "cell_type": "markdown",
   "id": "8b671d8b",
   "metadata": {},
   "source": [
    "<img src='https://miro.medium.com/max/1400/1*NNifzsJ7tD2kAfBXt3AzEg.png'>"
   ]
  },
  {
   "cell_type": "markdown",
   "id": "83d2138a",
   "metadata": {},
   "source": [
    "## Dataset"
   ]
  },
  {
   "cell_type": "code",
   "execution_count": 3,
   "id": "8da02113",
   "metadata": {},
   "outputs": [],
   "source": [
    "from keras.preprocessing.image import ImageDataGenerator\n",
    "\n",
    "dataset_path = \"./frames/\"\n",
    "# will contain the categories in respective folders\n",
    "\n",
    "# Data generators\n",
    "train_datagen = ImageDataGenerator(rescale=1/255, validation_split=0.2)\n"
   ]
  },
  {
   "cell_type": "code",
   "execution_count": 4,
   "id": "929e061f",
   "metadata": {},
   "outputs": [
    {
     "name": "stdout",
     "output_type": "stream",
     "text": [
      "Found 2734 images belonging to 10 classes.\n",
      "Found 679 images belonging to 10 classes.\n",
      "Found 679 images belonging to 10 classes.\n"
     ]
    }
   ],
   "source": [
    "image_size = (224,224)\n",
    "batch_size = 10\n",
    "\n",
    "train_batches = train_datagen.flow_from_directory(\n",
    "    dataset_path,\n",
    "    target_size = image_size,\n",
    "    batch_size = batch_size,\n",
    "    class_mode = \"categorical\",\n",
    "    subset = \"training\"\n",
    ")\n",
    "\n",
    "validation_batches = train_datagen.flow_from_directory(\n",
    "    dataset_path,\n",
    "    target_size = image_size,\n",
    "    batch_size = batch_size,\n",
    "    class_mode = \"categorical\",\n",
    "    subset = \"validation\"\n",
    ")\n",
    "\n",
    "test_batches = train_datagen.flow_from_directory(\n",
    "    dataset_path,\n",
    "    target_size = image_size,\n",
    "    batch_size = batch_size,\n",
    "    class_mode = \"categorical\",\n",
    "    subset = \"validation\"\n",
    ")"
   ]
  },
  {
   "cell_type": "code",
   "execution_count": 5,
   "id": "2ceee3f1",
   "metadata": {},
   "outputs": [
    {
     "data": {
      "text/plain": [
       "{'ApplyLipstick': 0,\n",
       " 'Archery': 1,\n",
       " 'Biking': 2,\n",
       " 'Diving': 3,\n",
       " 'Kayaking': 4,\n",
       " 'MilitaryParade': 5,\n",
       " 'ShavingBeard': 6,\n",
       " 'SkateBoarding': 7,\n",
       " 'TennisSwing': 8,\n",
       " 'Typing': 9}"
      ]
     },
     "execution_count": 5,
     "metadata": {},
     "output_type": "execute_result"
    }
   ],
   "source": [
    "train_batches.class_indices"
   ]
  },
  {
   "cell_type": "code",
   "execution_count": 6,
   "id": "8ed06cd8",
   "metadata": {},
   "outputs": [],
   "source": [
    "from matplotlib import pyplot as plt\n",
    "\n",
    "def plot_images(images_arr):\n",
    "    fig, axes = plt.subplots(1,10)\n",
    "    axes = axes.flatten()\n",
    "    for img, ax in zip(images_arr, axes):\n",
    "        ax.imshow(img)\n",
    "        ax.axis('off')\n",
    "    plt.tight_layout()\n",
    "    plt.show()"
   ]
  },
  {
   "cell_type": "code",
   "execution_count": 7,
   "id": "ae1ce8b5",
   "metadata": {},
   "outputs": [
    {
     "data": {
      "image/png": "[encoded data removed]",
      "text/plain": [
       "<Figure size 432x288 with 10 Axes>"
      ]
     },
     "metadata": {
      "needs_background": "light"
     },
     "output_type": "display_data"
    },
    {
     "name": "stdout",
     "output_type": "stream",
     "text": [
      "[[0. 0. 0. 0. 0. 0. 0. 0. 0. 1.]\n",
      " [0. 0. 1. 0. 0. 0. 0. 0. 0. 0.]\n",
      " [0. 0. 0. 0. 0. 0. 0. 0. 0. 1.]\n",
      " [0. 0. 0. 1. 0. 0. 0. 0. 0. 0.]\n",
      " [0. 0. 0. 0. 1. 0. 0. 0. 0. 0.]\n",
      " [0. 0. 0. 0. 1. 0. 0. 0. 0. 0.]\n",
      " [0. 0. 0. 0. 1. 0. 0. 0. 0. 0.]\n",
      " [0. 0. 1. 0. 0. 0. 0. 0. 0. 0.]\n",
      " [0. 0. 0. 0. 0. 0. 1. 0. 0. 0.]\n",
      " [0. 0. 0. 0. 0. 0. 0. 0. 0. 1.]]\n"
     ]
    }
   ],
   "source": [
    "imgs, labels = train_batches[0]\n",
    "plot_images(imgs)\n",
    "print(labels[:10])"
   ]
  },
  {
   "cell_type": "markdown",
   "id": "bbd99a9f",
   "metadata": {},
   "source": [
    "## Initialize Model"
   ]
  },
  {
   "cell_type": "code",
   "execution_count": 8,
   "id": "0ce80e18",
   "metadata": {},
   "outputs": [
    {
     "name": "stderr",
     "output_type": "stream",
     "text": [
      "2022-08-25 15:22:34.228222: I tensorflow/core/platform/cpu_feature_guard.cc:193] This TensorFlow binary is optimized with oneAPI Deep Neural Network Library (oneDNN) to use the following CPU instructions in performance-critical operations:  AVX2 FMA\n",
      "To enable them in other operations, rebuild TensorFlow with the appropriate compiler flags.\n",
      "2022-08-25 15:22:34.229689: I tensorflow/stream_executor/cuda/cuda_gpu_executor.cc:975] successful NUMA node read from SysFS had negative value (-1), but there must be at least one NUMA node, so returning NUMA node zero\n",
      "2022-08-25 15:22:34.229951: I tensorflow/stream_executor/cuda/cuda_gpu_executor.cc:975] successful NUMA node read from SysFS had negative value (-1), but there must be at least one NUMA node, so returning NUMA node zero\n",
      "2022-08-25 15:22:34.230067: I tensorflow/stream_executor/cuda/cuda_gpu_executor.cc:975] successful NUMA node read from SysFS had negative value (-1), but there must be at least one NUMA node, so returning NUMA node zero\n",
      "2022-08-25 15:22:35.398069: I tensorflow/stream_executor/cuda/cuda_gpu_executor.cc:975] successful NUMA node read from SysFS had negative value (-1), but there must be at least one NUMA node, so returning NUMA node zero\n",
      "2022-08-25 15:22:35.398228: I tensorflow/stream_executor/cuda/cuda_gpu_executor.cc:975] successful NUMA node read from SysFS had negative value (-1), but there must be at least one NUMA node, so returning NUMA node zero\n",
      "2022-08-25 15:22:35.398352: I tensorflow/stream_executor/cuda/cuda_gpu_executor.cc:975] successful NUMA node read from SysFS had negative value (-1), but there must be at least one NUMA node, so returning NUMA node zero\n",
      "2022-08-25 15:22:35.398471: I tensorflow/core/common_runtime/gpu/gpu_device.cc:1532] Created device /job:localhost/replica:0/task:0/device:GPU:0 with 3368 MB memory:  -> device: 0, name: NVIDIA GeForce GTX 1050 Ti, pci bus id: 0000:01:00.0, compute capability: 6.1\n"
     ]
    },
    {
     "name": "stdout",
     "output_type": "stream",
     "text": [
      "(0, 'input_1', [(None, 224, 224, 3)])\n",
      "(1, 'block1_conv1', (None, 224, 224, 64))\n",
      "(2, 'block1_conv2', (None, 224, 224, 64))\n",
      "(3, 'block1_pool', (None, 112, 112, 64))\n",
      "(4, 'block2_conv1', (None, 112, 112, 128))\n",
      "(5, 'block2_conv2', (None, 112, 112, 128))\n",
      "(6, 'block2_pool', (None, 56, 56, 128))\n",
      "(7, 'block3_conv1', (None, 56, 56, 256))\n",
      "(8, 'block3_conv2', (None, 56, 56, 256))\n",
      "(9, 'block3_conv3', (None, 56, 56, 256))\n",
      "(10, 'block3_pool', (None, 28, 28, 256))\n",
      "(11, 'block4_conv1', (None, 28, 28, 512))\n",
      "(12, 'block4_conv2', (None, 28, 28, 512))\n",
      "(13, 'block4_conv3', (None, 28, 28, 512))\n",
      "(14, 'block4_pool', (None, 14, 14, 512))\n",
      "(15, 'block5_conv1', (None, 14, 14, 512))\n",
      "(16, 'block5_conv2', (None, 14, 14, 512))\n",
      "(17, 'block5_conv3', (None, 14, 14, 512))\n",
      "(18, 'block5_pool', (None, 7, 7, 512))\n",
      "(19, 'flatten', (None, 25088))\n",
      "(20, 'fc1', (None, 4096))\n",
      "(21, 'fc2', (None, 4096))\n",
      "(22, 'predictions', (None, 1000))\n"
     ]
    }
   ],
   "source": [
    "vggmodeltop = vgg16.VGG16(include_top=True,\n",
    "                   input_shape=(224,224,3),\n",
    "                   pooling='avg',\n",
    "                   weights='imagenet')\n",
    "\n",
    "for (i,layer) in enumerate(vggmodeltop.layers):\n",
    "    layer.trainable = False\n",
    "    print((i, layer.name, layer.output_shape))"
   ]
  },
  {
   "cell_type": "code",
   "execution_count": 9,
   "id": "79756509",
   "metadata": {},
   "outputs": [
    {
     "name": "stdout",
     "output_type": "stream",
     "text": [
      "(0, 'input_2', [(None, 224, 224, 3)])\n",
      "(1, 'block1_conv1', (None, 224, 224, 64))\n",
      "(2, 'block1_conv2', (None, 224, 224, 64))\n",
      "(3, 'block1_pool', (None, 112, 112, 64))\n",
      "(4, 'block2_conv1', (None, 112, 112, 128))\n",
      "(5, 'block2_conv2', (None, 112, 112, 128))\n",
      "(6, 'block2_pool', (None, 56, 56, 128))\n",
      "(7, 'block3_conv1', (None, 56, 56, 256))\n",
      "(8, 'block3_conv2', (None, 56, 56, 256))\n",
      "(9, 'block3_conv3', (None, 56, 56, 256))\n",
      "(10, 'block3_pool', (None, 28, 28, 256))\n",
      "(11, 'block4_conv1', (None, 28, 28, 512))\n",
      "(12, 'block4_conv2', (None, 28, 28, 512))\n",
      "(13, 'block4_conv3', (None, 28, 28, 512))\n",
      "(14, 'block4_pool', (None, 14, 14, 512))\n",
      "(15, 'block5_conv1', (None, 14, 14, 512))\n",
      "(16, 'block5_conv2', (None, 14, 14, 512))\n",
      "(17, 'block5_conv3', (None, 14, 14, 512))\n",
      "(18, 'block5_pool', (None, 7, 7, 512))\n",
      "(19, 'global_average_pooling2d', (None, 512))\n"
     ]
    }
   ],
   "source": [
    "vggmodel = vgg16.VGG16(include_top=False,\n",
    "                   input_shape=(224,224,3),\n",
    "                   pooling='avg',classes=10,\n",
    "                   weights='imagenet')\n",
    "\n",
    "for (i,layer) in enumerate(vggmodel.layers):\n",
    "    layer.trainable = False\n",
    "    print((i, layer.name, layer.output_shape))"
   ]
  },
  {
   "cell_type": "code",
   "execution_count": 10,
   "id": "d4f668af",
   "metadata": {},
   "outputs": [
    {
     "name": "stdout",
     "output_type": "stream",
     "text": [
      "Model: \"sequential\"\n",
      "_________________________________________________________________\n",
      " Layer (type)                Output Shape              Param #   \n",
      "=================================================================\n",
      " vgg16 (Functional)          (None, 512)               14714688  \n",
      "                                                                 \n",
      " dense (Dense)               (None, 32)                16416     \n",
      "                                                                 \n",
      " dense_1 (Dense)             (None, 32)                1056      \n",
      "                                                                 \n",
      " dense_2 (Dense)             (None, 10)                330       \n",
      "                                                                 \n",
      "=================================================================\n",
      "Total params: 14,732,490\n",
      "Trainable params: 17,802\n",
      "Non-trainable params: 14,714,688\n",
      "_________________________________________________________________\n"
     ]
    }
   ],
   "source": [
    "model = models.Sequential()\n",
    "\n",
    "dense_layer_1 = Dense(32, activation='relu')\n",
    "dense_layer_2 = Dense(32, activation='relu')\n",
    "prediction_layer = Dense(10, activation='softmax')\n",
    "\n",
    "model.add(vggmodel)\n",
    "model.add(dense_layer_1)\n",
    "model.add(dense_layer_2)\n",
    "model.add(prediction_layer)\n",
    "\n",
    "model.summary()"
   ]
  },
  {
   "cell_type": "code",
   "execution_count": 11,
   "id": "557b39a3",
   "metadata": {},
   "outputs": [],
   "source": [
    "model.compile(\n",
    "    optimizer='adam',\n",
    "    loss='categorical_crossentropy',\n",
    "    metrics=['accuracy'],\n",
    ")"
   ]
  },
  {
   "cell_type": "code",
   "execution_count": 12,
   "id": "0bba864d",
   "metadata": {},
   "outputs": [],
   "source": [
    "model.save(\"./models/action-class-10-model-vgg16.h5\")"
   ]
  },
  {
   "cell_type": "code",
   "execution_count": 13,
   "id": "0c496777",
   "metadata": {
    "scrolled": false
   },
   "outputs": [
    {
     "name": "stdout",
     "output_type": "stream",
     "text": [
      "Epoch 1/20\n"
     ]
    },
    {
     "name": "stderr",
     "output_type": "stream",
     "text": [
      "2022-08-25 15:22:40.516591: I tensorflow/stream_executor/cuda/cuda_dnn.cc:384] Loaded cuDNN version 8401\n",
      "2022-08-25 15:22:42.065437: I tensorflow/core/platform/default/subprocess.cc:304] Start cannot spawn child process: No such file or directory\n",
      "2022-08-25 15:22:42.377251: W tensorflow/core/common_runtime/bfc_allocator.cc:290] Allocator (GPU_0_bfc) ran out of memory trying to allocate 2.35GiB with freed_by_count=0. The caller indicates that this is not a failure, but this may mean that there could be performance gains if more memory were available.\n"
     ]
    },
    {
     "name": "stdout",
     "output_type": "stream",
     "text": [
      "274/274 [==============================] - ETA: 0s - loss: 1.5440 - accuracy: 0.5117"
     ]
    },
    {
     "name": "stderr",
     "output_type": "stream",
     "text": [
      "2022-08-25 15:23:34.447861: W tensorflow/core/common_runtime/bfc_allocator.cc:290] Allocator (GPU_0_bfc) ran out of memory trying to allocate 2.31GiB with freed_by_count=0. The caller indicates that this is not a failure, but this may mean that there could be performance gains if more memory were available.\n"
     ]
    },
    {
     "name": "stdout",
     "output_type": "stream",
     "text": [
      "274/274 [==============================] - 57s 190ms/step - loss: 1.5440 - accuracy: 0.5117 - val_loss: 1.0611 - val_accuracy: 0.7113\n",
      "Epoch 2/20\n",
      "274/274 [==============================] - 48s 177ms/step - loss: 0.6726 - accuracy: 0.8175 - val_loss: 0.6954 - val_accuracy: 0.7599\n",
      "Epoch 3/20\n",
      "274/274 [==============================] - 50s 184ms/step - loss: 0.4233 - accuracy: 0.8841 - val_loss: 0.5965 - val_accuracy: 0.7806\n",
      "Epoch 4/20\n",
      "274/274 [==============================] - 66s 242ms/step - loss: 0.3103 - accuracy: 0.9115 - val_loss: 0.6744 - val_accuracy: 0.7688\n",
      "Epoch 5/20\n",
      "274/274 [==============================] - 79s 287ms/step - loss: 0.2427 - accuracy: 0.9305 - val_loss: 0.5453 - val_accuracy: 0.8100\n",
      "Epoch 6/20\n",
      "274/274 [==============================] - 79s 288ms/step - loss: 0.2033 - accuracy: 0.9396 - val_loss: 0.5187 - val_accuracy: 0.8056\n",
      "Epoch 7/20\n",
      "274/274 [==============================] - 81s 293ms/step - loss: 0.1638 - accuracy: 0.9550 - val_loss: 0.4840 - val_accuracy: 0.8144\n",
      "Epoch 8/20\n",
      "274/274 [==============================] - 81s 294ms/step - loss: 0.1318 - accuracy: 0.9682 - val_loss: 0.4937 - val_accuracy: 0.8130\n",
      "Epoch 9/20\n",
      "274/274 [==============================] - 81s 294ms/step - loss: 0.1251 - accuracy: 0.9623 - val_loss: 0.4243 - val_accuracy: 0.8424\n",
      "Epoch 10/20\n",
      "274/274 [==============================] - 81s 295ms/step - loss: 0.1044 - accuracy: 0.9737 - val_loss: 0.4737 - val_accuracy: 0.8247\n",
      "Epoch 11/20\n",
      "274/274 [==============================] - 82s 297ms/step - loss: 0.0907 - accuracy: 0.9755 - val_loss: 0.4386 - val_accuracy: 0.8292\n",
      "Epoch 12/20\n",
      "274/274 [==============================] - 81s 296ms/step - loss: 0.0797 - accuracy: 0.9795 - val_loss: 0.6962 - val_accuracy: 0.8159\n",
      "Epoch 13/20\n",
      "274/274 [==============================] - 81s 295ms/step - loss: 0.0699 - accuracy: 0.9817 - val_loss: 0.5364 - val_accuracy: 0.8218\n",
      "Epoch 14/20\n",
      "274/274 [==============================] - 81s 295ms/step - loss: 0.0608 - accuracy: 0.9857 - val_loss: 0.4659 - val_accuracy: 0.8336\n",
      "Epoch 15/20\n",
      "274/274 [==============================] - 81s 296ms/step - loss: 0.0543 - accuracy: 0.9872 - val_loss: 0.4637 - val_accuracy: 0.8351\n",
      "Epoch 16/20\n",
      "274/274 [==============================] - 81s 295ms/step - loss: 0.0483 - accuracy: 0.9883 - val_loss: 0.4740 - val_accuracy: 0.8306\n",
      "Epoch 17/20\n",
      "274/274 [==============================] - 81s 294ms/step - loss: 0.0418 - accuracy: 0.9898 - val_loss: 0.4922 - val_accuracy: 0.8321\n",
      "Epoch 18/20\n",
      "274/274 [==============================] - 81s 295ms/step - loss: 0.0368 - accuracy: 0.9938 - val_loss: 0.5208 - val_accuracy: 0.8247\n",
      "Epoch 19/20\n",
      "274/274 [==============================] - 82s 297ms/step - loss: 0.0358 - accuracy: 0.9901 - val_loss: 0.5735 - val_accuracy: 0.8292\n",
      "Epoch 20/20\n",
      "274/274 [==============================] - 82s 297ms/step - loss: 0.0306 - accuracy: 0.9945 - val_loss: 0.5131 - val_accuracy: 0.8306\n"
     ]
    }
   ],
   "source": [
    "fit = model.fit(train_batches, epochs=20, validation_data=validation_batches)"
   ]
  },
  {
   "cell_type": "code",
   "execution_count": 14,
   "id": "b2d29746",
   "metadata": {},
   "outputs": [],
   "source": [
    "model.save(\"./models/action-class-10-trained-vgg16.h5\")"
   ]
  },
  {
   "cell_type": "markdown",
   "id": "156ea49e",
   "metadata": {},
   "source": [
    "## Evaluate and Predict"
   ]
  },
  {
   "cell_type": "code",
   "execution_count": 15,
   "id": "7d14ce5f",
   "metadata": {},
   "outputs": [
    {
     "name": "stdout",
     "output_type": "stream",
     "text": [
      "Model: \"sequential\"\n",
      "_________________________________________________________________\n",
      " Layer (type)                Output Shape              Param #   \n",
      "=================================================================\n",
      " vgg16 (Functional)          (None, 512)               14714688  \n",
      "                                                                 \n",
      " dense (Dense)               (None, 32)                16416     \n",
      "                                                                 \n",
      " dense_1 (Dense)             (None, 32)                1056      \n",
      "                                                                 \n",
      " dense_2 (Dense)             (None, 10)                330       \n",
      "                                                                 \n",
      "=================================================================\n",
      "Total params: 14,732,490\n",
      "Trainable params: 17,802\n",
      "Non-trainable params: 14,714,688\n",
      "_________________________________________________________________\n"
     ]
    }
   ],
   "source": [
    "model = models.load_model(\"./models/action-class-10-trained-vgg16.h5\")\n",
    "model.summary()"
   ]
  },
  {
   "cell_type": "code",
   "execution_count": 16,
   "id": "fcae2848",
   "metadata": {},
   "outputs": [
    {
     "name": "stdout",
     "output_type": "stream",
     "text": [
      "68/68 [==============================] - 20s 224ms/step - loss: 0.5131 - accuracy: 0.8306\n"
     ]
    },
    {
     "data": {
      "text/plain": [
       "[0.5130749940872192, 0.830633282661438]"
      ]
     },
     "execution_count": 16,
     "metadata": {},
     "output_type": "execute_result"
    }
   ],
   "source": [
    "model.evaluate(test_batches)"
   ]
  },
  {
   "cell_type": "code",
   "execution_count": 17,
   "id": "fc0d3e51",
   "metadata": {},
   "outputs": [
    {
     "data": {
      "image/png": "[encoded data removed]",
      "text/plain": [
       "<Figure size 432x288 with 1 Axes>"
      ]
     },
     "metadata": {},
     "output_type": "display_data"
    },
    {
     "data": {
      "image/png": "[encoded data removed]",
      "text/plain": [
       "<Figure size 432x288 with 1 Axes>"
      ]
     },
     "metadata": {},
     "output_type": "display_data"
    }
   ],
   "source": [
    "plt.style.use(\"ggplot\")\n",
    "plt.figure()\n",
    "\n",
    "plt.plot(np.arange(0, 20), fit.history[\"loss\"], label=\"train_loss\")\n",
    "plt.plot(np.arange(0, 20), fit.history[\"val_loss\"], label=\"val_loss\")\n",
    "plt.title(\"Training Loss\")\n",
    "plt.xlabel(\"Epoch #\")\n",
    "plt.ylabel(\"Loss\")\n",
    "plt.legend(loc=\"lower left\")\n",
    "plt.show()\n",
    "\n",
    "plt.plot(np.arange(0, 20), fit.history[\"accuracy\"], label=\"train_acc\")\n",
    "plt.plot(np.arange(0, 20), fit.history[\"val_accuracy\"], label=\"val_acc\")\n",
    "plt.title(\"Accuracy\")\n",
    "plt.xlabel(\"Epoch #\")\n",
    "plt.ylabel(\"Accuracy\")\n",
    "plt.legend(loc=\"lower left\")\n",
    "plt.show()"
   ]
  },
  {
   "cell_type": "code",
   "execution_count": 18,
   "id": "2bc55e41",
   "metadata": {},
   "outputs": [
    {
     "name": "stdout",
     "output_type": "stream",
     "text": [
      "Avg Val Acc: 0.8106774628162384\n",
      "Avg Val Loss: 0.5570720851421356\n"
     ]
    }
   ],
   "source": [
    "print(\"Avg Val Acc: \" + str(sum(fit.history[\"val_accuracy\"])/20))\n",
    "print(\"Avg Val Loss: \" + str(sum(fit.history[\"val_loss\"])/20))"
   ]
  }
 ],
 "metadata": {
  "kernelspec": {
   "display_name": "Python 3 (ipykernel)",
   "language": "python",
   "name": "python3"
  },
  "language_info": {
   "codemirror_mode": {
    "name": "ipython",
    "version": 3
   },
   "file_extension": ".py",
   "mimetype": "text/x-python",
   "name": "python",
   "nbconvert_exporter": "python",
   "pygments_lexer": "ipython3",
   "version": "3.10.4"
  }
 },
 "nbformat": 4,
 "nbformat_minor": 5
}
