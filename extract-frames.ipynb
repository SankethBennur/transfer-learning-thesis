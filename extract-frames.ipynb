{
 "cells": [
  {
   "cell_type": "code",
   "execution_count": 4,
   "id": "c7e0ffda",
   "metadata": {},
   "outputs": [],
   "source": [
    "# Importing all necessary libraries\n",
    "import cv2\n",
    "import os"
   ]
  },
  {
   "cell_type": "code",
   "execution_count": 5,
   "id": "589fe5a9",
   "metadata": {},
   "outputs": [],
   "source": [
    "def get_frames(sourcedir, targetdir):\n",
    "    if not os.path.exists(targetdir): os.mkdir(targetdir)\n",
    "        \n",
    "    for file in os.listdir(sourcedir):\n",
    "        cap = cv2.VideoCapture(sourcedir+file)\n",
    "        i = 0\n",
    "        # a variable to set how many frames you want to skip\n",
    "        frame_skip = 60\n",
    "        # a variable to keep track of the frame to be saved\n",
    "        frame_count = 0\n",
    "        while cap.isOpened():\n",
    "            ret, frame = cap.read()\n",
    "            if not ret:\n",
    "                break\n",
    "            if i > frame_skip - 1:\n",
    "                frame_count += 1\n",
    "                # cv2.imwrite('./frames/'+filename+str(frame_count*frame_skip)+'.jpg', frame)\n",
    "                cv2.imwrite(targetdir+file+str(frame_count*frame_skip)+'.jpg', frame)\n",
    "                i = 0\n",
    "                continue\n",
    "            i += 1\n",
    "\n",
    "        cap.release()\n",
    "        cv2.destroyAllWindows()"
   ]
  },
  {
   "cell_type": "code",
   "execution_count": 6,
   "id": "9073faec",
   "metadata": {},
   "outputs": [],
   "source": [
    "get_frames(\"./UCF101-videos/ApplyLipstick/\",\"./frames/ApplyLipstick/\")\n",
    "get_frames(\"./UCF101-videos/Archery/\",\"./frames/Archery/\")\n",
    "get_frames(\"./UCF101-videos/BabyCrawling/\",\"./frames/BabyCrawling/\")\n",
    "get_frames(\"./UCF101-videos/Basketball/\",\"./frames/Basketball/\")\n",
    "\n",
    "get_frames(\"./UCF101-videos/Biking/\",\"./frames/Biking/\")\n",
    "get_frames(\"./UCF101-videos/Diving/\",\"./frames/Diving/\")\n",
    "get_frames(\"./UCF101-videos/Fencing/\",\"./frames/Fencing/\")\n",
    "get_frames(\"./UCF101-videos/IceDancing/\",\"./frames/IceDancing/\")\n",
    "\n",
    "get_frames(\"./UCF101-videos/Kayaking/\",\"./frames/Kayaking/\")\n",
    "get_frames(\"./UCF101-videos/MilitaryParade/\",\"./frames/MilitaryParade/\")\n",
    "get_frames(\"./UCF101-videos/PizzaTossing/\",\"./frames/PizzaTossing/\")\n",
    "get_frames(\"./UCF101-videos/PullUps/\",\"./frames/PullUps/\")\n",
    "\n",
    "get_frames(\"./UCF101-videos/ShavingBeard/\",\"./frames/ShavingBeard/\")\n",
    "get_frames(\"./UCF101-videos/SkateBoarding/\",\"./frames/SkateBoarding/\")\n",
    "get_frames(\"./UCF101-videos/SumoWrestling/\",\"./frames/SumoWrestling/\")\n",
    "get_frames(\"./UCF101-videos/Surfing/\",\"./frames/Surfing/\")\n",
    "\n",
    "get_frames(\"./UCF101-videos/TennisSwing/\",\"./frames/TennisSwing/\")\n",
    "get_frames(\"./UCF101-videos/Typing/\",\"./frames/Typing/\")\n",
    "get_frames(\"./UCF101-videos/WritingOnBoard/\",\"./frames/WritingOnBoard/\")\n",
    "get_frames(\"./UCF101-videos/YoYo/\",\"./frames/YoYo/\")"
   ]
  }
 ],
 "metadata": {
  "kernelspec": {
   "display_name": "Python 3 (ipykernel)",
   "language": "python",
   "name": "python3"
  },
  "language_info": {
   "codemirror_mode": {
    "name": "ipython",
    "version": 3
   },
   "file_extension": ".py",
   "mimetype": "text/x-python",
   "name": "python",
   "nbconvert_exporter": "python",
   "pygments_lexer": "ipython3",
   "version": "3.10.4"
  }
 },
 "nbformat": 4,
 "nbformat_minor": 5
}
