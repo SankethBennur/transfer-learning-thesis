{
 "cells": [
  {
   "cell_type": "markdown",
   "id": "ab025bf5",
   "metadata": {},
   "source": [
    "# Resnet50 Model"
   ]
  },
  {
   "cell_type": "markdown",
   "id": "45dd6033",
   "metadata": {},
   "source": [
    "### <u>Action Classes - 15</u>"
   ]
  },
  {
   "cell_type": "code",
   "execution_count": 1,
   "id": "d442044a",
   "metadata": {},
   "outputs": [],
   "source": [
    "from keras import models\n",
    "from keras.layers import Dense,Flatten\n",
    "from keras import backend as K\n",
    "import numpy as np\n",
    "import matplotlib.pyplot as plt\n",
    "\n",
    "from keras.applications import resnet"
   ]
  },
  {
   "cell_type": "code",
   "execution_count": 2,
   "id": "aaa4be4f",
   "metadata": {
    "scrolled": true
   },
   "outputs": [
    {
     "name": "stdout",
     "output_type": "stream",
     "text": [
      "Num GPUs Available:  1\n"
     ]
    },
    {
     "name": "stderr",
     "output_type": "stream",
     "text": [
      "2022-08-31 16:27:04.894499: I tensorflow/stream_executor/cuda/cuda_gpu_executor.cc:975] successful NUMA node read from SysFS had negative value (-1), but there must be at least one NUMA node, so returning NUMA node zero\n",
      "2022-08-31 16:27:04.928802: I tensorflow/stream_executor/cuda/cuda_gpu_executor.cc:975] successful NUMA node read from SysFS had negative value (-1), but there must be at least one NUMA node, so returning NUMA node zero\n",
      "2022-08-31 16:27:04.929106: I tensorflow/stream_executor/cuda/cuda_gpu_executor.cc:975] successful NUMA node read from SysFS had negative value (-1), but there must be at least one NUMA node, so returning NUMA node zero\n"
     ]
    }
   ],
   "source": [
    "import tensorflow as tf\n",
    "print(\"Num GPUs Available: \", len(tf.config.list_physical_devices('GPU')))"
   ]
  },
  {
   "cell_type": "markdown",
   "id": "bb74f6f2",
   "metadata": {},
   "source": [
    "<img src=\"https://upload.wikimedia.org/wikipedia/commons/9/98/ResNet50.png\" />"
   ]
  },
  {
   "cell_type": "markdown",
   "id": "83d2138a",
   "metadata": {},
   "source": [
    "## Dataset"
   ]
  },
  {
   "cell_type": "code",
   "execution_count": 3,
   "id": "8da02113",
   "metadata": {},
   "outputs": [],
   "source": [
    "from keras.preprocessing.image import ImageDataGenerator\n",
    "\n",
    "dataset_path = \"./frames/\"\n",
    "# will contain the categories in respective folders\n",
    "\n",
    "# Data generators\n",
    "# train_datagen = ImageDataGenerator(rescale=1/255, validation_split=0.2)\n",
    "train_datagen = ImageDataGenerator(dtype = 'float32', preprocessing_function=tf.keras.applications.resnet.preprocess_input, validation_split=0.2)"
   ]
  },
  {
   "cell_type": "code",
   "execution_count": 4,
   "id": "929e061f",
   "metadata": {},
   "outputs": [
    {
     "name": "stdout",
     "output_type": "stream",
     "text": [
      "Found 3767 images belonging to 15 classes.\n",
      "Found 934 images belonging to 15 classes.\n",
      "Found 934 images belonging to 15 classes.\n"
     ]
    }
   ],
   "source": [
    "image_size = (224,224)\n",
    "batch_size = 10\n",
    "\n",
    "train_batches = train_datagen.flow_from_directory(\n",
    "    dataset_path,\n",
    "    target_size = image_size,\n",
    "    batch_size = batch_size,\n",
    "    class_mode = \"categorical\",\n",
    "    subset = \"training\"\n",
    ")\n",
    "\n",
    "validation_batches = train_datagen.flow_from_directory(\n",
    "    dataset_path,\n",
    "    target_size = image_size,\n",
    "    batch_size = batch_size,\n",
    "    class_mode = \"categorical\",\n",
    "    subset = \"validation\"\n",
    ")\n",
    "\n",
    "test_batches = train_datagen.flow_from_directory(\n",
    "    dataset_path,\n",
    "    target_size = image_size,\n",
    "    batch_size = batch_size,\n",
    "    class_mode = \"categorical\",\n",
    "    subset = \"validation\"\n",
    ")"
   ]
  },
  {
   "cell_type": "code",
   "execution_count": 5,
   "id": "2ceee3f1",
   "metadata": {},
   "outputs": [
    {
     "data": {
      "text/plain": [
       "{'ApplyLipstick': 0,\n",
       " 'Archery': 1,\n",
       " 'BabyCrawling': 2,\n",
       " 'Biking': 3,\n",
       " 'Diving': 4,\n",
       " 'Fencing': 5,\n",
       " 'Kayaking': 6,\n",
       " 'MilitaryParade': 7,\n",
       " 'PizzaTossing': 8,\n",
       " 'ShavingBeard': 9,\n",
       " 'SkateBoarding': 10,\n",
       " 'SumoWrestling': 11,\n",
       " 'TennisSwing': 12,\n",
       " 'Typing': 13,\n",
       " 'WritingOnBoard': 14}"
      ]
     },
     "execution_count": 5,
     "metadata": {},
     "output_type": "execute_result"
    }
   ],
   "source": [
    "train_batches.class_indices"
   ]
  },
  {
   "cell_type": "code",
   "execution_count": 6,
   "id": "8ed06cd8",
   "metadata": {},
   "outputs": [],
   "source": [
    "from matplotlib import pyplot as plt\n",
    "\n",
    "def plot_images(images_arr):\n",
    "    fig, axes = plt.subplots(1,10)\n",
    "    axes = axes.flatten()\n",
    "    for img, ax in zip(images_arr, axes):\n",
    "        ax.imshow(img)\n",
    "        ax.axis('off')\n",
    "    plt.tight_layout()\n",
    "    plt.show()"
   ]
  },
  {
   "cell_type": "code",
   "execution_count": 7,
   "id": "ae1ce8b5",
   "metadata": {},
   "outputs": [
    {
     "name": "stderr",
     "output_type": "stream",
     "text": [
      "Clipping input data to the valid range for imshow with RGB data ([0..1] for floats or [0..255] for integers).\n",
      "Clipping input data to the valid range for imshow with RGB data ([0..1] for floats or [0..255] for integers).\n",
      "Clipping input data to the valid range for imshow with RGB data ([0..1] for floats or [0..255] for integers).\n",
      "Clipping input data to the valid range for imshow with RGB data ([0..1] for floats or [0..255] for integers).\n",
      "Clipping input data to the valid range for imshow with RGB data ([0..1] for floats or [0..255] for integers).\n",
      "Clipping input data to the valid range for imshow with RGB data ([0..1] for floats or [0..255] for integers).\n",
      "Clipping input data to the valid range for imshow with RGB data ([0..1] for floats or [0..255] for integers).\n",
      "Clipping input data to the valid range for imshow with RGB data ([0..1] for floats or [0..255] for integers).\n",
      "Clipping input data to the valid range for imshow with RGB data ([0..1] for floats or [0..255] for integers).\n",
      "Clipping input data to the valid range for imshow with RGB data ([0..1] for floats or [0..255] for integers).\n"
     ]
    },
    {
     "data": {
      "image/png": "[encoded data removed]",
      "text/plain": [
       "<Figure size 432x288 with 10 Axes>"
      ]
     },
     "metadata": {
      "needs_background": "light"
     },
     "output_type": "display_data"
    },
    {
     "name": "stdout",
     "output_type": "stream",
     "text": [
      "[[0. 0. 0. 0. 0. 0. 0. 0. 0. 0. 0. 0. 1. 0. 0.]\n",
      " [0. 0. 0. 0. 0. 0. 0. 0. 0. 0. 0. 1. 0. 0. 0.]\n",
      " [0. 0. 0. 0. 0. 0. 0. 0. 1. 0. 0. 0. 0. 0. 0.]\n",
      " [0. 0. 0. 0. 0. 0. 1. 0. 0. 0. 0. 0. 0. 0. 0.]\n",
      " [0. 0. 1. 0. 0. 0. 0. 0. 0. 0. 0. 0. 0. 0. 0.]\n",
      " [0. 0. 1. 0. 0. 0. 0. 0. 0. 0. 0. 0. 0. 0. 0.]\n",
      " [0. 0. 0. 0. 0. 0. 0. 0. 0. 0. 0. 0. 0. 1. 0.]\n",
      " [0. 0. 0. 0. 0. 0. 0. 0. 0. 1. 0. 0. 0. 0. 0.]\n",
      " [0. 0. 0. 0. 0. 0. 0. 0. 0. 1. 0. 0. 0. 0. 0.]\n",
      " [0. 0. 0. 0. 1. 0. 0. 0. 0. 0. 0. 0. 0. 0. 0.]]\n"
     ]
    }
   ],
   "source": [
    "imgs, labels = train_batches[0]\n",
    "plot_images(imgs)\n",
    "print(labels[:10])"
   ]
  },
  {
   "cell_type": "code",
   "execution_count": 8,
   "id": "0ce80e18",
   "metadata": {},
   "outputs": [
    {
     "name": "stderr",
     "output_type": "stream",
     "text": [
      "2022-08-31 16:27:06.086318: I tensorflow/core/platform/cpu_feature_guard.cc:193] This TensorFlow binary is optimized with oneAPI Deep Neural Network Library (oneDNN) to use the following CPU instructions in performance-critical operations:  AVX2 FMA\n",
      "To enable them in other operations, rebuild TensorFlow with the appropriate compiler flags.\n",
      "2022-08-31 16:27:06.086962: I tensorflow/stream_executor/cuda/cuda_gpu_executor.cc:975] successful NUMA node read from SysFS had negative value (-1), but there must be at least one NUMA node, so returning NUMA node zero\n",
      "2022-08-31 16:27:06.087261: I tensorflow/stream_executor/cuda/cuda_gpu_executor.cc:975] successful NUMA node read from SysFS had negative value (-1), but there must be at least one NUMA node, so returning NUMA node zero\n",
      "2022-08-31 16:27:06.087578: I tensorflow/stream_executor/cuda/cuda_gpu_executor.cc:975] successful NUMA node read from SysFS had negative value (-1), but there must be at least one NUMA node, so returning NUMA node zero\n",
      "2022-08-31 16:27:06.551973: I tensorflow/stream_executor/cuda/cuda_gpu_executor.cc:975] successful NUMA node read from SysFS had negative value (-1), but there must be at least one NUMA node, so returning NUMA node zero\n",
      "2022-08-31 16:27:06.552183: I tensorflow/stream_executor/cuda/cuda_gpu_executor.cc:975] successful NUMA node read from SysFS had negative value (-1), but there must be at least one NUMA node, so returning NUMA node zero\n",
      "2022-08-31 16:27:06.552299: I tensorflow/stream_executor/cuda/cuda_gpu_executor.cc:975] successful NUMA node read from SysFS had negative value (-1), but there must be at least one NUMA node, so returning NUMA node zero\n",
      "2022-08-31 16:27:06.552432: I tensorflow/core/common_runtime/gpu/gpu_device.cc:1532] Created device /job:localhost/replica:0/task:0/device:GPU:0 with 3368 MB memory:  -> device: 0, name: NVIDIA GeForce GTX 1050 Ti, pci bus id: 0000:01:00.0, compute capability: 6.1\n"
     ]
    },
    {
     "name": "stdout",
     "output_type": "stream",
     "text": [
      "(0, 'input_1', [(None, 224, 224, 3)])\n",
      "(1, 'conv1_pad', (None, 230, 230, 3))\n",
      "(2, 'conv1_conv', (None, 112, 112, 64))\n",
      "(3, 'conv1_bn', (None, 112, 112, 64))\n",
      "(4, 'conv1_relu', (None, 112, 112, 64))\n",
      "(5, 'pool1_pad', (None, 114, 114, 64))\n",
      "(6, 'pool1_pool', (None, 56, 56, 64))\n",
      "(7, 'conv2_block1_1_conv', (None, 56, 56, 64))\n",
      "(8, 'conv2_block1_1_bn', (None, 56, 56, 64))\n",
      "(9, 'conv2_block1_1_relu', (None, 56, 56, 64))\n",
      "(10, 'conv2_block1_2_conv', (None, 56, 56, 64))\n",
      "(11, 'conv2_block1_2_bn', (None, 56, 56, 64))\n",
      "(12, 'conv2_block1_2_relu', (None, 56, 56, 64))\n",
      "(13, 'conv2_block1_0_conv', (None, 56, 56, 256))\n",
      "(14, 'conv2_block1_3_conv', (None, 56, 56, 256))\n",
      "(15, 'conv2_block1_0_bn', (None, 56, 56, 256))\n",
      "(16, 'conv2_block1_3_bn', (None, 56, 56, 256))\n",
      "(17, 'conv2_block1_add', (None, 56, 56, 256))\n",
      "(18, 'conv2_block1_out', (None, 56, 56, 256))\n",
      "(19, 'conv2_block2_1_conv', (None, 56, 56, 64))\n",
      "(20, 'conv2_block2_1_bn', (None, 56, 56, 64))\n",
      "(21, 'conv2_block2_1_relu', (None, 56, 56, 64))\n",
      "(22, 'conv2_block2_2_conv', (None, 56, 56, 64))\n",
      "(23, 'conv2_block2_2_bn', (None, 56, 56, 64))\n",
      "(24, 'conv2_block2_2_relu', (None, 56, 56, 64))\n",
      "(25, 'conv2_block2_3_conv', (None, 56, 56, 256))\n",
      "(26, 'conv2_block2_3_bn', (None, 56, 56, 256))\n",
      "(27, 'conv2_block2_add', (None, 56, 56, 256))\n",
      "(28, 'conv2_block2_out', (None, 56, 56, 256))\n",
      "(29, 'conv2_block3_1_conv', (None, 56, 56, 64))\n",
      "(30, 'conv2_block3_1_bn', (None, 56, 56, 64))\n",
      "(31, 'conv2_block3_1_relu', (None, 56, 56, 64))\n",
      "(32, 'conv2_block3_2_conv', (None, 56, 56, 64))\n",
      "(33, 'conv2_block3_2_bn', (None, 56, 56, 64))\n",
      "(34, 'conv2_block3_2_relu', (None, 56, 56, 64))\n",
      "(35, 'conv2_block3_3_conv', (None, 56, 56, 256))\n",
      "(36, 'conv2_block3_3_bn', (None, 56, 56, 256))\n",
      "(37, 'conv2_block3_add', (None, 56, 56, 256))\n",
      "(38, 'conv2_block3_out', (None, 56, 56, 256))\n",
      "(39, 'conv3_block1_1_conv', (None, 28, 28, 128))\n",
      "(40, 'conv3_block1_1_bn', (None, 28, 28, 128))\n",
      "(41, 'conv3_block1_1_relu', (None, 28, 28, 128))\n",
      "(42, 'conv3_block1_2_conv', (None, 28, 28, 128))\n",
      "(43, 'conv3_block1_2_bn', (None, 28, 28, 128))\n",
      "(44, 'conv3_block1_2_relu', (None, 28, 28, 128))\n",
      "(45, 'conv3_block1_0_conv', (None, 28, 28, 512))\n",
      "(46, 'conv3_block1_3_conv', (None, 28, 28, 512))\n",
      "(47, 'conv3_block1_0_bn', (None, 28, 28, 512))\n",
      "(48, 'conv3_block1_3_bn', (None, 28, 28, 512))\n",
      "(49, 'conv3_block1_add', (None, 28, 28, 512))\n",
      "(50, 'conv3_block1_out', (None, 28, 28, 512))\n",
      "(51, 'conv3_block2_1_conv', (None, 28, 28, 128))\n",
      "(52, 'conv3_block2_1_bn', (None, 28, 28, 128))\n",
      "(53, 'conv3_block2_1_relu', (None, 28, 28, 128))\n",
      "(54, 'conv3_block2_2_conv', (None, 28, 28, 128))\n",
      "(55, 'conv3_block2_2_bn', (None, 28, 28, 128))\n",
      "(56, 'conv3_block2_2_relu', (None, 28, 28, 128))\n",
      "(57, 'conv3_block2_3_conv', (None, 28, 28, 512))\n",
      "(58, 'conv3_block2_3_bn', (None, 28, 28, 512))\n",
      "(59, 'conv3_block2_add', (None, 28, 28, 512))\n",
      "(60, 'conv3_block2_out', (None, 28, 28, 512))\n",
      "(61, 'conv3_block3_1_conv', (None, 28, 28, 128))\n",
      "(62, 'conv3_block3_1_bn', (None, 28, 28, 128))\n",
      "(63, 'conv3_block3_1_relu', (None, 28, 28, 128))\n",
      "(64, 'conv3_block3_2_conv', (None, 28, 28, 128))\n",
      "(65, 'conv3_block3_2_bn', (None, 28, 28, 128))\n",
      "(66, 'conv3_block3_2_relu', (None, 28, 28, 128))\n",
      "(67, 'conv3_block3_3_conv', (None, 28, 28, 512))\n",
      "(68, 'conv3_block3_3_bn', (None, 28, 28, 512))\n",
      "(69, 'conv3_block3_add', (None, 28, 28, 512))\n",
      "(70, 'conv3_block3_out', (None, 28, 28, 512))\n",
      "(71, 'conv3_block4_1_conv', (None, 28, 28, 128))\n",
      "(72, 'conv3_block4_1_bn', (None, 28, 28, 128))\n",
      "(73, 'conv3_block4_1_relu', (None, 28, 28, 128))\n",
      "(74, 'conv3_block4_2_conv', (None, 28, 28, 128))\n",
      "(75, 'conv3_block4_2_bn', (None, 28, 28, 128))\n",
      "(76, 'conv3_block4_2_relu', (None, 28, 28, 128))\n",
      "(77, 'conv3_block4_3_conv', (None, 28, 28, 512))\n",
      "(78, 'conv3_block4_3_bn', (None, 28, 28, 512))\n",
      "(79, 'conv3_block4_add', (None, 28, 28, 512))\n",
      "(80, 'conv3_block4_out', (None, 28, 28, 512))\n",
      "(81, 'conv4_block1_1_conv', (None, 14, 14, 256))\n",
      "(82, 'conv4_block1_1_bn', (None, 14, 14, 256))\n",
      "(83, 'conv4_block1_1_relu', (None, 14, 14, 256))\n",
      "(84, 'conv4_block1_2_conv', (None, 14, 14, 256))\n",
      "(85, 'conv4_block1_2_bn', (None, 14, 14, 256))\n",
      "(86, 'conv4_block1_2_relu', (None, 14, 14, 256))\n",
      "(87, 'conv4_block1_0_conv', (None, 14, 14, 1024))\n",
      "(88, 'conv4_block1_3_conv', (None, 14, 14, 1024))\n",
      "(89, 'conv4_block1_0_bn', (None, 14, 14, 1024))\n",
      "(90, 'conv4_block1_3_bn', (None, 14, 14, 1024))\n",
      "(91, 'conv4_block1_add', (None, 14, 14, 1024))\n",
      "(92, 'conv4_block1_out', (None, 14, 14, 1024))\n",
      "(93, 'conv4_block2_1_conv', (None, 14, 14, 256))\n",
      "(94, 'conv4_block2_1_bn', (None, 14, 14, 256))\n",
      "(95, 'conv4_block2_1_relu', (None, 14, 14, 256))\n",
      "(96, 'conv4_block2_2_conv', (None, 14, 14, 256))\n",
      "(97, 'conv4_block2_2_bn', (None, 14, 14, 256))\n",
      "(98, 'conv4_block2_2_relu', (None, 14, 14, 256))\n",
      "(99, 'conv4_block2_3_conv', (None, 14, 14, 1024))\n",
      "(100, 'conv4_block2_3_bn', (None, 14, 14, 1024))\n",
      "(101, 'conv4_block2_add', (None, 14, 14, 1024))\n",
      "(102, 'conv4_block2_out', (None, 14, 14, 1024))\n",
      "(103, 'conv4_block3_1_conv', (None, 14, 14, 256))\n",
      "(104, 'conv4_block3_1_bn', (None, 14, 14, 256))\n",
      "(105, 'conv4_block3_1_relu', (None, 14, 14, 256))\n",
      "(106, 'conv4_block3_2_conv', (None, 14, 14, 256))\n",
      "(107, 'conv4_block3_2_bn', (None, 14, 14, 256))\n",
      "(108, 'conv4_block3_2_relu', (None, 14, 14, 256))\n",
      "(109, 'conv4_block3_3_conv', (None, 14, 14, 1024))\n",
      "(110, 'conv4_block3_3_bn', (None, 14, 14, 1024))\n",
      "(111, 'conv4_block3_add', (None, 14, 14, 1024))\n",
      "(112, 'conv4_block3_out', (None, 14, 14, 1024))\n",
      "(113, 'conv4_block4_1_conv', (None, 14, 14, 256))\n",
      "(114, 'conv4_block4_1_bn', (None, 14, 14, 256))\n",
      "(115, 'conv4_block4_1_relu', (None, 14, 14, 256))\n",
      "(116, 'conv4_block4_2_conv', (None, 14, 14, 256))\n",
      "(117, 'conv4_block4_2_bn', (None, 14, 14, 256))\n",
      "(118, 'conv4_block4_2_relu', (None, 14, 14, 256))\n",
      "(119, 'conv4_block4_3_conv', (None, 14, 14, 1024))\n",
      "(120, 'conv4_block4_3_bn', (None, 14, 14, 1024))\n",
      "(121, 'conv4_block4_add', (None, 14, 14, 1024))\n",
      "(122, 'conv4_block4_out', (None, 14, 14, 1024))\n",
      "(123, 'conv4_block5_1_conv', (None, 14, 14, 256))\n",
      "(124, 'conv4_block5_1_bn', (None, 14, 14, 256))\n",
      "(125, 'conv4_block5_1_relu', (None, 14, 14, 256))\n",
      "(126, 'conv4_block5_2_conv', (None, 14, 14, 256))\n",
      "(127, 'conv4_block5_2_bn', (None, 14, 14, 256))\n",
      "(128, 'conv4_block5_2_relu', (None, 14, 14, 256))\n",
      "(129, 'conv4_block5_3_conv', (None, 14, 14, 1024))\n",
      "(130, 'conv4_block5_3_bn', (None, 14, 14, 1024))\n",
      "(131, 'conv4_block5_add', (None, 14, 14, 1024))\n",
      "(132, 'conv4_block5_out', (None, 14, 14, 1024))\n",
      "(133, 'conv4_block6_1_conv', (None, 14, 14, 256))\n",
      "(134, 'conv4_block6_1_bn', (None, 14, 14, 256))\n",
      "(135, 'conv4_block6_1_relu', (None, 14, 14, 256))\n",
      "(136, 'conv4_block6_2_conv', (None, 14, 14, 256))\n",
      "(137, 'conv4_block6_2_bn', (None, 14, 14, 256))\n",
      "(138, 'conv4_block6_2_relu', (None, 14, 14, 256))\n",
      "(139, 'conv4_block6_3_conv', (None, 14, 14, 1024))\n",
      "(140, 'conv4_block6_3_bn', (None, 14, 14, 1024))\n",
      "(141, 'conv4_block6_add', (None, 14, 14, 1024))\n",
      "(142, 'conv4_block6_out', (None, 14, 14, 1024))\n",
      "(143, 'conv5_block1_1_conv', (None, 7, 7, 512))\n",
      "(144, 'conv5_block1_1_bn', (None, 7, 7, 512))\n",
      "(145, 'conv5_block1_1_relu', (None, 7, 7, 512))\n",
      "(146, 'conv5_block1_2_conv', (None, 7, 7, 512))\n",
      "(147, 'conv5_block1_2_bn', (None, 7, 7, 512))\n",
      "(148, 'conv5_block1_2_relu', (None, 7, 7, 512))\n",
      "(149, 'conv5_block1_0_conv', (None, 7, 7, 2048))\n",
      "(150, 'conv5_block1_3_conv', (None, 7, 7, 2048))\n",
      "(151, 'conv5_block1_0_bn', (None, 7, 7, 2048))\n",
      "(152, 'conv5_block1_3_bn', (None, 7, 7, 2048))\n",
      "(153, 'conv5_block1_add', (None, 7, 7, 2048))\n",
      "(154, 'conv5_block1_out', (None, 7, 7, 2048))\n",
      "(155, 'conv5_block2_1_conv', (None, 7, 7, 512))\n",
      "(156, 'conv5_block2_1_bn', (None, 7, 7, 512))\n",
      "(157, 'conv5_block2_1_relu', (None, 7, 7, 512))\n",
      "(158, 'conv5_block2_2_conv', (None, 7, 7, 512))\n",
      "(159, 'conv5_block2_2_bn', (None, 7, 7, 512))\n",
      "(160, 'conv5_block2_2_relu', (None, 7, 7, 512))\n",
      "(161, 'conv5_block2_3_conv', (None, 7, 7, 2048))\n",
      "(162, 'conv5_block2_3_bn', (None, 7, 7, 2048))\n",
      "(163, 'conv5_block2_add', (None, 7, 7, 2048))\n",
      "(164, 'conv5_block2_out', (None, 7, 7, 2048))\n",
      "(165, 'conv5_block3_1_conv', (None, 7, 7, 512))\n",
      "(166, 'conv5_block3_1_bn', (None, 7, 7, 512))\n",
      "(167, 'conv5_block3_1_relu', (None, 7, 7, 512))\n",
      "(168, 'conv5_block3_2_conv', (None, 7, 7, 512))\n",
      "(169, 'conv5_block3_2_bn', (None, 7, 7, 512))\n",
      "(170, 'conv5_block3_2_relu', (None, 7, 7, 512))\n",
      "(171, 'conv5_block3_3_conv', (None, 7, 7, 2048))\n",
      "(172, 'conv5_block3_3_bn', (None, 7, 7, 2048))\n",
      "(173, 'conv5_block3_add', (None, 7, 7, 2048))\n",
      "(174, 'conv5_block3_out', (None, 7, 7, 2048))\n",
      "(175, 'avg_pool', (None, 2048))\n",
      "(176, 'predictions', (None, 1000))\n"
     ]
    }
   ],
   "source": [
    "resnet50modeltop = resnet.ResNet50(include_top=True,\n",
    "                   input_shape=(224,224,3),\n",
    "                   pooling='avg',\n",
    "                   weights='imagenet')\n",
    "\n",
    "for (i,layer) in enumerate(resnet50modeltop.layers):\n",
    "    print((i, layer.name, layer.output_shape))"
   ]
  },
  {
   "cell_type": "code",
   "execution_count": 9,
   "id": "3797cf80",
   "metadata": {
    "scrolled": true
   },
   "outputs": [
    {
     "name": "stdout",
     "output_type": "stream",
     "text": [
      "(0, 'input_2', [(None, 224, 224, 3)], False)\n",
      "(1, 'conv1_pad', (None, 230, 230, 3), False)\n",
      "(2, 'conv1_conv', (None, 112, 112, 64), False)\n",
      "(3, 'conv1_bn', (None, 112, 112, 64), False)\n",
      "(4, 'conv1_relu', (None, 112, 112, 64), False)\n",
      "(5, 'pool1_pad', (None, 114, 114, 64), False)\n",
      "(6, 'pool1_pool', (None, 56, 56, 64), False)\n",
      "(7, 'conv2_block1_1_conv', (None, 56, 56, 64), False)\n",
      "(8, 'conv2_block1_1_bn', (None, 56, 56, 64), False)\n",
      "(9, 'conv2_block1_1_relu', (None, 56, 56, 64), False)\n",
      "(10, 'conv2_block1_2_conv', (None, 56, 56, 64), False)\n",
      "(11, 'conv2_block1_2_bn', (None, 56, 56, 64), False)\n",
      "(12, 'conv2_block1_2_relu', (None, 56, 56, 64), False)\n",
      "(13, 'conv2_block1_0_conv', (None, 56, 56, 256), False)\n",
      "(14, 'conv2_block1_3_conv', (None, 56, 56, 256), False)\n",
      "(15, 'conv2_block1_0_bn', (None, 56, 56, 256), False)\n",
      "(16, 'conv2_block1_3_bn', (None, 56, 56, 256), False)\n",
      "(17, 'conv2_block1_add', (None, 56, 56, 256), False)\n",
      "(18, 'conv2_block1_out', (None, 56, 56, 256), False)\n",
      "(19, 'conv2_block2_1_conv', (None, 56, 56, 64), False)\n",
      "(20, 'conv2_block2_1_bn', (None, 56, 56, 64), False)\n",
      "(21, 'conv2_block2_1_relu', (None, 56, 56, 64), False)\n",
      "(22, 'conv2_block2_2_conv', (None, 56, 56, 64), False)\n",
      "(23, 'conv2_block2_2_bn', (None, 56, 56, 64), False)\n",
      "(24, 'conv2_block2_2_relu', (None, 56, 56, 64), False)\n",
      "(25, 'conv2_block2_3_conv', (None, 56, 56, 256), False)\n",
      "(26, 'conv2_block2_3_bn', (None, 56, 56, 256), False)\n",
      "(27, 'conv2_block2_add', (None, 56, 56, 256), False)\n",
      "(28, 'conv2_block2_out', (None, 56, 56, 256), False)\n",
      "(29, 'conv2_block3_1_conv', (None, 56, 56, 64), False)\n",
      "(30, 'conv2_block3_1_bn', (None, 56, 56, 64), False)\n",
      "(31, 'conv2_block3_1_relu', (None, 56, 56, 64), False)\n",
      "(32, 'conv2_block3_2_conv', (None, 56, 56, 64), False)\n",
      "(33, 'conv2_block3_2_bn', (None, 56, 56, 64), False)\n",
      "(34, 'conv2_block3_2_relu', (None, 56, 56, 64), False)\n",
      "(35, 'conv2_block3_3_conv', (None, 56, 56, 256), False)\n",
      "(36, 'conv2_block3_3_bn', (None, 56, 56, 256), False)\n",
      "(37, 'conv2_block3_add', (None, 56, 56, 256), False)\n",
      "(38, 'conv2_block3_out', (None, 56, 56, 256), False)\n",
      "(39, 'conv3_block1_1_conv', (None, 28, 28, 128), False)\n",
      "(40, 'conv3_block1_1_bn', (None, 28, 28, 128), False)\n",
      "(41, 'conv3_block1_1_relu', (None, 28, 28, 128), False)\n",
      "(42, 'conv3_block1_2_conv', (None, 28, 28, 128), False)\n",
      "(43, 'conv3_block1_2_bn', (None, 28, 28, 128), False)\n",
      "(44, 'conv3_block1_2_relu', (None, 28, 28, 128), False)\n",
      "(45, 'conv3_block1_0_conv', (None, 28, 28, 512), False)\n",
      "(46, 'conv3_block1_3_conv', (None, 28, 28, 512), False)\n",
      "(47, 'conv3_block1_0_bn', (None, 28, 28, 512), False)\n",
      "(48, 'conv3_block1_3_bn', (None, 28, 28, 512), False)\n",
      "(49, 'conv3_block1_add', (None, 28, 28, 512), False)\n",
      "(50, 'conv3_block1_out', (None, 28, 28, 512), False)\n",
      "(51, 'conv3_block2_1_conv', (None, 28, 28, 128), False)\n",
      "(52, 'conv3_block2_1_bn', (None, 28, 28, 128), False)\n",
      "(53, 'conv3_block2_1_relu', (None, 28, 28, 128), False)\n",
      "(54, 'conv3_block2_2_conv', (None, 28, 28, 128), False)\n",
      "(55, 'conv3_block2_2_bn', (None, 28, 28, 128), False)\n",
      "(56, 'conv3_block2_2_relu', (None, 28, 28, 128), False)\n",
      "(57, 'conv3_block2_3_conv', (None, 28, 28, 512), False)\n",
      "(58, 'conv3_block2_3_bn', (None, 28, 28, 512), False)\n",
      "(59, 'conv3_block2_add', (None, 28, 28, 512), False)\n",
      "(60, 'conv3_block2_out', (None, 28, 28, 512), False)\n",
      "(61, 'conv3_block3_1_conv', (None, 28, 28, 128), False)\n",
      "(62, 'conv3_block3_1_bn', (None, 28, 28, 128), False)\n",
      "(63, 'conv3_block3_1_relu', (None, 28, 28, 128), False)\n",
      "(64, 'conv3_block3_2_conv', (None, 28, 28, 128), False)\n",
      "(65, 'conv3_block3_2_bn', (None, 28, 28, 128), False)\n",
      "(66, 'conv3_block3_2_relu', (None, 28, 28, 128), False)\n",
      "(67, 'conv3_block3_3_conv', (None, 28, 28, 512), False)\n",
      "(68, 'conv3_block3_3_bn', (None, 28, 28, 512), False)\n",
      "(69, 'conv3_block3_add', (None, 28, 28, 512), False)\n",
      "(70, 'conv3_block3_out', (None, 28, 28, 512), False)\n",
      "(71, 'conv3_block4_1_conv', (None, 28, 28, 128), False)\n",
      "(72, 'conv3_block4_1_bn', (None, 28, 28, 128), False)\n",
      "(73, 'conv3_block4_1_relu', (None, 28, 28, 128), False)\n",
      "(74, 'conv3_block4_2_conv', (None, 28, 28, 128), False)\n",
      "(75, 'conv3_block4_2_bn', (None, 28, 28, 128), False)\n",
      "(76, 'conv3_block4_2_relu', (None, 28, 28, 128), False)\n",
      "(77, 'conv3_block4_3_conv', (None, 28, 28, 512), False)\n",
      "(78, 'conv3_block4_3_bn', (None, 28, 28, 512), False)\n",
      "(79, 'conv3_block4_add', (None, 28, 28, 512), False)\n",
      "(80, 'conv3_block4_out', (None, 28, 28, 512), False)\n",
      "(81, 'conv4_block1_1_conv', (None, 14, 14, 256), False)\n",
      "(82, 'conv4_block1_1_bn', (None, 14, 14, 256), False)\n",
      "(83, 'conv4_block1_1_relu', (None, 14, 14, 256), False)\n",
      "(84, 'conv4_block1_2_conv', (None, 14, 14, 256), False)\n",
      "(85, 'conv4_block1_2_bn', (None, 14, 14, 256), False)\n",
      "(86, 'conv4_block1_2_relu', (None, 14, 14, 256), False)\n",
      "(87, 'conv4_block1_0_conv', (None, 14, 14, 1024), False)\n",
      "(88, 'conv4_block1_3_conv', (None, 14, 14, 1024), False)\n",
      "(89, 'conv4_block1_0_bn', (None, 14, 14, 1024), False)\n",
      "(90, 'conv4_block1_3_bn', (None, 14, 14, 1024), False)\n",
      "(91, 'conv4_block1_add', (None, 14, 14, 1024), False)\n",
      "(92, 'conv4_block1_out', (None, 14, 14, 1024), False)\n",
      "(93, 'conv4_block2_1_conv', (None, 14, 14, 256), False)\n",
      "(94, 'conv4_block2_1_bn', (None, 14, 14, 256), False)\n",
      "(95, 'conv4_block2_1_relu', (None, 14, 14, 256), False)\n",
      "(96, 'conv4_block2_2_conv', (None, 14, 14, 256), False)\n",
      "(97, 'conv4_block2_2_bn', (None, 14, 14, 256), False)\n",
      "(98, 'conv4_block2_2_relu', (None, 14, 14, 256), False)\n",
      "(99, 'conv4_block2_3_conv', (None, 14, 14, 1024), False)\n",
      "(100, 'conv4_block2_3_bn', (None, 14, 14, 1024), False)\n",
      "(101, 'conv4_block2_add', (None, 14, 14, 1024), False)\n",
      "(102, 'conv4_block2_out', (None, 14, 14, 1024), False)\n",
      "(103, 'conv4_block3_1_conv', (None, 14, 14, 256), False)\n",
      "(104, 'conv4_block3_1_bn', (None, 14, 14, 256), False)\n",
      "(105, 'conv4_block3_1_relu', (None, 14, 14, 256), False)\n",
      "(106, 'conv4_block3_2_conv', (None, 14, 14, 256), False)\n",
      "(107, 'conv4_block3_2_bn', (None, 14, 14, 256), False)\n",
      "(108, 'conv4_block3_2_relu', (None, 14, 14, 256), False)\n",
      "(109, 'conv4_block3_3_conv', (None, 14, 14, 1024), False)\n",
      "(110, 'conv4_block3_3_bn', (None, 14, 14, 1024), False)\n",
      "(111, 'conv4_block3_add', (None, 14, 14, 1024), False)\n",
      "(112, 'conv4_block3_out', (None, 14, 14, 1024), False)\n",
      "(113, 'conv4_block4_1_conv', (None, 14, 14, 256), False)\n",
      "(114, 'conv4_block4_1_bn', (None, 14, 14, 256), False)\n",
      "(115, 'conv4_block4_1_relu', (None, 14, 14, 256), False)\n",
      "(116, 'conv4_block4_2_conv', (None, 14, 14, 256), False)\n",
      "(117, 'conv4_block4_2_bn', (None, 14, 14, 256), False)\n",
      "(118, 'conv4_block4_2_relu', (None, 14, 14, 256), False)\n",
      "(119, 'conv4_block4_3_conv', (None, 14, 14, 1024), False)\n",
      "(120, 'conv4_block4_3_bn', (None, 14, 14, 1024), False)\n",
      "(121, 'conv4_block4_add', (None, 14, 14, 1024), False)\n",
      "(122, 'conv4_block4_out', (None, 14, 14, 1024), False)\n",
      "(123, 'conv4_block5_1_conv', (None, 14, 14, 256), False)\n",
      "(124, 'conv4_block5_1_bn', (None, 14, 14, 256), False)\n",
      "(125, 'conv4_block5_1_relu', (None, 14, 14, 256), False)\n",
      "(126, 'conv4_block5_2_conv', (None, 14, 14, 256), False)\n",
      "(127, 'conv4_block5_2_bn', (None, 14, 14, 256), False)\n",
      "(128, 'conv4_block5_2_relu', (None, 14, 14, 256), False)\n",
      "(129, 'conv4_block5_3_conv', (None, 14, 14, 1024), False)\n",
      "(130, 'conv4_block5_3_bn', (None, 14, 14, 1024), False)\n",
      "(131, 'conv4_block5_add', (None, 14, 14, 1024), False)\n",
      "(132, 'conv4_block5_out', (None, 14, 14, 1024), False)\n",
      "(133, 'conv4_block6_1_conv', (None, 14, 14, 256), False)\n",
      "(134, 'conv4_block6_1_bn', (None, 14, 14, 256), False)\n",
      "(135, 'conv4_block6_1_relu', (None, 14, 14, 256), False)\n",
      "(136, 'conv4_block6_2_conv', (None, 14, 14, 256), False)\n",
      "(137, 'conv4_block6_2_bn', (None, 14, 14, 256), False)\n",
      "(138, 'conv4_block6_2_relu', (None, 14, 14, 256), False)\n",
      "(139, 'conv4_block6_3_conv', (None, 14, 14, 1024), False)\n",
      "(140, 'conv4_block6_3_bn', (None, 14, 14, 1024), False)\n",
      "(141, 'conv4_block6_add', (None, 14, 14, 1024), False)\n",
      "(142, 'conv4_block6_out', (None, 14, 14, 1024), False)\n",
      "(143, 'conv5_block1_1_conv', (None, 7, 7, 512), False)\n",
      "(144, 'conv5_block1_1_bn', (None, 7, 7, 512), False)\n",
      "(145, 'conv5_block1_1_relu', (None, 7, 7, 512), False)\n",
      "(146, 'conv5_block1_2_conv', (None, 7, 7, 512), False)\n",
      "(147, 'conv5_block1_2_bn', (None, 7, 7, 512), False)\n",
      "(148, 'conv5_block1_2_relu', (None, 7, 7, 512), False)\n",
      "(149, 'conv5_block1_0_conv', (None, 7, 7, 2048), False)\n",
      "(150, 'conv5_block1_3_conv', (None, 7, 7, 2048), False)\n",
      "(151, 'conv5_block1_0_bn', (None, 7, 7, 2048), False)\n",
      "(152, 'conv5_block1_3_bn', (None, 7, 7, 2048), False)\n",
      "(153, 'conv5_block1_add', (None, 7, 7, 2048), False)\n",
      "(154, 'conv5_block1_out', (None, 7, 7, 2048), False)\n",
      "(155, 'conv5_block2_1_conv', (None, 7, 7, 512), False)\n",
      "(156, 'conv5_block2_1_bn', (None, 7, 7, 512), False)\n",
      "(157, 'conv5_block2_1_relu', (None, 7, 7, 512), False)\n",
      "(158, 'conv5_block2_2_conv', (None, 7, 7, 512), False)\n",
      "(159, 'conv5_block2_2_bn', (None, 7, 7, 512), False)\n",
      "(160, 'conv5_block2_2_relu', (None, 7, 7, 512), False)\n",
      "(161, 'conv5_block2_3_conv', (None, 7, 7, 2048), False)\n",
      "(162, 'conv5_block2_3_bn', (None, 7, 7, 2048), False)\n",
      "(163, 'conv5_block2_add', (None, 7, 7, 2048), False)\n",
      "(164, 'conv5_block2_out', (None, 7, 7, 2048), False)\n",
      "(165, 'conv5_block3_1_conv', (None, 7, 7, 512), False)\n",
      "(166, 'conv5_block3_1_bn', (None, 7, 7, 512), False)\n",
      "(167, 'conv5_block3_1_relu', (None, 7, 7, 512), False)\n",
      "(168, 'conv5_block3_2_conv', (None, 7, 7, 512), False)\n",
      "(169, 'conv5_block3_2_bn', (None, 7, 7, 512), False)\n",
      "(170, 'conv5_block3_2_relu', (None, 7, 7, 512), False)\n",
      "(171, 'conv5_block3_3_conv', (None, 7, 7, 2048), False)\n",
      "(172, 'conv5_block3_3_bn', (None, 7, 7, 2048), False)\n",
      "(173, 'conv5_block3_add', (None, 7, 7, 2048), False)\n",
      "(174, 'conv5_block3_out', (None, 7, 7, 2048), False)\n",
      "(175, 'avg_pool', (None, 2048), False)\n"
     ]
    }
   ],
   "source": [
    "resnet50model = resnet.ResNet50(include_top=False,\n",
    "                   input_shape=(224,224,3),\n",
    "                   pooling='avg',classes=15,\n",
    "                   weights='imagenet')\n",
    "\n",
    "    \n",
    "for (i,layer) in enumerate(resnet50model.layers):\n",
    "    layer.trainable = False\n",
    "    print((i, layer.name, layer.output_shape, layer.trainable))"
   ]
  },
  {
   "cell_type": "code",
   "execution_count": 10,
   "id": "52ce4885",
   "metadata": {},
   "outputs": [
    {
     "name": "stdout",
     "output_type": "stream",
     "text": [
      "Model: \"sequential\"\n",
      "_________________________________________________________________\n",
      " Layer (type)                Output Shape              Param #   \n",
      "=================================================================\n",
      " resnet50 (Functional)       (None, 2048)              23587712  \n",
      "                                                                 \n",
      " flatten (Flatten)           (None, 2048)              0         \n",
      "                                                                 \n",
      " dense (Dense)               (None, 32)                65568     \n",
      "                                                                 \n",
      " dense_1 (Dense)             (None, 15)                495       \n",
      "                                                                 \n",
      "=================================================================\n",
      "Total params: 23,653,775\n",
      "Trainable params: 66,063\n",
      "Non-trainable params: 23,587,712\n",
      "_________________________________________________________________\n"
     ]
    }
   ],
   "source": [
    "model = models.Sequential()\n",
    "\n",
    "flatten = Flatten()  # adding Flatten Layer\n",
    "dense_layer_1 = Dense(32, activation='relu')  # Adding a Dense layer\n",
    "prediction_layer = Dense(15, activation='softmax')\n",
    "\n",
    "model.add(resnet50model)\n",
    "model.add(flatten)\n",
    "model.add(dense_layer_1)\n",
    "model.add(prediction_layer)\n",
    "\n",
    "model.summary()"
   ]
  },
  {
   "cell_type": "code",
   "execution_count": 11,
   "id": "557b39a3",
   "metadata": {},
   "outputs": [],
   "source": [
    "model.compile(\n",
    "    optimizer='adam',\n",
    "    loss='categorical_crossentropy',\n",
    "    metrics=['accuracy'],\n",
    ")"
   ]
  },
  {
   "cell_type": "code",
   "execution_count": 12,
   "id": "0bba864d",
   "metadata": {},
   "outputs": [],
   "source": [
    "model.save(\"./models/action-class-15-resnet50.h5\")"
   ]
  },
  {
   "cell_type": "code",
   "execution_count": 13,
   "id": "0c496777",
   "metadata": {
    "scrolled": false
   },
   "outputs": [
    {
     "name": "stdout",
     "output_type": "stream",
     "text": [
      "Epoch 1/20\n"
     ]
    },
    {
     "name": "stderr",
     "output_type": "stream",
     "text": [
      "2022-08-31 16:27:16.140097: I tensorflow/stream_executor/cuda/cuda_dnn.cc:384] Loaded cuDNN version 8401\n",
      "2022-08-31 16:27:17.618666: I tensorflow/core/platform/default/subprocess.cc:304] Start cannot spawn child process: No such file or directory\n"
     ]
    },
    {
     "name": "stdout",
     "output_type": "stream",
     "text": [
      "377/377 [==============================] - 56s 126ms/step - loss: 0.3637 - accuracy: 0.9044 - val_loss: 0.2988 - val_accuracy: 0.9143\n",
      "Epoch 2/20\n",
      "377/377 [==============================] - 41s 110ms/step - loss: 0.0325 - accuracy: 0.9942 - val_loss: 0.3690 - val_accuracy: 0.8994\n",
      "Epoch 3/20\n",
      "377/377 [==============================] - 42s 112ms/step - loss: 0.0089 - accuracy: 0.9997 - val_loss: 0.2462 - val_accuracy: 0.9208\n",
      "Epoch 4/20\n",
      "377/377 [==============================] - 51s 136ms/step - loss: 0.0038 - accuracy: 1.0000 - val_loss: 0.2743 - val_accuracy: 0.9218\n",
      "Epoch 5/20\n",
      "377/377 [==============================] - 58s 154ms/step - loss: 0.0024 - accuracy: 1.0000 - val_loss: 0.2799 - val_accuracy: 0.9261\n",
      "Epoch 6/20\n",
      "377/377 [==============================] - 77s 204ms/step - loss: 0.0015 - accuracy: 1.0000 - val_loss: 0.2832 - val_accuracy: 0.9251\n",
      "Epoch 7/20\n",
      "377/377 [==============================] - 73s 193ms/step - loss: 0.0011 - accuracy: 1.0000 - val_loss: 0.2824 - val_accuracy: 0.9293\n",
      "Epoch 8/20\n",
      "377/377 [==============================] - 79s 209ms/step - loss: 8.2758e-04 - accuracy: 1.0000 - val_loss: 0.2772 - val_accuracy: 0.9315\n",
      "Epoch 9/20\n",
      "377/377 [==============================] - 77s 203ms/step - loss: 6.3000e-04 - accuracy: 1.0000 - val_loss: 0.2924 - val_accuracy: 0.9283\n",
      "Epoch 10/20\n",
      "377/377 [==============================] - 83s 219ms/step - loss: 4.9511e-04 - accuracy: 1.0000 - val_loss: 0.2899 - val_accuracy: 0.9336\n",
      "Epoch 11/20\n",
      "377/377 [==============================] - 80s 213ms/step - loss: 3.8374e-04 - accuracy: 1.0000 - val_loss: 0.3002 - val_accuracy: 0.9261\n",
      "Epoch 12/20\n",
      "377/377 [==============================] - 80s 211ms/step - loss: 3.0551e-04 - accuracy: 1.0000 - val_loss: 0.2892 - val_accuracy: 0.9315\n",
      "Epoch 13/20\n",
      "377/377 [==============================] - 83s 220ms/step - loss: 2.3718e-04 - accuracy: 1.0000 - val_loss: 0.2887 - val_accuracy: 0.9293\n",
      "Epoch 14/20\n",
      "377/377 [==============================] - 74s 195ms/step - loss: 1.9346e-04 - accuracy: 1.0000 - val_loss: 0.3030 - val_accuracy: 0.9315\n",
      "Epoch 15/20\n",
      "377/377 [==============================] - 80s 214ms/step - loss: 1.5707e-04 - accuracy: 1.0000 - val_loss: 0.3038 - val_accuracy: 0.9315\n",
      "Epoch 16/20\n",
      "377/377 [==============================] - 80s 212ms/step - loss: 1.2265e-04 - accuracy: 1.0000 - val_loss: 0.3095 - val_accuracy: 0.9293\n",
      "Epoch 17/20\n",
      "377/377 [==============================] - 73s 194ms/step - loss: 1.0048e-04 - accuracy: 1.0000 - val_loss: 0.2942 - val_accuracy: 0.9315\n",
      "Epoch 18/20\n",
      "377/377 [==============================] - 74s 195ms/step - loss: 8.0115e-05 - accuracy: 1.0000 - val_loss: 0.3129 - val_accuracy: 0.9293\n",
      "Epoch 19/20\n",
      "377/377 [==============================] - 62s 165ms/step - loss: 6.5001e-05 - accuracy: 1.0000 - val_loss: 0.3129 - val_accuracy: 0.9304\n",
      "Epoch 20/20\n",
      "377/377 [==============================] - 60s 158ms/step - loss: 5.2101e-05 - accuracy: 1.0000 - val_loss: 0.3133 - val_accuracy: 0.9336\n"
     ]
    }
   ],
   "source": [
    "fit = model.fit(train_batches, epochs=20, validation_data=validation_batches)"
   ]
  },
  {
   "cell_type": "code",
   "execution_count": 14,
   "id": "b2d29746",
   "metadata": {},
   "outputs": [],
   "source": [
    "model.save(\"./models/action-class-15-trained-resnet50.h5\")"
   ]
  },
  {
   "cell_type": "markdown",
   "id": "156ea49e",
   "metadata": {},
   "source": [
    "## Evaluate and Predict"
   ]
  },
  {
   "cell_type": "code",
   "execution_count": 15,
   "id": "7d14ce5f",
   "metadata": {},
   "outputs": [
    {
     "name": "stdout",
     "output_type": "stream",
     "text": [
      "Model: \"sequential\"\n",
      "_________________________________________________________________\n",
      " Layer (type)                Output Shape              Param #   \n",
      "=================================================================\n",
      " resnet50 (Functional)       (None, 2048)              23587712  \n",
      "                                                                 \n",
      " flatten (Flatten)           (None, 2048)              0         \n",
      "                                                                 \n",
      " dense (Dense)               (None, 32)                65568     \n",
      "                                                                 \n",
      " dense_1 (Dense)             (None, 15)                495       \n",
      "                                                                 \n",
      "=================================================================\n",
      "Total params: 23,653,775\n",
      "Trainable params: 66,063\n",
      "Non-trainable params: 23,587,712\n",
      "_________________________________________________________________\n"
     ]
    }
   ],
   "source": [
    "model = models.load_model(\"./models/action-class-15-trained-resnet50.h5\")\n",
    "model.summary()"
   ]
  },
  {
   "cell_type": "code",
   "execution_count": 16,
   "id": "fcae2848",
   "metadata": {},
   "outputs": [
    {
     "name": "stdout",
     "output_type": "stream",
     "text": [
      "94/94 [==============================] - 10s 92ms/step - loss: 0.3133 - accuracy: 0.9336\n"
     ]
    },
    {
     "data": {
      "text/plain": [
       "[0.31331899762153625, 0.9336188435554504]"
      ]
     },
     "execution_count": 16,
     "metadata": {},
     "output_type": "execute_result"
    }
   ],
   "source": [
    "model.evaluate(test_batches)"
   ]
  },
  {
   "cell_type": "code",
   "execution_count": 17,
   "id": "fc0d3e51",
   "metadata": {},
   "outputs": [
    {
     "data": {
      "image/png": "[encoded data removed]",
      "text/plain": [
       "<Figure size 432x288 with 1 Axes>"
      ]
     },
     "metadata": {},
     "output_type": "display_data"
    },
    {
     "data": {
      "image/png": "[encoded data removed]",
      "text/plain": [
       "<Figure size 432x288 with 1 Axes>"
      ]
     },
     "metadata": {},
     "output_type": "display_data"
    }
   ],
   "source": [
    "plt.style.use(\"ggplot\")\n",
    "plt.figure()\n",
    "\n",
    "plt.plot(np.arange(0, 20), fit.history[\"loss\"], label=\"train_loss\")\n",
    "plt.plot(np.arange(0, 20), fit.history[\"val_loss\"], label=\"val_loss\")\n",
    "plt.title(\"Training Loss\")\n",
    "plt.xlabel(\"Epoch #\")\n",
    "plt.ylabel(\"Loss\")\n",
    "plt.legend(loc=\"lower left\")\n",
    "plt.show()\n",
    "\n",
    "plt.plot(np.arange(0, 20), fit.history[\"accuracy\"], label=\"train_acc\")\n",
    "plt.plot(np.arange(0, 20), fit.history[\"val_accuracy\"], label=\"val_acc\")\n",
    "plt.title(\"Accuracy\")\n",
    "plt.xlabel(\"Epoch #\")\n",
    "plt.ylabel(\"Accuracy\")\n",
    "plt.legend(loc=\"lower left\")\n",
    "plt.show()"
   ]
  },
  {
   "cell_type": "code",
   "execution_count": 18,
   "id": "93750687",
   "metadata": {},
   "outputs": [
    {
     "name": "stdout",
     "output_type": "stream",
     "text": [
      "Avg Val Acc: 92.67130583524704\n",
      "Avg Val Loss: 29.605583623051647\n"
     ]
    }
   ],
   "source": [
    "print(\"Avg Val Acc: \" + str(sum(fit.history[\"val_accuracy\"])/20*100))\n",
    "print(\"Avg Val Loss: \" + str(sum(fit.history[\"val_loss\"])/20*100))"
   ]
  }
 ],
 "metadata": {
  "kernelspec": {
   "display_name": "Python 3 (ipykernel)",
   "language": "python",
   "name": "python3"
  },
  "language_info": {
   "codemirror_mode": {
    "name": "ipython",
    "version": 3
   },
   "file_extension": ".py",
   "mimetype": "text/x-python",
   "name": "python",
   "nbconvert_exporter": "python",
   "pygments_lexer": "ipython3",
   "version": "3.10.4"
  }
 },
 "nbformat": 4,
 "nbformat_minor": 5
}
