{
 "cells": [
  {
   "cell_type": "markdown",
   "id": "ab025bf5",
   "metadata": {},
   "source": [
    "# VGG-16 Model"
   ]
  },
  {
   "cell_type": "markdown",
   "id": "45dd6033",
   "metadata": {},
   "source": [
    "### <u>Action Classes - 5</u>"
   ]
  },
  {
   "cell_type": "code",
   "execution_count": 1,
   "id": "d442044a",
   "metadata": {},
   "outputs": [],
   "source": [
    "from keras import models\n",
    "from keras.layers import Dense,Flatten\n",
    "from keras import backend as K\n",
    "import numpy as np\n",
    "import matplotlib.pyplot as plt\n",
    "\n",
    "from keras.applications import vgg16"
   ]
  },
  {
   "cell_type": "code",
   "execution_count": 2,
   "id": "aaa4be4f",
   "metadata": {},
   "outputs": [
    {
     "name": "stdout",
     "output_type": "stream",
     "text": [
      "Num GPUs Available:  1\n"
     ]
    },
    {
     "name": "stderr",
     "output_type": "stream",
     "text": [
      "2022-08-25 22:55:33.765584: I tensorflow/stream_executor/cuda/cuda_gpu_executor.cc:975] successful NUMA node read from SysFS had negative value (-1), but there must be at least one NUMA node, so returning NUMA node zero\n",
      "2022-08-25 22:55:33.881975: I tensorflow/stream_executor/cuda/cuda_gpu_executor.cc:975] successful NUMA node read from SysFS had negative value (-1), but there must be at least one NUMA node, so returning NUMA node zero\n",
      "2022-08-25 22:55:33.882232: I tensorflow/stream_executor/cuda/cuda_gpu_executor.cc:975] successful NUMA node read from SysFS had negative value (-1), but there must be at least one NUMA node, so returning NUMA node zero\n"
     ]
    }
   ],
   "source": [
    "import tensorflow as tf\n",
    "print(\"Num GPUs Available: \", len(tf.config.list_physical_devices('GPU')))"
   ]
  },
  {
   "cell_type": "markdown",
   "id": "8b671d8b",
   "metadata": {},
   "source": [
    "<img src='https://miro.medium.com/max/1400/1*NNifzsJ7tD2kAfBXt3AzEg.png'>"
   ]
  },
  {
   "cell_type": "markdown",
   "id": "83d2138a",
   "metadata": {},
   "source": [
    "## Dataset"
   ]
  },
  {
   "cell_type": "code",
   "execution_count": 3,
   "id": "8da02113",
   "metadata": {},
   "outputs": [],
   "source": [
    "from keras.preprocessing.image import ImageDataGenerator\n",
    "\n",
    "dataset_path = \"./frames/\"\n",
    "# will contain the categories in respective folders\n",
    "\n",
    "# Data generators\n",
    "train_datagen = ImageDataGenerator(rescale=1/255, validation_split=0.2)\n"
   ]
  },
  {
   "cell_type": "code",
   "execution_count": 4,
   "id": "929e061f",
   "metadata": {},
   "outputs": [
    {
     "name": "stdout",
     "output_type": "stream",
     "text": [
      "Found 1546 images belonging to 5 classes.\n",
      "Found 384 images belonging to 5 classes.\n",
      "Found 384 images belonging to 5 classes.\n"
     ]
    }
   ],
   "source": [
    "image_size = (224,224)\n",
    "batch_size = 10\n",
    "\n",
    "train_batches = train_datagen.flow_from_directory(\n",
    "    dataset_path,\n",
    "    target_size = image_size,\n",
    "    batch_size = batch_size,\n",
    "    class_mode = \"categorical\",\n",
    "    subset = \"training\"\n",
    ")\n",
    "\n",
    "validation_batches = train_datagen.flow_from_directory(\n",
    "    dataset_path,\n",
    "    target_size = image_size,\n",
    "    batch_size = batch_size,\n",
    "    class_mode = \"categorical\",\n",
    "    subset = \"validation\"\n",
    ")\n",
    "\n",
    "test_batches = train_datagen.flow_from_directory(\n",
    "    dataset_path,\n",
    "    target_size = image_size,\n",
    "    batch_size = batch_size,\n",
    "    class_mode = \"categorical\",\n",
    "    subset = \"validation\"\n",
    ")"
   ]
  },
  {
   "cell_type": "code",
   "execution_count": 5,
   "id": "2ceee3f1",
   "metadata": {},
   "outputs": [
    {
     "data": {
      "text/plain": [
       "{'ApplyLipstick': 0,\n",
       " 'Biking': 1,\n",
       " 'Kayaking': 2,\n",
       " 'ShavingBeard': 3,\n",
       " 'TennisSwing': 4}"
      ]
     },
     "execution_count": 5,
     "metadata": {},
     "output_type": "execute_result"
    }
   ],
   "source": [
    "train_batches.class_indices"
   ]
  },
  {
   "cell_type": "code",
   "execution_count": 6,
   "id": "8ed06cd8",
   "metadata": {},
   "outputs": [],
   "source": [
    "from matplotlib import pyplot as plt\n",
    "\n",
    "def plot_images(images_arr):\n",
    "    fig, axes = plt.subplots(1,10)\n",
    "    axes = axes.flatten()\n",
    "    for img, ax in zip(images_arr, axes):\n",
    "        ax.imshow(img)\n",
    "        ax.axis('off')\n",
    "    plt.tight_layout()\n",
    "    plt.show()"
   ]
  },
  {
   "cell_type": "code",
   "execution_count": 7,
   "id": "ae1ce8b5",
   "metadata": {},
   "outputs": [
    {
     "data": {
      "image/png": "[encoded data removed]",
      "text/plain": [
       "<Figure size 432x288 with 10 Axes>"
      ]
     },
     "metadata": {
      "needs_background": "light"
     },
     "output_type": "display_data"
    },
    {
     "name": "stdout",
     "output_type": "stream",
     "text": [
      "[[0. 0. 0. 1. 0.]\n",
      " [0. 0. 0. 1. 0.]\n",
      " [0. 0. 0. 1. 0.]\n",
      " [0. 1. 0. 0. 0.]\n",
      " [0. 1. 0. 0. 0.]\n",
      " [0. 1. 0. 0. 0.]\n",
      " [1. 0. 0. 0. 0.]\n",
      " [0. 0. 0. 1. 0.]\n",
      " [0. 0. 0. 1. 0.]\n",
      " [1. 0. 0. 0. 0.]]\n"
     ]
    }
   ],
   "source": [
    "imgs, labels = train_batches[0]\n",
    "plot_images(imgs)\n",
    "print(labels[:10])"
   ]
  },
  {
   "cell_type": "code",
   "execution_count": 8,
   "id": "0ce80e18",
   "metadata": {
    "scrolled": false
   },
   "outputs": [
    {
     "name": "stderr",
     "output_type": "stream",
     "text": [
      "2022-08-25 22:55:35.024697: I tensorflow/core/platform/cpu_feature_guard.cc:193] This TensorFlow binary is optimized with oneAPI Deep Neural Network Library (oneDNN) to use the following CPU instructions in performance-critical operations:  AVX2 FMA\n",
      "To enable them in other operations, rebuild TensorFlow with the appropriate compiler flags.\n",
      "2022-08-25 22:55:35.025857: I tensorflow/stream_executor/cuda/cuda_gpu_executor.cc:975] successful NUMA node read from SysFS had negative value (-1), but there must be at least one NUMA node, so returning NUMA node zero\n",
      "2022-08-25 22:55:35.026183: I tensorflow/stream_executor/cuda/cuda_gpu_executor.cc:975] successful NUMA node read from SysFS had negative value (-1), but there must be at least one NUMA node, so returning NUMA node zero\n",
      "2022-08-25 22:55:35.026463: I tensorflow/stream_executor/cuda/cuda_gpu_executor.cc:975] successful NUMA node read from SysFS had negative value (-1), but there must be at least one NUMA node, so returning NUMA node zero\n",
      "2022-08-25 22:55:36.156319: I tensorflow/stream_executor/cuda/cuda_gpu_executor.cc:975] successful NUMA node read from SysFS had negative value (-1), but there must be at least one NUMA node, so returning NUMA node zero\n",
      "2022-08-25 22:55:36.156469: I tensorflow/stream_executor/cuda/cuda_gpu_executor.cc:975] successful NUMA node read from SysFS had negative value (-1), but there must be at least one NUMA node, so returning NUMA node zero\n",
      "2022-08-25 22:55:36.156582: I tensorflow/stream_executor/cuda/cuda_gpu_executor.cc:975] successful NUMA node read from SysFS had negative value (-1), but there must be at least one NUMA node, so returning NUMA node zero\n",
      "2022-08-25 22:55:36.156683: I tensorflow/core/common_runtime/gpu/gpu_device.cc:1532] Created device /job:localhost/replica:0/task:0/device:GPU:0 with 3368 MB memory:  -> device: 0, name: NVIDIA GeForce GTX 1050 Ti, pci bus id: 0000:01:00.0, compute capability: 6.1\n"
     ]
    },
    {
     "name": "stdout",
     "output_type": "stream",
     "text": [
      "(0, 'input_1', [(None, 224, 224, 3)])\n",
      "(1, 'block1_conv1', (None, 224, 224, 64))\n",
      "(2, 'block1_conv2', (None, 224, 224, 64))\n",
      "(3, 'block1_pool', (None, 112, 112, 64))\n",
      "(4, 'block2_conv1', (None, 112, 112, 128))\n",
      "(5, 'block2_conv2', (None, 112, 112, 128))\n",
      "(6, 'block2_pool', (None, 56, 56, 128))\n",
      "(7, 'block3_conv1', (None, 56, 56, 256))\n",
      "(8, 'block3_conv2', (None, 56, 56, 256))\n",
      "(9, 'block3_conv3', (None, 56, 56, 256))\n",
      "(10, 'block3_pool', (None, 28, 28, 256))\n",
      "(11, 'block4_conv1', (None, 28, 28, 512))\n",
      "(12, 'block4_conv2', (None, 28, 28, 512))\n",
      "(13, 'block4_conv3', (None, 28, 28, 512))\n",
      "(14, 'block4_pool', (None, 14, 14, 512))\n",
      "(15, 'block5_conv1', (None, 14, 14, 512))\n",
      "(16, 'block5_conv2', (None, 14, 14, 512))\n",
      "(17, 'block5_conv3', (None, 14, 14, 512))\n",
      "(18, 'block5_pool', (None, 7, 7, 512))\n",
      "(19, 'flatten', (None, 25088))\n",
      "(20, 'fc1', (None, 4096))\n",
      "(21, 'fc2', (None, 4096))\n",
      "(22, 'predictions', (None, 1000))\n"
     ]
    }
   ],
   "source": [
    "vggmodeltop = vgg16.VGG16(include_top=True,\n",
    "                   input_shape=(224,224,3),\n",
    "                   pooling='avg',\n",
    "                   weights='imagenet')\n",
    "\n",
    "for (i,layer) in enumerate(vggmodeltop.layers):\n",
    "    layer.trainable = False\n",
    "    print((i, layer.name, layer.output_shape))"
   ]
  },
  {
   "cell_type": "code",
   "execution_count": 9,
   "id": "79756509",
   "metadata": {},
   "outputs": [
    {
     "name": "stdout",
     "output_type": "stream",
     "text": [
      "(0, 'input_2', [(None, 224, 224, 3)])\n",
      "(1, 'block1_conv1', (None, 224, 224, 64))\n",
      "(2, 'block1_conv2', (None, 224, 224, 64))\n",
      "(3, 'block1_pool', (None, 112, 112, 64))\n",
      "(4, 'block2_conv1', (None, 112, 112, 128))\n",
      "(5, 'block2_conv2', (None, 112, 112, 128))\n",
      "(6, 'block2_pool', (None, 56, 56, 128))\n",
      "(7, 'block3_conv1', (None, 56, 56, 256))\n",
      "(8, 'block3_conv2', (None, 56, 56, 256))\n",
      "(9, 'block3_conv3', (None, 56, 56, 256))\n",
      "(10, 'block3_pool', (None, 28, 28, 256))\n",
      "(11, 'block4_conv1', (None, 28, 28, 512))\n",
      "(12, 'block4_conv2', (None, 28, 28, 512))\n",
      "(13, 'block4_conv3', (None, 28, 28, 512))\n",
      "(14, 'block4_pool', (None, 14, 14, 512))\n",
      "(15, 'block5_conv1', (None, 14, 14, 512))\n",
      "(16, 'block5_conv2', (None, 14, 14, 512))\n",
      "(17, 'block5_conv3', (None, 14, 14, 512))\n",
      "(18, 'block5_pool', (None, 7, 7, 512))\n",
      "(19, 'global_average_pooling2d', (None, 512))\n"
     ]
    }
   ],
   "source": [
    "vggmodel = vgg16.VGG16(include_top=False,\n",
    "                   input_shape=(224,224,3),\n",
    "                   pooling='avg',classes=5,\n",
    "                   weights='imagenet')\n",
    "\n",
    "for (i,layer) in enumerate(vggmodel.layers):\n",
    "    layer.trainable = False\n",
    "    print((i, layer.name, layer.output_shape))"
   ]
  },
  {
   "cell_type": "code",
   "execution_count": 10,
   "id": "d4f668af",
   "metadata": {},
   "outputs": [
    {
     "name": "stdout",
     "output_type": "stream",
     "text": [
      "Model: \"sequential\"\n",
      "_________________________________________________________________\n",
      " Layer (type)                Output Shape              Param #   \n",
      "=================================================================\n",
      " vgg16 (Functional)          (None, 512)               14714688  \n",
      "                                                                 \n",
      " dense (Dense)               (None, 32)                16416     \n",
      "                                                                 \n",
      " dense_1 (Dense)             (None, 32)                1056      \n",
      "                                                                 \n",
      " dense_2 (Dense)             (None, 5)                 165       \n",
      "                                                                 \n",
      "=================================================================\n",
      "Total params: 14,732,325\n",
      "Trainable params: 17,637\n",
      "Non-trainable params: 14,714,688\n",
      "_________________________________________________________________\n"
     ]
    }
   ],
   "source": [
    "model = models.Sequential()\n",
    "\n",
    "dense_layer_1 = Dense(32, activation='relu')\n",
    "dense_layer_2 = Dense(32, activation='relu')\n",
    "prediction_layer = Dense(5, activation='softmax')\n",
    "\n",
    "model.add(vggmodel)\n",
    "model.add(dense_layer_1)\n",
    "model.add(dense_layer_2)\n",
    "model.add(prediction_layer)\n",
    "\n",
    "model.summary()"
   ]
  },
  {
   "cell_type": "code",
   "execution_count": 11,
   "id": "557b39a3",
   "metadata": {},
   "outputs": [],
   "source": [
    "model.compile(\n",
    "    optimizer='adam',\n",
    "    loss='categorical_crossentropy',\n",
    "    metrics=['accuracy'],\n",
    ")"
   ]
  },
  {
   "cell_type": "code",
   "execution_count": 12,
   "id": "0bba864d",
   "metadata": {},
   "outputs": [],
   "source": [
    "model.save(\"./models/action-class-05-vgg16.h5\")"
   ]
  },
  {
   "cell_type": "code",
   "execution_count": 13,
   "id": "0c496777",
   "metadata": {
    "scrolled": false
   },
   "outputs": [
    {
     "name": "stdout",
     "output_type": "stream",
     "text": [
      "Epoch 1/20\n"
     ]
    },
    {
     "name": "stderr",
     "output_type": "stream",
     "text": [
      "2022-08-25 22:55:41.586350: I tensorflow/stream_executor/cuda/cuda_dnn.cc:384] Loaded cuDNN version 8401\n",
      "2022-08-25 22:55:43.017749: I tensorflow/core/platform/default/subprocess.cc:304] Start cannot spawn child process: No such file or directory\n",
      "2022-08-25 22:55:43.300315: W tensorflow/core/common_runtime/bfc_allocator.cc:290] Allocator (GPU_0_bfc) ran out of memory trying to allocate 2.35GiB with freed_by_count=0. The caller indicates that this is not a failure, but this may mean that there could be performance gains if more memory were available.\n"
     ]
    },
    {
     "name": "stdout",
     "output_type": "stream",
     "text": [
      "155/155 [==============================] - 34s 188ms/step - loss: 1.0169 - accuracy: 0.6397 - val_loss: 0.6873 - val_accuracy: 0.7734\n",
      "Epoch 2/20\n",
      "155/155 [==============================] - 27s 176ms/step - loss: 0.3839 - accuracy: 0.8829 - val_loss: 0.5256 - val_accuracy: 0.8047\n",
      "Epoch 3/20\n",
      "155/155 [==============================] - 28s 178ms/step - loss: 0.2397 - accuracy: 0.9288 - val_loss: 0.4590 - val_accuracy: 0.8333\n",
      "Epoch 4/20\n",
      "155/155 [==============================] - 28s 183ms/step - loss: 0.1712 - accuracy: 0.9483 - val_loss: 0.4079 - val_accuracy: 0.8359\n",
      "Epoch 5/20\n",
      "155/155 [==============================] - 29s 188ms/step - loss: 0.1240 - accuracy: 0.9664 - val_loss: 0.4187 - val_accuracy: 0.8516\n",
      "Epoch 6/20\n",
      "155/155 [==============================] - 30s 196ms/step - loss: 0.0893 - accuracy: 0.9754 - val_loss: 0.4471 - val_accuracy: 0.8516\n",
      "Epoch 7/20\n",
      "155/155 [==============================] - 40s 258ms/step - loss: 0.0772 - accuracy: 0.9774 - val_loss: 0.3868 - val_accuracy: 0.8698\n",
      "Epoch 8/20\n",
      "155/155 [==============================] - 45s 291ms/step - loss: 0.0667 - accuracy: 0.9858 - val_loss: 0.3802 - val_accuracy: 0.8724\n",
      "Epoch 9/20\n",
      "155/155 [==============================] - 45s 290ms/step - loss: 0.0501 - accuracy: 0.9877 - val_loss: 0.3738 - val_accuracy: 0.8776\n",
      "Epoch 10/20\n",
      "155/155 [==============================] - 46s 293ms/step - loss: 0.0443 - accuracy: 0.9890 - val_loss: 0.3991 - val_accuracy: 0.8594\n",
      "Epoch 11/20\n",
      "155/155 [==============================] - 46s 295ms/step - loss: 0.0348 - accuracy: 0.9916 - val_loss: 0.4635 - val_accuracy: 0.8568\n",
      "Epoch 12/20\n",
      "155/155 [==============================] - 46s 293ms/step - loss: 0.0340 - accuracy: 0.9929 - val_loss: 0.4530 - val_accuracy: 0.8568\n",
      "Epoch 13/20\n",
      "155/155 [==============================] - 46s 297ms/step - loss: 0.0274 - accuracy: 0.9955 - val_loss: 0.4592 - val_accuracy: 0.8281\n",
      "Epoch 14/20\n",
      "155/155 [==============================] - 45s 292ms/step - loss: 0.0230 - accuracy: 0.9961 - val_loss: 0.4194 - val_accuracy: 0.8568\n",
      "Epoch 15/20\n",
      "155/155 [==============================] - 47s 299ms/step - loss: 0.0233 - accuracy: 0.9942 - val_loss: 0.4471 - val_accuracy: 0.8646\n",
      "Epoch 16/20\n",
      "155/155 [==============================] - 46s 297ms/step - loss: 0.0170 - accuracy: 0.9981 - val_loss: 0.4513 - val_accuracy: 0.8672\n",
      "Epoch 17/20\n",
      "155/155 [==============================] - 46s 296ms/step - loss: 0.0162 - accuracy: 0.9974 - val_loss: 0.3773 - val_accuracy: 0.8828\n",
      "Epoch 18/20\n",
      "155/155 [==============================] - 46s 294ms/step - loss: 0.0127 - accuracy: 0.9981 - val_loss: 0.4037 - val_accuracy: 0.8776\n",
      "Epoch 19/20\n",
      "155/155 [==============================] - 47s 303ms/step - loss: 0.0124 - accuracy: 0.9974 - val_loss: 0.4426 - val_accuracy: 0.8620\n",
      "Epoch 20/20\n",
      "155/155 [==============================] - 46s 294ms/step - loss: 0.0117 - accuracy: 0.9974 - val_loss: 0.4558 - val_accuracy: 0.8646\n"
     ]
    }
   ],
   "source": [
    "fit = model.fit(train_batches, epochs=20, validation_data=validation_batches)"
   ]
  },
  {
   "cell_type": "code",
   "execution_count": 14,
   "id": "b2d29746",
   "metadata": {},
   "outputs": [],
   "source": [
    "model.save(\"./models/action-class-05-trained-vgg16.h5\")"
   ]
  },
  {
   "cell_type": "markdown",
   "id": "156ea49e",
   "metadata": {},
   "source": [
    "## Evaluate and Predict"
   ]
  },
  {
   "cell_type": "code",
   "execution_count": 15,
   "id": "7d14ce5f",
   "metadata": {},
   "outputs": [
    {
     "name": "stdout",
     "output_type": "stream",
     "text": [
      "Model: \"sequential\"\n",
      "_________________________________________________________________\n",
      " Layer (type)                Output Shape              Param #   \n",
      "=================================================================\n",
      " vgg16 (Functional)          (None, 512)               14714688  \n",
      "                                                                 \n",
      " dense (Dense)               (None, 32)                16416     \n",
      "                                                                 \n",
      " dense_1 (Dense)             (None, 32)                1056      \n",
      "                                                                 \n",
      " dense_2 (Dense)             (None, 5)                 165       \n",
      "                                                                 \n",
      "=================================================================\n",
      "Total params: 14,732,325\n",
      "Trainable params: 17,637\n",
      "Non-trainable params: 14,714,688\n",
      "_________________________________________________________________\n"
     ]
    }
   ],
   "source": [
    "model = models.load_model(\"./models/action-class-05-trained-vgg16.h5\")\n",
    "model.summary()"
   ]
  },
  {
   "cell_type": "code",
   "execution_count": 16,
   "id": "fcae2848",
   "metadata": {},
   "outputs": [
    {
     "name": "stdout",
     "output_type": "stream",
     "text": [
      "39/39 [==============================] - 13s 229ms/step - loss: 0.4558 - accuracy: 0.8646\n"
     ]
    },
    {
     "data": {
      "text/plain": [
       "[0.4558173418045044, 0.8645833134651184]"
      ]
     },
     "execution_count": 16,
     "metadata": {},
     "output_type": "execute_result"
    }
   ],
   "source": [
    "model.evaluate(test_batches)"
   ]
  },
  {
   "cell_type": "code",
   "execution_count": 17,
   "id": "fc0d3e51",
   "metadata": {
    "scrolled": true
   },
   "outputs": [
    {
     "data": {
      "image/png": "[encoded data removed]",
      "text/plain": [
       "<Figure size 432x288 with 1 Axes>"
      ]
     },
     "metadata": {},
     "output_type": "display_data"
    },
    {
     "data": {
      "image/png": "[encoded data removed]",
      "text/plain": [
       "<Figure size 432x288 with 1 Axes>"
      ]
     },
     "metadata": {},
     "output_type": "display_data"
    }
   ],
   "source": [
    "plt.style.use(\"ggplot\")\n",
    "plt.figure()\n",
    "\n",
    "plt.plot(np.arange(0, 20), fit.history[\"loss\"], label=\"train_loss\")\n",
    "plt.plot(np.arange(0, 20), fit.history[\"val_loss\"], label=\"val_loss\")\n",
    "plt.title(\"Training Loss\")\n",
    "plt.xlabel(\"Epoch #\")\n",
    "plt.ylabel(\"Loss\")\n",
    "plt.legend(loc=\"lower left\")\n",
    "plt.show()\n",
    "\n",
    "plt.plot(np.arange(0, 20), fit.history[\"accuracy\"], label=\"train_acc\")\n",
    "plt.plot(np.arange(0, 20), fit.history[\"val_accuracy\"], label=\"val_acc\")\n",
    "plt.title(\"Accuracy\")\n",
    "plt.xlabel(\"Epoch #\")\n",
    "plt.ylabel(\"Accuracy\")\n",
    "plt.legend(loc=\"lower left\")\n",
    "plt.show()"
   ]
  },
  {
   "cell_type": "code",
   "execution_count": 18,
   "id": "2f11bfa4",
   "metadata": {},
   "outputs": [
    {
     "name": "stdout",
     "output_type": "stream",
     "text": [
      "Avg Val Acc: 85.23437470197678\n",
      "Avg Val Loss: 44.29270029067993\n"
     ]
    }
   ],
   "source": [
    "print(\"Avg Val Acc: \" + str(sum(fit.history[\"val_accuracy\"])/20*100))\n",
    "print(\"Avg Val Loss: \" + str(sum(fit.history[\"val_loss\"])/20*100))"
   ]
  }
 ],
 "metadata": {
  "kernelspec": {
   "display_name": "Python 3 (ipykernel)",
   "language": "python",
   "name": "python3"
  },
  "language_info": {
   "codemirror_mode": {
    "name": "ipython",
    "version": 3
   },
   "file_extension": ".py",
   "mimetype": "text/x-python",
   "name": "python",
   "nbconvert_exporter": "python",
   "pygments_lexer": "ipython3",
   "version": "3.10.4"
  }
 },
 "nbformat": 4,
 "nbformat_minor": 5
}
