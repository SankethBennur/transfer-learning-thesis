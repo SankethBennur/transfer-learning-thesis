{
 "cells": [
  {
   "cell_type": "markdown",
   "id": "ab025bf5",
   "metadata": {},
   "source": [
    "# MobileNet Model"
   ]
  },
  {
   "cell_type": "markdown",
   "id": "45dd6033",
   "metadata": {},
   "source": [
    "### <u>Action Classes - 5</u>"
   ]
  },
  {
   "cell_type": "code",
   "execution_count": 1,
   "id": "d442044a",
   "metadata": {},
   "outputs": [],
   "source": [
    "from keras import models\n",
    "from keras.layers import Dense,Flatten\n",
    "from keras import backend as K\n",
    "import numpy as np\n",
    "import matplotlib.pyplot as plt\n",
    "\n",
    "from keras.applications import mobilenet"
   ]
  },
  {
   "cell_type": "code",
   "execution_count": 2,
   "id": "aaa4be4f",
   "metadata": {},
   "outputs": [
    {
     "name": "stdout",
     "output_type": "stream",
     "text": [
      "Num GPUs Available:  1\n"
     ]
    },
    {
     "name": "stderr",
     "output_type": "stream",
     "text": [
      "2022-08-25 22:35:43.901535: I tensorflow/stream_executor/cuda/cuda_gpu_executor.cc:975] successful NUMA node read from SysFS had negative value (-1), but there must be at least one NUMA node, so returning NUMA node zero\n",
      "2022-08-25 22:35:43.930159: I tensorflow/stream_executor/cuda/cuda_gpu_executor.cc:975] successful NUMA node read from SysFS had negative value (-1), but there must be at least one NUMA node, so returning NUMA node zero\n",
      "2022-08-25 22:35:43.930418: I tensorflow/stream_executor/cuda/cuda_gpu_executor.cc:975] successful NUMA node read from SysFS had negative value (-1), but there must be at least one NUMA node, so returning NUMA node zero\n"
     ]
    }
   ],
   "source": [
    "import tensorflow as tf\n",
    "print(\"Num GPUs Available: \", len(tf.config.list_physical_devices('GPU')))"
   ]
  },
  {
   "cell_type": "markdown",
   "id": "83d2138a",
   "metadata": {},
   "source": [
    "## Dataset"
   ]
  },
  {
   "cell_type": "code",
   "execution_count": 3,
   "id": "8da02113",
   "metadata": {},
   "outputs": [],
   "source": [
    "from keras.preprocessing.image import ImageDataGenerator\n",
    "\n",
    "dataset_path = \"./frames/\"\n",
    "# will contain the categories in respective folders\n",
    "\n",
    "# Data generators\n",
    "train_datagen = ImageDataGenerator(rescale=1/255, validation_split=0.2)\n"
   ]
  },
  {
   "cell_type": "code",
   "execution_count": 4,
   "id": "929e061f",
   "metadata": {},
   "outputs": [
    {
     "name": "stdout",
     "output_type": "stream",
     "text": [
      "Found 1546 images belonging to 5 classes.\n",
      "Found 384 images belonging to 5 classes.\n",
      "Found 384 images belonging to 5 classes.\n"
     ]
    }
   ],
   "source": [
    "image_size = (224,224)\n",
    "batch_size = 10\n",
    "\n",
    "train_batches = train_datagen.flow_from_directory(\n",
    "    dataset_path,\n",
    "    target_size = image_size,\n",
    "    batch_size = batch_size,\n",
    "    class_mode = \"categorical\",\n",
    "    subset = \"training\"\n",
    ")\n",
    "\n",
    "validation_batches = train_datagen.flow_from_directory(\n",
    "    dataset_path,\n",
    "    target_size = image_size,\n",
    "    batch_size = batch_size,\n",
    "    class_mode = \"categorical\",\n",
    "    subset = \"validation\"\n",
    ")\n",
    "\n",
    "test_batches = train_datagen.flow_from_directory(\n",
    "    dataset_path,\n",
    "    target_size = image_size,\n",
    "    batch_size = batch_size,\n",
    "    class_mode = \"categorical\",\n",
    "    subset = \"validation\"\n",
    ")"
   ]
  },
  {
   "cell_type": "code",
   "execution_count": 5,
   "id": "2ceee3f1",
   "metadata": {},
   "outputs": [
    {
     "data": {
      "text/plain": [
       "{'ApplyLipstick': 0,\n",
       " 'Biking': 1,\n",
       " 'Kayaking': 2,\n",
       " 'ShavingBeard': 3,\n",
       " 'TennisSwing': 4}"
      ]
     },
     "execution_count": 5,
     "metadata": {},
     "output_type": "execute_result"
    }
   ],
   "source": [
    "train_batches.class_indices"
   ]
  },
  {
   "cell_type": "code",
   "execution_count": 6,
   "id": "8ed06cd8",
   "metadata": {},
   "outputs": [],
   "source": [
    "from matplotlib import pyplot as plt\n",
    "\n",
    "def plot_images(images_arr):\n",
    "    fig, axes = plt.subplots(1,10)\n",
    "    axes = axes.flatten()\n",
    "    for img, ax in zip(images_arr, axes):\n",
    "        ax.imshow(img)\n",
    "        ax.axis('off')\n",
    "    plt.tight_layout()\n",
    "    plt.show()"
   ]
  },
  {
   "cell_type": "code",
   "execution_count": 7,
   "id": "ae1ce8b5",
   "metadata": {},
   "outputs": [
    {
     "data": {
      "image/png": "[encoded data removed]",
      "text/plain": [
       "<Figure size 432x288 with 10 Axes>"
      ]
     },
     "metadata": {
      "needs_background": "light"
     },
     "output_type": "display_data"
    },
    {
     "name": "stdout",
     "output_type": "stream",
     "text": [
      "[[0. 0. 0. 1. 0.]\n",
      " [0. 1. 0. 0. 0.]\n",
      " [0. 1. 0. 0. 0.]\n",
      " [0. 0. 0. 1. 0.]\n",
      " [0. 0. 0. 0. 1.]\n",
      " [1. 0. 0. 0. 0.]\n",
      " [0. 0. 1. 0. 0.]\n",
      " [0. 0. 0. 1. 0.]\n",
      " [0. 1. 0. 0. 0.]\n",
      " [0. 0. 0. 1. 0.]]\n"
     ]
    }
   ],
   "source": [
    "imgs, labels = train_batches[0]\n",
    "plot_images(imgs)\n",
    "print(labels[:10])"
   ]
  },
  {
   "cell_type": "markdown",
   "id": "e1447b73",
   "metadata": {},
   "source": [
    "## Initialize model"
   ]
  },
  {
   "cell_type": "code",
   "execution_count": 8,
   "id": "0ce80e18",
   "metadata": {},
   "outputs": [
    {
     "name": "stderr",
     "output_type": "stream",
     "text": [
      "2022-08-25 22:35:44.535753: I tensorflow/core/platform/cpu_feature_guard.cc:193] This TensorFlow binary is optimized with oneAPI Deep Neural Network Library (oneDNN) to use the following CPU instructions in performance-critical operations:  AVX2 FMA\n",
      "To enable them in other operations, rebuild TensorFlow with the appropriate compiler flags.\n",
      "2022-08-25 22:35:44.537213: I tensorflow/stream_executor/cuda/cuda_gpu_executor.cc:975] successful NUMA node read from SysFS had negative value (-1), but there must be at least one NUMA node, so returning NUMA node zero\n",
      "2022-08-25 22:35:44.537955: I tensorflow/stream_executor/cuda/cuda_gpu_executor.cc:975] successful NUMA node read from SysFS had negative value (-1), but there must be at least one NUMA node, so returning NUMA node zero\n",
      "2022-08-25 22:35:44.538278: I tensorflow/stream_executor/cuda/cuda_gpu_executor.cc:975] successful NUMA node read from SysFS had negative value (-1), but there must be at least one NUMA node, so returning NUMA node zero\n",
      "2022-08-25 22:35:44.926780: I tensorflow/stream_executor/cuda/cuda_gpu_executor.cc:975] successful NUMA node read from SysFS had negative value (-1), but there must be at least one NUMA node, so returning NUMA node zero\n",
      "2022-08-25 22:35:44.926922: I tensorflow/stream_executor/cuda/cuda_gpu_executor.cc:975] successful NUMA node read from SysFS had negative value (-1), but there must be at least one NUMA node, so returning NUMA node zero\n",
      "2022-08-25 22:35:44.927028: I tensorflow/stream_executor/cuda/cuda_gpu_executor.cc:975] successful NUMA node read from SysFS had negative value (-1), but there must be at least one NUMA node, so returning NUMA node zero\n",
      "2022-08-25 22:35:44.927152: I tensorflow/core/common_runtime/gpu/gpu_device.cc:1532] Created device /job:localhost/replica:0/task:0/device:GPU:0 with 3368 MB memory:  -> device: 0, name: NVIDIA GeForce GTX 1050 Ti, pci bus id: 0000:01:00.0, compute capability: 6.1\n"
     ]
    },
    {
     "name": "stdout",
     "output_type": "stream",
     "text": [
      "(0, 'input_1', [(None, 224, 224, 3)])\n",
      "(1, 'conv1', (None, 112, 112, 32))\n",
      "(2, 'conv1_bn', (None, 112, 112, 32))\n",
      "(3, 'conv1_relu', (None, 112, 112, 32))\n",
      "(4, 'conv_dw_1', (None, 112, 112, 32))\n",
      "(5, 'conv_dw_1_bn', (None, 112, 112, 32))\n",
      "(6, 'conv_dw_1_relu', (None, 112, 112, 32))\n",
      "(7, 'conv_pw_1', (None, 112, 112, 64))\n",
      "(8, 'conv_pw_1_bn', (None, 112, 112, 64))\n",
      "(9, 'conv_pw_1_relu', (None, 112, 112, 64))\n",
      "(10, 'conv_pad_2', (None, 113, 113, 64))\n",
      "(11, 'conv_dw_2', (None, 56, 56, 64))\n",
      "(12, 'conv_dw_2_bn', (None, 56, 56, 64))\n",
      "(13, 'conv_dw_2_relu', (None, 56, 56, 64))\n",
      "(14, 'conv_pw_2', (None, 56, 56, 128))\n",
      "(15, 'conv_pw_2_bn', (None, 56, 56, 128))\n",
      "(16, 'conv_pw_2_relu', (None, 56, 56, 128))\n",
      "(17, 'conv_dw_3', (None, 56, 56, 128))\n",
      "(18, 'conv_dw_3_bn', (None, 56, 56, 128))\n",
      "(19, 'conv_dw_3_relu', (None, 56, 56, 128))\n",
      "(20, 'conv_pw_3', (None, 56, 56, 128))\n",
      "(21, 'conv_pw_3_bn', (None, 56, 56, 128))\n",
      "(22, 'conv_pw_3_relu', (None, 56, 56, 128))\n",
      "(23, 'conv_pad_4', (None, 57, 57, 128))\n",
      "(24, 'conv_dw_4', (None, 28, 28, 128))\n",
      "(25, 'conv_dw_4_bn', (None, 28, 28, 128))\n",
      "(26, 'conv_dw_4_relu', (None, 28, 28, 128))\n",
      "(27, 'conv_pw_4', (None, 28, 28, 256))\n",
      "(28, 'conv_pw_4_bn', (None, 28, 28, 256))\n",
      "(29, 'conv_pw_4_relu', (None, 28, 28, 256))\n",
      "(30, 'conv_dw_5', (None, 28, 28, 256))\n",
      "(31, 'conv_dw_5_bn', (None, 28, 28, 256))\n",
      "(32, 'conv_dw_5_relu', (None, 28, 28, 256))\n",
      "(33, 'conv_pw_5', (None, 28, 28, 256))\n",
      "(34, 'conv_pw_5_bn', (None, 28, 28, 256))\n",
      "(35, 'conv_pw_5_relu', (None, 28, 28, 256))\n",
      "(36, 'conv_pad_6', (None, 29, 29, 256))\n",
      "(37, 'conv_dw_6', (None, 14, 14, 256))\n",
      "(38, 'conv_dw_6_bn', (None, 14, 14, 256))\n",
      "(39, 'conv_dw_6_relu', (None, 14, 14, 256))\n",
      "(40, 'conv_pw_6', (None, 14, 14, 512))\n",
      "(41, 'conv_pw_6_bn', (None, 14, 14, 512))\n",
      "(42, 'conv_pw_6_relu', (None, 14, 14, 512))\n",
      "(43, 'conv_dw_7', (None, 14, 14, 512))\n",
      "(44, 'conv_dw_7_bn', (None, 14, 14, 512))\n",
      "(45, 'conv_dw_7_relu', (None, 14, 14, 512))\n",
      "(46, 'conv_pw_7', (None, 14, 14, 512))\n",
      "(47, 'conv_pw_7_bn', (None, 14, 14, 512))\n",
      "(48, 'conv_pw_7_relu', (None, 14, 14, 512))\n",
      "(49, 'conv_dw_8', (None, 14, 14, 512))\n",
      "(50, 'conv_dw_8_bn', (None, 14, 14, 512))\n",
      "(51, 'conv_dw_8_relu', (None, 14, 14, 512))\n",
      "(52, 'conv_pw_8', (None, 14, 14, 512))\n",
      "(53, 'conv_pw_8_bn', (None, 14, 14, 512))\n",
      "(54, 'conv_pw_8_relu', (None, 14, 14, 512))\n",
      "(55, 'conv_dw_9', (None, 14, 14, 512))\n",
      "(56, 'conv_dw_9_bn', (None, 14, 14, 512))\n",
      "(57, 'conv_dw_9_relu', (None, 14, 14, 512))\n",
      "(58, 'conv_pw_9', (None, 14, 14, 512))\n",
      "(59, 'conv_pw_9_bn', (None, 14, 14, 512))\n",
      "(60, 'conv_pw_9_relu', (None, 14, 14, 512))\n",
      "(61, 'conv_dw_10', (None, 14, 14, 512))\n",
      "(62, 'conv_dw_10_bn', (None, 14, 14, 512))\n",
      "(63, 'conv_dw_10_relu', (None, 14, 14, 512))\n",
      "(64, 'conv_pw_10', (None, 14, 14, 512))\n",
      "(65, 'conv_pw_10_bn', (None, 14, 14, 512))\n",
      "(66, 'conv_pw_10_relu', (None, 14, 14, 512))\n",
      "(67, 'conv_dw_11', (None, 14, 14, 512))\n",
      "(68, 'conv_dw_11_bn', (None, 14, 14, 512))\n",
      "(69, 'conv_dw_11_relu', (None, 14, 14, 512))\n",
      "(70, 'conv_pw_11', (None, 14, 14, 512))\n",
      "(71, 'conv_pw_11_bn', (None, 14, 14, 512))\n",
      "(72, 'conv_pw_11_relu', (None, 14, 14, 512))\n",
      "(73, 'conv_pad_12', (None, 15, 15, 512))\n",
      "(74, 'conv_dw_12', (None, 7, 7, 512))\n",
      "(75, 'conv_dw_12_bn', (None, 7, 7, 512))\n",
      "(76, 'conv_dw_12_relu', (None, 7, 7, 512))\n",
      "(77, 'conv_pw_12', (None, 7, 7, 1024))\n",
      "(78, 'conv_pw_12_bn', (None, 7, 7, 1024))\n",
      "(79, 'conv_pw_12_relu', (None, 7, 7, 1024))\n",
      "(80, 'conv_dw_13', (None, 7, 7, 1024))\n",
      "(81, 'conv_dw_13_bn', (None, 7, 7, 1024))\n",
      "(82, 'conv_dw_13_relu', (None, 7, 7, 1024))\n",
      "(83, 'conv_pw_13', (None, 7, 7, 1024))\n",
      "(84, 'conv_pw_13_bn', (None, 7, 7, 1024))\n",
      "(85, 'conv_pw_13_relu', (None, 7, 7, 1024))\n",
      "(86, 'global_average_pooling2d', (None, 1, 1, 1024))\n",
      "(87, 'dropout', (None, 1, 1, 1024))\n",
      "(88, 'conv_preds', (None, 1, 1, 1000))\n",
      "(89, 'reshape_2', (None, 1000))\n",
      "(90, 'predictions', (None, 1000))\n"
     ]
    }
   ],
   "source": [
    "mobilenet_model_top = mobilenet.MobileNet(include_top=True,\n",
    "                   input_shape=(224,224,3),\n",
    "                   pooling='avg',\n",
    "                   weights='imagenet')\n",
    "\n",
    "for (i,layer) in enumerate(mobilenet_model_top.layers):\n",
    "    print((i, layer.name, layer.output_shape))"
   ]
  },
  {
   "cell_type": "code",
   "execution_count": 9,
   "id": "79756509",
   "metadata": {},
   "outputs": [
    {
     "name": "stdout",
     "output_type": "stream",
     "text": [
      "(0, 'input_2', [(None, 224, 224, 3)])\n",
      "(1, 'conv1', (None, 112, 112, 32))\n",
      "(2, 'conv1_bn', (None, 112, 112, 32))\n",
      "(3, 'conv1_relu', (None, 112, 112, 32))\n",
      "(4, 'conv_dw_1', (None, 112, 112, 32))\n",
      "(5, 'conv_dw_1_bn', (None, 112, 112, 32))\n",
      "(6, 'conv_dw_1_relu', (None, 112, 112, 32))\n",
      "(7, 'conv_pw_1', (None, 112, 112, 64))\n",
      "(8, 'conv_pw_1_bn', (None, 112, 112, 64))\n",
      "(9, 'conv_pw_1_relu', (None, 112, 112, 64))\n",
      "(10, 'conv_pad_2', (None, 113, 113, 64))\n",
      "(11, 'conv_dw_2', (None, 56, 56, 64))\n",
      "(12, 'conv_dw_2_bn', (None, 56, 56, 64))\n",
      "(13, 'conv_dw_2_relu', (None, 56, 56, 64))\n",
      "(14, 'conv_pw_2', (None, 56, 56, 128))\n",
      "(15, 'conv_pw_2_bn', (None, 56, 56, 128))\n",
      "(16, 'conv_pw_2_relu', (None, 56, 56, 128))\n",
      "(17, 'conv_dw_3', (None, 56, 56, 128))\n",
      "(18, 'conv_dw_3_bn', (None, 56, 56, 128))\n",
      "(19, 'conv_dw_3_relu', (None, 56, 56, 128))\n",
      "(20, 'conv_pw_3', (None, 56, 56, 128))\n",
      "(21, 'conv_pw_3_bn', (None, 56, 56, 128))\n",
      "(22, 'conv_pw_3_relu', (None, 56, 56, 128))\n",
      "(23, 'conv_pad_4', (None, 57, 57, 128))\n",
      "(24, 'conv_dw_4', (None, 28, 28, 128))\n",
      "(25, 'conv_dw_4_bn', (None, 28, 28, 128))\n",
      "(26, 'conv_dw_4_relu', (None, 28, 28, 128))\n",
      "(27, 'conv_pw_4', (None, 28, 28, 256))\n",
      "(28, 'conv_pw_4_bn', (None, 28, 28, 256))\n",
      "(29, 'conv_pw_4_relu', (None, 28, 28, 256))\n",
      "(30, 'conv_dw_5', (None, 28, 28, 256))\n",
      "(31, 'conv_dw_5_bn', (None, 28, 28, 256))\n",
      "(32, 'conv_dw_5_relu', (None, 28, 28, 256))\n",
      "(33, 'conv_pw_5', (None, 28, 28, 256))\n",
      "(34, 'conv_pw_5_bn', (None, 28, 28, 256))\n",
      "(35, 'conv_pw_5_relu', (None, 28, 28, 256))\n",
      "(36, 'conv_pad_6', (None, 29, 29, 256))\n",
      "(37, 'conv_dw_6', (None, 14, 14, 256))\n",
      "(38, 'conv_dw_6_bn', (None, 14, 14, 256))\n",
      "(39, 'conv_dw_6_relu', (None, 14, 14, 256))\n",
      "(40, 'conv_pw_6', (None, 14, 14, 512))\n",
      "(41, 'conv_pw_6_bn', (None, 14, 14, 512))\n",
      "(42, 'conv_pw_6_relu', (None, 14, 14, 512))\n",
      "(43, 'conv_dw_7', (None, 14, 14, 512))\n",
      "(44, 'conv_dw_7_bn', (None, 14, 14, 512))\n",
      "(45, 'conv_dw_7_relu', (None, 14, 14, 512))\n",
      "(46, 'conv_pw_7', (None, 14, 14, 512))\n",
      "(47, 'conv_pw_7_bn', (None, 14, 14, 512))\n",
      "(48, 'conv_pw_7_relu', (None, 14, 14, 512))\n",
      "(49, 'conv_dw_8', (None, 14, 14, 512))\n",
      "(50, 'conv_dw_8_bn', (None, 14, 14, 512))\n",
      "(51, 'conv_dw_8_relu', (None, 14, 14, 512))\n",
      "(52, 'conv_pw_8', (None, 14, 14, 512))\n",
      "(53, 'conv_pw_8_bn', (None, 14, 14, 512))\n",
      "(54, 'conv_pw_8_relu', (None, 14, 14, 512))\n",
      "(55, 'conv_dw_9', (None, 14, 14, 512))\n",
      "(56, 'conv_dw_9_bn', (None, 14, 14, 512))\n",
      "(57, 'conv_dw_9_relu', (None, 14, 14, 512))\n",
      "(58, 'conv_pw_9', (None, 14, 14, 512))\n",
      "(59, 'conv_pw_9_bn', (None, 14, 14, 512))\n",
      "(60, 'conv_pw_9_relu', (None, 14, 14, 512))\n",
      "(61, 'conv_dw_10', (None, 14, 14, 512))\n",
      "(62, 'conv_dw_10_bn', (None, 14, 14, 512))\n",
      "(63, 'conv_dw_10_relu', (None, 14, 14, 512))\n",
      "(64, 'conv_pw_10', (None, 14, 14, 512))\n",
      "(65, 'conv_pw_10_bn', (None, 14, 14, 512))\n",
      "(66, 'conv_pw_10_relu', (None, 14, 14, 512))\n",
      "(67, 'conv_dw_11', (None, 14, 14, 512))\n",
      "(68, 'conv_dw_11_bn', (None, 14, 14, 512))\n",
      "(69, 'conv_dw_11_relu', (None, 14, 14, 512))\n",
      "(70, 'conv_pw_11', (None, 14, 14, 512))\n",
      "(71, 'conv_pw_11_bn', (None, 14, 14, 512))\n",
      "(72, 'conv_pw_11_relu', (None, 14, 14, 512))\n",
      "(73, 'conv_pad_12', (None, 15, 15, 512))\n",
      "(74, 'conv_dw_12', (None, 7, 7, 512))\n",
      "(75, 'conv_dw_12_bn', (None, 7, 7, 512))\n",
      "(76, 'conv_dw_12_relu', (None, 7, 7, 512))\n",
      "(77, 'conv_pw_12', (None, 7, 7, 1024))\n",
      "(78, 'conv_pw_12_bn', (None, 7, 7, 1024))\n",
      "(79, 'conv_pw_12_relu', (None, 7, 7, 1024))\n",
      "(80, 'conv_dw_13', (None, 7, 7, 1024))\n",
      "(81, 'conv_dw_13_bn', (None, 7, 7, 1024))\n",
      "(82, 'conv_dw_13_relu', (None, 7, 7, 1024))\n",
      "(83, 'conv_pw_13', (None, 7, 7, 1024))\n",
      "(84, 'conv_pw_13_bn', (None, 7, 7, 1024))\n",
      "(85, 'conv_pw_13_relu', (None, 7, 7, 1024))\n",
      "(86, 'global_average_pooling2d_1', (None, 1024))\n"
     ]
    }
   ],
   "source": [
    "mobilenet_model = mobilenet.MobileNet(include_top=False,\n",
    "                   input_shape=(224,224,3),\n",
    "                   pooling='avg',classes=5,\n",
    "                   weights='imagenet')\n",
    "\n",
    "for (i,layer) in enumerate(mobilenet_model.layers):\n",
    "    layer.trainable = False\n",
    "    print((i, layer.name, layer.output_shape))"
   ]
  },
  {
   "cell_type": "code",
   "execution_count": 10,
   "id": "d4f668af",
   "metadata": {},
   "outputs": [
    {
     "name": "stdout",
     "output_type": "stream",
     "text": [
      "Model: \"sequential\"\n",
      "_________________________________________________________________\n",
      " Layer (type)                Output Shape              Param #   \n",
      "=================================================================\n",
      " mobilenet_1.00_224 (Functio  (None, 1024)             3228864   \n",
      " nal)                                                            \n",
      "                                                                 \n",
      " dense (Dense)               (None, 32)                32800     \n",
      "                                                                 \n",
      " dense_2 (Dense)             (None, 32)                1056      \n",
      "                                                                 \n",
      " dense_3 (Dense)             (None, 5)                 165       \n",
      "                                                                 \n",
      "=================================================================\n",
      "Total params: 3,262,885\n",
      "Trainable params: 34,021\n",
      "Non-trainable params: 3,228,864\n",
      "_________________________________________________________________\n"
     ]
    }
   ],
   "source": [
    "model = models.Sequential()\n",
    "\n",
    "dense_layer_1 = Dense(32, activation='relu')\n",
    "dense_layer_2 = Dense(32, activation='relu')\n",
    "dense_layer_2 = Dense(32, activation='relu')\n",
    "prediction_layer = Dense(5, activation='softmax')\n",
    "\n",
    "model.add(mobilenet_model)\n",
    "model.add(dense_layer_1)\n",
    "model.add(dense_layer_2)\n",
    "model.add(prediction_layer)\n",
    "\n",
    "model.summary()"
   ]
  },
  {
   "cell_type": "code",
   "execution_count": 11,
   "id": "557b39a3",
   "metadata": {},
   "outputs": [],
   "source": [
    "model.compile(\n",
    "    optimizer='adam',\n",
    "    loss='categorical_crossentropy',\n",
    "    metrics=['accuracy'],\n",
    ")"
   ]
  },
  {
   "cell_type": "code",
   "execution_count": 12,
   "id": "0bba864d",
   "metadata": {},
   "outputs": [],
   "source": [
    "model.save(\"./models/action-class-05-mobilenet.h5\")"
   ]
  },
  {
   "cell_type": "code",
   "execution_count": 13,
   "id": "0c496777",
   "metadata": {
    "scrolled": false
   },
   "outputs": [
    {
     "name": "stdout",
     "output_type": "stream",
     "text": [
      "Epoch 1/20\n"
     ]
    },
    {
     "name": "stderr",
     "output_type": "stream",
     "text": [
      "2022-08-25 22:35:48.010653: I tensorflow/stream_executor/cuda/cuda_dnn.cc:384] Loaded cuDNN version 8401\n",
      "2022-08-25 22:35:48.335563: I tensorflow/core/platform/default/subprocess.cc:304] Start cannot spawn child process: No such file or directory\n"
     ]
    },
    {
     "name": "stdout",
     "output_type": "stream",
     "text": [
      "155/155 [==============================] - 8s 40ms/step - loss: 0.2336 - accuracy: 0.9321 - val_loss: 0.2462 - val_accuracy: 0.9010\n",
      "Epoch 2/20\n",
      "155/155 [==============================] - 5s 35ms/step - loss: 0.0167 - accuracy: 0.9961 - val_loss: 0.2476 - val_accuracy: 0.9036\n",
      "Epoch 3/20\n",
      "155/155 [==============================] - 5s 35ms/step - loss: 0.0111 - accuracy: 0.9968 - val_loss: 0.3501 - val_accuracy: 0.8906\n",
      "Epoch 4/20\n",
      "155/155 [==============================] - 5s 35ms/step - loss: 0.0022 - accuracy: 1.0000 - val_loss: 0.1018 - val_accuracy: 0.9609\n",
      "Epoch 5/20\n",
      "155/155 [==============================] - 5s 35ms/step - loss: 7.6155e-04 - accuracy: 1.0000 - val_loss: 0.1036 - val_accuracy: 0.9688\n",
      "Epoch 6/20\n",
      "155/155 [==============================] - 5s 35ms/step - loss: 5.4876e-04 - accuracy: 1.0000 - val_loss: 0.1092 - val_accuracy: 0.9635\n",
      "Epoch 7/20\n",
      "155/155 [==============================] - 5s 35ms/step - loss: 4.2449e-04 - accuracy: 1.0000 - val_loss: 0.1073 - val_accuracy: 0.9688\n",
      "Epoch 8/20\n",
      "155/155 [==============================] - 5s 35ms/step - loss: 3.3931e-04 - accuracy: 1.0000 - val_loss: 0.1049 - val_accuracy: 0.9714\n",
      "Epoch 9/20\n",
      "155/155 [==============================] - 5s 35ms/step - loss: 2.7638e-04 - accuracy: 1.0000 - val_loss: 0.1069 - val_accuracy: 0.9714\n",
      "Epoch 10/20\n",
      "155/155 [==============================] - 5s 35ms/step - loss: 2.2923e-04 - accuracy: 1.0000 - val_loss: 0.1079 - val_accuracy: 0.9688\n",
      "Epoch 11/20\n",
      "155/155 [==============================] - 5s 35ms/step - loss: 1.9195e-04 - accuracy: 1.0000 - val_loss: 0.1093 - val_accuracy: 0.9688\n",
      "Epoch 12/20\n",
      "155/155 [==============================] - 5s 35ms/step - loss: 1.6342e-04 - accuracy: 1.0000 - val_loss: 0.1073 - val_accuracy: 0.9740\n",
      "Epoch 13/20\n",
      "155/155 [==============================] - 5s 35ms/step - loss: 1.4051e-04 - accuracy: 1.0000 - val_loss: 0.1098 - val_accuracy: 0.9688\n",
      "Epoch 14/20\n",
      "155/155 [==============================] - 5s 35ms/step - loss: 1.2089e-04 - accuracy: 1.0000 - val_loss: 0.1085 - val_accuracy: 0.9714\n",
      "Epoch 15/20\n",
      "155/155 [==============================] - 5s 35ms/step - loss: 1.0450e-04 - accuracy: 1.0000 - val_loss: 0.1089 - val_accuracy: 0.9740\n",
      "Epoch 16/20\n",
      "155/155 [==============================] - 5s 35ms/step - loss: 9.1591e-05 - accuracy: 1.0000 - val_loss: 0.1101 - val_accuracy: 0.9688\n",
      "Epoch 17/20\n",
      "155/155 [==============================] - 5s 35ms/step - loss: 8.0414e-05 - accuracy: 1.0000 - val_loss: 0.1109 - val_accuracy: 0.9714\n",
      "Epoch 18/20\n",
      "155/155 [==============================] - 6s 35ms/step - loss: 7.1026e-05 - accuracy: 1.0000 - val_loss: 0.1096 - val_accuracy: 0.9740\n",
      "Epoch 19/20\n",
      "155/155 [==============================] - 6s 36ms/step - loss: 6.2715e-05 - accuracy: 1.0000 - val_loss: 0.1106 - val_accuracy: 0.9714\n",
      "Epoch 20/20\n",
      "155/155 [==============================] - 6s 36ms/step - loss: 5.5821e-05 - accuracy: 1.0000 - val_loss: 0.1119 - val_accuracy: 0.9688\n"
     ]
    }
   ],
   "source": [
    "fit = model.fit(train_batches, epochs=20, validation_data=validation_batches)"
   ]
  },
  {
   "cell_type": "code",
   "execution_count": 14,
   "id": "b2d29746",
   "metadata": {},
   "outputs": [],
   "source": [
    "model.save(\"./models/action-class-05-trained-mobilenet.h5\")"
   ]
  },
  {
   "cell_type": "markdown",
   "id": "156ea49e",
   "metadata": {},
   "source": [
    "## Evaluate and Predict"
   ]
  },
  {
   "cell_type": "code",
   "execution_count": 15,
   "id": "7d14ce5f",
   "metadata": {},
   "outputs": [
    {
     "name": "stdout",
     "output_type": "stream",
     "text": [
      "Model: \"sequential\"\n",
      "_________________________________________________________________\n",
      " Layer (type)                Output Shape              Param #   \n",
      "=================================================================\n",
      " mobilenet_1.00_224 (Functio  (None, 1024)             3228864   \n",
      " nal)                                                            \n",
      "                                                                 \n",
      " dense (Dense)               (None, 32)                32800     \n",
      "                                                                 \n",
      " dense_2 (Dense)             (None, 32)                1056      \n",
      "                                                                 \n",
      " dense_3 (Dense)             (None, 5)                 165       \n",
      "                                                                 \n",
      "=================================================================\n",
      "Total params: 3,262,885\n",
      "Trainable params: 34,021\n",
      "Non-trainable params: 3,228,864\n",
      "_________________________________________________________________\n"
     ]
    }
   ],
   "source": [
    "model = models.load_model(\"./models/action-class-05-trained-mobilenet.h5\")\n",
    "model.summary()"
   ]
  },
  {
   "cell_type": "code",
   "execution_count": 16,
   "id": "fcae2848",
   "metadata": {},
   "outputs": [
    {
     "name": "stdout",
     "output_type": "stream",
     "text": [
      "39/39 [==============================] - 2s 28ms/step - loss: 0.1119 - accuracy: 0.9688\n"
     ]
    },
    {
     "data": {
      "text/plain": [
       "[0.11185693740844727, 0.96875]"
      ]
     },
     "execution_count": 16,
     "metadata": {},
     "output_type": "execute_result"
    }
   ],
   "source": [
    "model.evaluate(test_batches)"
   ]
  },
  {
   "cell_type": "code",
   "execution_count": 17,
   "id": "fc0d3e51",
   "metadata": {},
   "outputs": [
    {
     "data": {
      "image/png": "[encoded data removed]",
      "text/plain": [
       "<Figure size 432x288 with 1 Axes>"
      ]
     },
     "metadata": {},
     "output_type": "display_data"
    },
    {
     "data": {
      "image/png": "[encoded data removed]",
      "text/plain": [
       "<Figure size 432x288 with 1 Axes>"
      ]
     },
     "metadata": {},
     "output_type": "display_data"
    }
   ],
   "source": [
    "plt.style.use(\"ggplot\")\n",
    "plt.figure()\n",
    "\n",
    "plt.plot(np.arange(0, 20), fit.history[\"loss\"], label=\"train_loss\")\n",
    "plt.plot(np.arange(0, 20), fit.history[\"val_loss\"], label=\"val_loss\")\n",
    "plt.title(\"Training Loss\")\n",
    "plt.xlabel(\"Epoch #\")\n",
    "plt.ylabel(\"Loss\")\n",
    "plt.legend(loc=\"lower left\")\n",
    "plt.show()\n",
    "\n",
    "plt.plot(np.arange(0, 20), fit.history[\"accuracy\"], label=\"train_acc\")\n",
    "plt.plot(np.arange(0, 20), fit.history[\"val_accuracy\"], label=\"val_acc\")\n",
    "plt.title(\"Accuracy\")\n",
    "plt.xlabel(\"Epoch #\")\n",
    "plt.ylabel(\"Accuracy\")\n",
    "plt.legend(loc=\"lower left\")\n",
    "plt.show()"
   ]
  },
  {
   "cell_type": "code",
   "execution_count": 18,
   "id": "8587a49f",
   "metadata": {},
   "outputs": [
    {
     "name": "stdout",
     "output_type": "stream",
     "text": [
      "Avg Val Acc: 95.89843779802322\n",
      "Avg Val Loss: 13.41185424476862\n"
     ]
    }
   ],
   "source": [
    "print(\"Avg Val Acc: \" + str(sum(fit.history[\"val_accuracy\"])/20*100))\n",
    "print(\"Avg Val Loss: \" + str(sum(fit.history[\"val_loss\"])/20*100))"
   ]
  }
 ],
 "metadata": {
  "kernelspec": {
   "display_name": "Python 3 (ipykernel)",
   "language": "python",
   "name": "python3"
  },
  "language_info": {
   "codemirror_mode": {
    "name": "ipython",
    "version": 3
   },
   "file_extension": ".py",
   "mimetype": "text/x-python",
   "name": "python",
   "nbconvert_exporter": "python",
   "pygments_lexer": "ipython3",
   "version": "3.10.4"
  }
 },
 "nbformat": 4,
 "nbformat_minor": 5
}
