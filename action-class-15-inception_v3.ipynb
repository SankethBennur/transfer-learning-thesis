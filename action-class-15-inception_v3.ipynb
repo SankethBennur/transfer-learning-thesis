{
 "cells": [
  {
   "cell_type": "markdown",
   "id": "ab025bf5",
   "metadata": {},
   "source": [
    "# Inception_v3 Model"
   ]
  },
  {
   "cell_type": "markdown",
   "id": "45dd6033",
   "metadata": {},
   "source": [
    "### <u>Action Classes - 15</u>"
   ]
  },
  {
   "cell_type": "code",
   "execution_count": 1,
   "id": "d442044a",
   "metadata": {
    "scrolled": true
   },
   "outputs": [],
   "source": [
    "from keras import models\n",
    "from keras.layers import Dense,Flatten\n",
    "from keras import backend as K\n",
    "import numpy as np\n",
    "import matplotlib.pyplot as plt\n",
    "\n",
    "from keras.applications import inception_v3"
   ]
  },
  {
   "cell_type": "code",
   "execution_count": 2,
   "id": "aaa4be4f",
   "metadata": {
    "scrolled": true
   },
   "outputs": [
    {
     "name": "stdout",
     "output_type": "stream",
     "text": [
      "Num GPUs Available:  1\n"
     ]
    },
    {
     "name": "stderr",
     "output_type": "stream",
     "text": [
      "2022-08-25 16:11:23.973814: I tensorflow/stream_executor/cuda/cuda_gpu_executor.cc:975] successful NUMA node read from SysFS had negative value (-1), but there must be at least one NUMA node, so returning NUMA node zero\n",
      "2022-08-25 16:11:24.010132: I tensorflow/stream_executor/cuda/cuda_gpu_executor.cc:975] successful NUMA node read from SysFS had negative value (-1), but there must be at least one NUMA node, so returning NUMA node zero\n",
      "2022-08-25 16:11:24.010439: I tensorflow/stream_executor/cuda/cuda_gpu_executor.cc:975] successful NUMA node read from SysFS had negative value (-1), but there must be at least one NUMA node, so returning NUMA node zero\n"
     ]
    }
   ],
   "source": [
    "import tensorflow as tf\n",
    "print(\"Num GPUs Available: \", len(tf.config.list_physical_devices('GPU')))"
   ]
  },
  {
   "cell_type": "markdown",
   "id": "83d2138a",
   "metadata": {},
   "source": [
    "## Dataset"
   ]
  },
  {
   "cell_type": "code",
   "execution_count": 3,
   "id": "8da02113",
   "metadata": {
    "scrolled": true
   },
   "outputs": [],
   "source": [
    "from keras.preprocessing.image import ImageDataGenerator\n",
    "\n",
    "dataset_path = \"./frames/\"\n",
    "# will contain the categories in respective folders\n",
    "\n",
    "# Data generators\n",
    "train_datagen = ImageDataGenerator(rescale=1/255, validation_split=0.2)\n"
   ]
  },
  {
   "cell_type": "code",
   "execution_count": 4,
   "id": "929e061f",
   "metadata": {
    "scrolled": true
   },
   "outputs": [
    {
     "name": "stdout",
     "output_type": "stream",
     "text": [
      "Found 3767 images belonging to 15 classes.\n",
      "Found 934 images belonging to 15 classes.\n",
      "Found 934 images belonging to 15 classes.\n"
     ]
    }
   ],
   "source": [
    "image_size = (299,299)\n",
    "batch_size = 10\n",
    "\n",
    "train_batches = train_datagen.flow_from_directory(\n",
    "    dataset_path,\n",
    "    target_size = image_size,\n",
    "    batch_size = batch_size,\n",
    "    class_mode = \"categorical\",\n",
    "    subset = \"training\"\n",
    ")\n",
    "\n",
    "validation_batches = train_datagen.flow_from_directory(\n",
    "    dataset_path,\n",
    "    target_size = image_size,\n",
    "    batch_size = batch_size,\n",
    "    class_mode = \"categorical\",\n",
    "    subset = \"validation\"\n",
    ")\n",
    "\n",
    "test_batches = train_datagen.flow_from_directory(\n",
    "    dataset_path,\n",
    "    target_size = image_size,\n",
    "    batch_size = batch_size,\n",
    "    class_mode = \"categorical\",\n",
    "    subset = \"validation\"\n",
    ")"
   ]
  },
  {
   "cell_type": "code",
   "execution_count": 5,
   "id": "2ceee3f1",
   "metadata": {
    "scrolled": true
   },
   "outputs": [
    {
     "data": {
      "text/plain": [
       "{'ApplyLipstick': 0,\n",
       " 'Archery': 1,\n",
       " 'BabyCrawling': 2,\n",
       " 'Biking': 3,\n",
       " 'Diving': 4,\n",
       " 'Fencing': 5,\n",
       " 'Kayaking': 6,\n",
       " 'MilitaryParade': 7,\n",
       " 'PizzaTossing': 8,\n",
       " 'ShavingBeard': 9,\n",
       " 'SkateBoarding': 10,\n",
       " 'SumoWrestling': 11,\n",
       " 'TennisSwing': 12,\n",
       " 'Typing': 13,\n",
       " 'WritingOnBoard': 14}"
      ]
     },
     "execution_count": 5,
     "metadata": {},
     "output_type": "execute_result"
    }
   ],
   "source": [
    "train_batches.class_indices"
   ]
  },
  {
   "cell_type": "code",
   "execution_count": 6,
   "id": "8ed06cd8",
   "metadata": {
    "scrolled": true
   },
   "outputs": [],
   "source": [
    "from matplotlib import pyplot as plt\n",
    "\n",
    "def plot_images(images_arr):\n",
    "    fig, axes = plt.subplots(1,10)\n",
    "    axes = axes.flatten()\n",
    "    for img, ax in zip(images_arr, axes):\n",
    "        ax.imshow(img)\n",
    "        ax.axis('off')\n",
    "    plt.tight_layout()\n",
    "    plt.show()"
   ]
  },
  {
   "cell_type": "code",
   "execution_count": 7,
   "id": "ae1ce8b5",
   "metadata": {
    "scrolled": true
   },
   "outputs": [
    {
     "data": {
      "image/png": "[encoded data removed]",
      "text/plain": [
       "<Figure size 432x288 with 10 Axes>"
      ]
     },
     "metadata": {
      "needs_background": "light"
     },
     "output_type": "display_data"
    },
    {
     "name": "stdout",
     "output_type": "stream",
     "text": [
      "[[0. 0. 0. 0. 0. 0. 0. 0. 0. 0. 0. 0. 0. 1. 0.]\n",
      " [0. 0. 0. 0. 0. 0. 0. 0. 0. 1. 0. 0. 0. 0. 0.]\n",
      " [0. 0. 0. 1. 0. 0. 0. 0. 0. 0. 0. 0. 0. 0. 0.]\n",
      " [1. 0. 0. 0. 0. 0. 0. 0. 0. 0. 0. 0. 0. 0. 0.]\n",
      " [0. 0. 0. 0. 0. 0. 0. 0. 0. 0. 1. 0. 0. 0. 0.]\n",
      " [0. 1. 0. 0. 0. 0. 0. 0. 0. 0. 0. 0. 0. 0. 0.]\n",
      " [0. 0. 0. 0. 0. 0. 0. 0. 0. 0. 0. 0. 0. 0. 1.]\n",
      " [0. 0. 0. 0. 0. 0. 0. 0. 0. 1. 0. 0. 0. 0. 0.]\n",
      " [0. 0. 0. 0. 0. 0. 0. 0. 1. 0. 0. 0. 0. 0. 0.]\n",
      " [0. 0. 0. 0. 0. 0. 0. 0. 0. 0. 1. 0. 0. 0. 0.]]\n"
     ]
    }
   ],
   "source": [
    "imgs, labels = train_batches[0]\n",
    "plot_images(imgs)\n",
    "print(labels[:10])"
   ]
  },
  {
   "cell_type": "markdown",
   "id": "e1447b73",
   "metadata": {},
   "source": [
    "## Initialize model"
   ]
  },
  {
   "cell_type": "code",
   "execution_count": 8,
   "id": "0ce80e18",
   "metadata": {
    "scrolled": false
   },
   "outputs": [
    {
     "name": "stderr",
     "output_type": "stream",
     "text": [
      "2022-08-25 16:11:24.816508: I tensorflow/core/platform/cpu_feature_guard.cc:193] This TensorFlow binary is optimized with oneAPI Deep Neural Network Library (oneDNN) to use the following CPU instructions in performance-critical operations:  AVX2 FMA\n",
      "To enable them in other operations, rebuild TensorFlow with the appropriate compiler flags.\n",
      "2022-08-25 16:11:24.817331: I tensorflow/stream_executor/cuda/cuda_gpu_executor.cc:975] successful NUMA node read from SysFS had negative value (-1), but there must be at least one NUMA node, so returning NUMA node zero\n",
      "2022-08-25 16:11:24.817682: I tensorflow/stream_executor/cuda/cuda_gpu_executor.cc:975] successful NUMA node read from SysFS had negative value (-1), but there must be at least one NUMA node, so returning NUMA node zero\n",
      "2022-08-25 16:11:24.817988: I tensorflow/stream_executor/cuda/cuda_gpu_executor.cc:975] successful NUMA node read from SysFS had negative value (-1), but there must be at least one NUMA node, so returning NUMA node zero\n",
      "2022-08-25 16:11:25.196198: I tensorflow/stream_executor/cuda/cuda_gpu_executor.cc:975] successful NUMA node read from SysFS had negative value (-1), but there must be at least one NUMA node, so returning NUMA node zero\n",
      "2022-08-25 16:11:25.196336: I tensorflow/stream_executor/cuda/cuda_gpu_executor.cc:975] successful NUMA node read from SysFS had negative value (-1), but there must be at least one NUMA node, so returning NUMA node zero\n",
      "2022-08-25 16:11:25.196437: I tensorflow/stream_executor/cuda/cuda_gpu_executor.cc:975] successful NUMA node read from SysFS had negative value (-1), but there must be at least one NUMA node, so returning NUMA node zero\n",
      "2022-08-25 16:11:25.196523: I tensorflow/core/common_runtime/gpu/gpu_device.cc:1532] Created device /job:localhost/replica:0/task:0/device:GPU:0 with 3368 MB memory:  -> device: 0, name: NVIDIA GeForce GTX 1050 Ti, pci bus id: 0000:01:00.0, compute capability: 6.1\n"
     ]
    },
    {
     "name": "stdout",
     "output_type": "stream",
     "text": [
      "(0, 'input_1', [(None, 299, 299, 3)])\n",
      "(1, 'conv2d', (None, 149, 149, 32))\n",
      "(2, 'batch_normalization', (None, 149, 149, 32))\n",
      "(3, 'activation', (None, 149, 149, 32))\n",
      "(4, 'conv2d_1', (None, 147, 147, 32))\n",
      "(5, 'batch_normalization_1', (None, 147, 147, 32))\n",
      "(6, 'activation_1', (None, 147, 147, 32))\n",
      "(7, 'conv2d_2', (None, 147, 147, 64))\n",
      "(8, 'batch_normalization_2', (None, 147, 147, 64))\n",
      "(9, 'activation_2', (None, 147, 147, 64))\n",
      "(10, 'max_pooling2d', (None, 73, 73, 64))\n",
      "(11, 'conv2d_3', (None, 73, 73, 80))\n",
      "(12, 'batch_normalization_3', (None, 73, 73, 80))\n",
      "(13, 'activation_3', (None, 73, 73, 80))\n",
      "(14, 'conv2d_4', (None, 71, 71, 192))\n",
      "(15, 'batch_normalization_4', (None, 71, 71, 192))\n",
      "(16, 'activation_4', (None, 71, 71, 192))\n",
      "(17, 'max_pooling2d_1', (None, 35, 35, 192))\n",
      "(18, 'conv2d_8', (None, 35, 35, 64))\n",
      "(19, 'batch_normalization_8', (None, 35, 35, 64))\n",
      "(20, 'activation_8', (None, 35, 35, 64))\n",
      "(21, 'conv2d_6', (None, 35, 35, 48))\n",
      "(22, 'conv2d_9', (None, 35, 35, 96))\n",
      "(23, 'batch_normalization_6', (None, 35, 35, 48))\n",
      "(24, 'batch_normalization_9', (None, 35, 35, 96))\n",
      "(25, 'activation_6', (None, 35, 35, 48))\n",
      "(26, 'activation_9', (None, 35, 35, 96))\n",
      "(27, 'average_pooling2d', (None, 35, 35, 192))\n",
      "(28, 'conv2d_5', (None, 35, 35, 64))\n",
      "(29, 'conv2d_7', (None, 35, 35, 64))\n",
      "(30, 'conv2d_10', (None, 35, 35, 96))\n",
      "(31, 'conv2d_11', (None, 35, 35, 32))\n",
      "(32, 'batch_normalization_5', (None, 35, 35, 64))\n",
      "(33, 'batch_normalization_7', (None, 35, 35, 64))\n",
      "(34, 'batch_normalization_10', (None, 35, 35, 96))\n",
      "(35, 'batch_normalization_11', (None, 35, 35, 32))\n",
      "(36, 'activation_5', (None, 35, 35, 64))\n",
      "(37, 'activation_7', (None, 35, 35, 64))\n",
      "(38, 'activation_10', (None, 35, 35, 96))\n",
      "(39, 'activation_11', (None, 35, 35, 32))\n",
      "(40, 'mixed0', (None, 35, 35, 256))\n",
      "(41, 'conv2d_15', (None, 35, 35, 64))\n",
      "(42, 'batch_normalization_15', (None, 35, 35, 64))\n",
      "(43, 'activation_15', (None, 35, 35, 64))\n",
      "(44, 'conv2d_13', (None, 35, 35, 48))\n",
      "(45, 'conv2d_16', (None, 35, 35, 96))\n",
      "(46, 'batch_normalization_13', (None, 35, 35, 48))\n",
      "(47, 'batch_normalization_16', (None, 35, 35, 96))\n",
      "(48, 'activation_13', (None, 35, 35, 48))\n",
      "(49, 'activation_16', (None, 35, 35, 96))\n",
      "(50, 'average_pooling2d_1', (None, 35, 35, 256))\n",
      "(51, 'conv2d_12', (None, 35, 35, 64))\n",
      "(52, 'conv2d_14', (None, 35, 35, 64))\n",
      "(53, 'conv2d_17', (None, 35, 35, 96))\n",
      "(54, 'conv2d_18', (None, 35, 35, 64))\n",
      "(55, 'batch_normalization_12', (None, 35, 35, 64))\n",
      "(56, 'batch_normalization_14', (None, 35, 35, 64))\n",
      "(57, 'batch_normalization_17', (None, 35, 35, 96))\n",
      "(58, 'batch_normalization_18', (None, 35, 35, 64))\n",
      "(59, 'activation_12', (None, 35, 35, 64))\n",
      "(60, 'activation_14', (None, 35, 35, 64))\n",
      "(61, 'activation_17', (None, 35, 35, 96))\n",
      "(62, 'activation_18', (None, 35, 35, 64))\n",
      "(63, 'mixed1', (None, 35, 35, 288))\n",
      "(64, 'conv2d_22', (None, 35, 35, 64))\n",
      "(65, 'batch_normalization_22', (None, 35, 35, 64))\n",
      "(66, 'activation_22', (None, 35, 35, 64))\n",
      "(67, 'conv2d_20', (None, 35, 35, 48))\n",
      "(68, 'conv2d_23', (None, 35, 35, 96))\n",
      "(69, 'batch_normalization_20', (None, 35, 35, 48))\n",
      "(70, 'batch_normalization_23', (None, 35, 35, 96))\n",
      "(71, 'activation_20', (None, 35, 35, 48))\n",
      "(72, 'activation_23', (None, 35, 35, 96))\n",
      "(73, 'average_pooling2d_2', (None, 35, 35, 288))\n",
      "(74, 'conv2d_19', (None, 35, 35, 64))\n",
      "(75, 'conv2d_21', (None, 35, 35, 64))\n",
      "(76, 'conv2d_24', (None, 35, 35, 96))\n",
      "(77, 'conv2d_25', (None, 35, 35, 64))\n",
      "(78, 'batch_normalization_19', (None, 35, 35, 64))\n",
      "(79, 'batch_normalization_21', (None, 35, 35, 64))\n",
      "(80, 'batch_normalization_24', (None, 35, 35, 96))\n",
      "(81, 'batch_normalization_25', (None, 35, 35, 64))\n",
      "(82, 'activation_19', (None, 35, 35, 64))\n",
      "(83, 'activation_21', (None, 35, 35, 64))\n",
      "(84, 'activation_24', (None, 35, 35, 96))\n",
      "(85, 'activation_25', (None, 35, 35, 64))\n",
      "(86, 'mixed2', (None, 35, 35, 288))\n",
      "(87, 'conv2d_27', (None, 35, 35, 64))\n",
      "(88, 'batch_normalization_27', (None, 35, 35, 64))\n",
      "(89, 'activation_27', (None, 35, 35, 64))\n",
      "(90, 'conv2d_28', (None, 35, 35, 96))\n",
      "(91, 'batch_normalization_28', (None, 35, 35, 96))\n",
      "(92, 'activation_28', (None, 35, 35, 96))\n",
      "(93, 'conv2d_26', (None, 17, 17, 384))\n",
      "(94, 'conv2d_29', (None, 17, 17, 96))\n",
      "(95, 'batch_normalization_26', (None, 17, 17, 384))\n",
      "(96, 'batch_normalization_29', (None, 17, 17, 96))\n",
      "(97, 'activation_26', (None, 17, 17, 384))\n",
      "(98, 'activation_29', (None, 17, 17, 96))\n",
      "(99, 'max_pooling2d_2', (None, 17, 17, 288))\n",
      "(100, 'mixed3', (None, 17, 17, 768))\n",
      "(101, 'conv2d_34', (None, 17, 17, 128))\n",
      "(102, 'batch_normalization_34', (None, 17, 17, 128))\n",
      "(103, 'activation_34', (None, 17, 17, 128))\n",
      "(104, 'conv2d_35', (None, 17, 17, 128))\n",
      "(105, 'batch_normalization_35', (None, 17, 17, 128))\n",
      "(106, 'activation_35', (None, 17, 17, 128))\n",
      "(107, 'conv2d_31', (None, 17, 17, 128))\n",
      "(108, 'conv2d_36', (None, 17, 17, 128))\n",
      "(109, 'batch_normalization_31', (None, 17, 17, 128))\n",
      "(110, 'batch_normalization_36', (None, 17, 17, 128))\n",
      "(111, 'activation_31', (None, 17, 17, 128))\n",
      "(112, 'activation_36', (None, 17, 17, 128))\n",
      "(113, 'conv2d_32', (None, 17, 17, 128))\n",
      "(114, 'conv2d_37', (None, 17, 17, 128))\n",
      "(115, 'batch_normalization_32', (None, 17, 17, 128))\n",
      "(116, 'batch_normalization_37', (None, 17, 17, 128))\n",
      "(117, 'activation_32', (None, 17, 17, 128))\n",
      "(118, 'activation_37', (None, 17, 17, 128))\n",
      "(119, 'average_pooling2d_3', (None, 17, 17, 768))\n",
      "(120, 'conv2d_30', (None, 17, 17, 192))\n",
      "(121, 'conv2d_33', (None, 17, 17, 192))\n",
      "(122, 'conv2d_38', (None, 17, 17, 192))\n",
      "(123, 'conv2d_39', (None, 17, 17, 192))\n",
      "(124, 'batch_normalization_30', (None, 17, 17, 192))\n",
      "(125, 'batch_normalization_33', (None, 17, 17, 192))\n",
      "(126, 'batch_normalization_38', (None, 17, 17, 192))\n",
      "(127, 'batch_normalization_39', (None, 17, 17, 192))\n",
      "(128, 'activation_30', (None, 17, 17, 192))\n",
      "(129, 'activation_33', (None, 17, 17, 192))\n",
      "(130, 'activation_38', (None, 17, 17, 192))\n",
      "(131, 'activation_39', (None, 17, 17, 192))\n",
      "(132, 'mixed4', (None, 17, 17, 768))\n",
      "(133, 'conv2d_44', (None, 17, 17, 160))\n",
      "(134, 'batch_normalization_44', (None, 17, 17, 160))\n",
      "(135, 'activation_44', (None, 17, 17, 160))\n",
      "(136, 'conv2d_45', (None, 17, 17, 160))\n",
      "(137, 'batch_normalization_45', (None, 17, 17, 160))\n",
      "(138, 'activation_45', (None, 17, 17, 160))\n",
      "(139, 'conv2d_41', (None, 17, 17, 160))\n",
      "(140, 'conv2d_46', (None, 17, 17, 160))\n",
      "(141, 'batch_normalization_41', (None, 17, 17, 160))\n",
      "(142, 'batch_normalization_46', (None, 17, 17, 160))\n",
      "(143, 'activation_41', (None, 17, 17, 160))\n",
      "(144, 'activation_46', (None, 17, 17, 160))\n",
      "(145, 'conv2d_42', (None, 17, 17, 160))\n",
      "(146, 'conv2d_47', (None, 17, 17, 160))\n",
      "(147, 'batch_normalization_42', (None, 17, 17, 160))\n",
      "(148, 'batch_normalization_47', (None, 17, 17, 160))\n",
      "(149, 'activation_42', (None, 17, 17, 160))\n",
      "(150, 'activation_47', (None, 17, 17, 160))\n",
      "(151, 'average_pooling2d_4', (None, 17, 17, 768))\n",
      "(152, 'conv2d_40', (None, 17, 17, 192))\n",
      "(153, 'conv2d_43', (None, 17, 17, 192))\n",
      "(154, 'conv2d_48', (None, 17, 17, 192))\n",
      "(155, 'conv2d_49', (None, 17, 17, 192))\n",
      "(156, 'batch_normalization_40', (None, 17, 17, 192))\n",
      "(157, 'batch_normalization_43', (None, 17, 17, 192))\n",
      "(158, 'batch_normalization_48', (None, 17, 17, 192))\n",
      "(159, 'batch_normalization_49', (None, 17, 17, 192))\n",
      "(160, 'activation_40', (None, 17, 17, 192))\n",
      "(161, 'activation_43', (None, 17, 17, 192))\n",
      "(162, 'activation_48', (None, 17, 17, 192))\n",
      "(163, 'activation_49', (None, 17, 17, 192))\n",
      "(164, 'mixed5', (None, 17, 17, 768))\n",
      "(165, 'conv2d_54', (None, 17, 17, 160))\n",
      "(166, 'batch_normalization_54', (None, 17, 17, 160))\n",
      "(167, 'activation_54', (None, 17, 17, 160))\n",
      "(168, 'conv2d_55', (None, 17, 17, 160))\n",
      "(169, 'batch_normalization_55', (None, 17, 17, 160))\n",
      "(170, 'activation_55', (None, 17, 17, 160))\n",
      "(171, 'conv2d_51', (None, 17, 17, 160))\n",
      "(172, 'conv2d_56', (None, 17, 17, 160))\n",
      "(173, 'batch_normalization_51', (None, 17, 17, 160))\n",
      "(174, 'batch_normalization_56', (None, 17, 17, 160))\n",
      "(175, 'activation_51', (None, 17, 17, 160))\n",
      "(176, 'activation_56', (None, 17, 17, 160))\n",
      "(177, 'conv2d_52', (None, 17, 17, 160))\n",
      "(178, 'conv2d_57', (None, 17, 17, 160))\n",
      "(179, 'batch_normalization_52', (None, 17, 17, 160))\n",
      "(180, 'batch_normalization_57', (None, 17, 17, 160))\n",
      "(181, 'activation_52', (None, 17, 17, 160))\n",
      "(182, 'activation_57', (None, 17, 17, 160))\n",
      "(183, 'average_pooling2d_5', (None, 17, 17, 768))\n",
      "(184, 'conv2d_50', (None, 17, 17, 192))\n",
      "(185, 'conv2d_53', (None, 17, 17, 192))\n",
      "(186, 'conv2d_58', (None, 17, 17, 192))\n",
      "(187, 'conv2d_59', (None, 17, 17, 192))\n",
      "(188, 'batch_normalization_50', (None, 17, 17, 192))\n",
      "(189, 'batch_normalization_53', (None, 17, 17, 192))\n",
      "(190, 'batch_normalization_58', (None, 17, 17, 192))\n",
      "(191, 'batch_normalization_59', (None, 17, 17, 192))\n",
      "(192, 'activation_50', (None, 17, 17, 192))\n",
      "(193, 'activation_53', (None, 17, 17, 192))\n",
      "(194, 'activation_58', (None, 17, 17, 192))\n",
      "(195, 'activation_59', (None, 17, 17, 192))\n",
      "(196, 'mixed6', (None, 17, 17, 768))\n",
      "(197, 'conv2d_64', (None, 17, 17, 192))\n",
      "(198, 'batch_normalization_64', (None, 17, 17, 192))\n",
      "(199, 'activation_64', (None, 17, 17, 192))\n",
      "(200, 'conv2d_65', (None, 17, 17, 192))\n",
      "(201, 'batch_normalization_65', (None, 17, 17, 192))\n",
      "(202, 'activation_65', (None, 17, 17, 192))\n",
      "(203, 'conv2d_61', (None, 17, 17, 192))\n",
      "(204, 'conv2d_66', (None, 17, 17, 192))\n",
      "(205, 'batch_normalization_61', (None, 17, 17, 192))\n",
      "(206, 'batch_normalization_66', (None, 17, 17, 192))\n",
      "(207, 'activation_61', (None, 17, 17, 192))\n",
      "(208, 'activation_66', (None, 17, 17, 192))\n",
      "(209, 'conv2d_62', (None, 17, 17, 192))\n",
      "(210, 'conv2d_67', (None, 17, 17, 192))\n",
      "(211, 'batch_normalization_62', (None, 17, 17, 192))\n",
      "(212, 'batch_normalization_67', (None, 17, 17, 192))\n",
      "(213, 'activation_62', (None, 17, 17, 192))\n",
      "(214, 'activation_67', (None, 17, 17, 192))\n",
      "(215, 'average_pooling2d_6', (None, 17, 17, 768))\n",
      "(216, 'conv2d_60', (None, 17, 17, 192))\n",
      "(217, 'conv2d_63', (None, 17, 17, 192))\n",
      "(218, 'conv2d_68', (None, 17, 17, 192))\n",
      "(219, 'conv2d_69', (None, 17, 17, 192))\n",
      "(220, 'batch_normalization_60', (None, 17, 17, 192))\n",
      "(221, 'batch_normalization_63', (None, 17, 17, 192))\n",
      "(222, 'batch_normalization_68', (None, 17, 17, 192))\n",
      "(223, 'batch_normalization_69', (None, 17, 17, 192))\n",
      "(224, 'activation_60', (None, 17, 17, 192))\n",
      "(225, 'activation_63', (None, 17, 17, 192))\n",
      "(226, 'activation_68', (None, 17, 17, 192))\n",
      "(227, 'activation_69', (None, 17, 17, 192))\n",
      "(228, 'mixed7', (None, 17, 17, 768))\n",
      "(229, 'conv2d_72', (None, 17, 17, 192))\n",
      "(230, 'batch_normalization_72', (None, 17, 17, 192))\n",
      "(231, 'activation_72', (None, 17, 17, 192))\n",
      "(232, 'conv2d_73', (None, 17, 17, 192))\n",
      "(233, 'batch_normalization_73', (None, 17, 17, 192))\n",
      "(234, 'activation_73', (None, 17, 17, 192))\n",
      "(235, 'conv2d_70', (None, 17, 17, 192))\n",
      "(236, 'conv2d_74', (None, 17, 17, 192))\n",
      "(237, 'batch_normalization_70', (None, 17, 17, 192))\n",
      "(238, 'batch_normalization_74', (None, 17, 17, 192))\n",
      "(239, 'activation_70', (None, 17, 17, 192))\n",
      "(240, 'activation_74', (None, 17, 17, 192))\n",
      "(241, 'conv2d_71', (None, 8, 8, 320))\n",
      "(242, 'conv2d_75', (None, 8, 8, 192))\n",
      "(243, 'batch_normalization_71', (None, 8, 8, 320))\n",
      "(244, 'batch_normalization_75', (None, 8, 8, 192))\n",
      "(245, 'activation_71', (None, 8, 8, 320))\n",
      "(246, 'activation_75', (None, 8, 8, 192))\n",
      "(247, 'max_pooling2d_3', (None, 8, 8, 768))\n",
      "(248, 'mixed8', (None, 8, 8, 1280))\n",
      "(249, 'conv2d_80', (None, 8, 8, 448))\n",
      "(250, 'batch_normalization_80', (None, 8, 8, 448))\n",
      "(251, 'activation_80', (None, 8, 8, 448))\n",
      "(252, 'conv2d_77', (None, 8, 8, 384))\n",
      "(253, 'conv2d_81', (None, 8, 8, 384))\n",
      "(254, 'batch_normalization_77', (None, 8, 8, 384))\n",
      "(255, 'batch_normalization_81', (None, 8, 8, 384))\n",
      "(256, 'activation_77', (None, 8, 8, 384))\n",
      "(257, 'activation_81', (None, 8, 8, 384))\n",
      "(258, 'conv2d_78', (None, 8, 8, 384))\n",
      "(259, 'conv2d_79', (None, 8, 8, 384))\n",
      "(260, 'conv2d_82', (None, 8, 8, 384))\n",
      "(261, 'conv2d_83', (None, 8, 8, 384))\n",
      "(262, 'average_pooling2d_7', (None, 8, 8, 1280))\n",
      "(263, 'conv2d_76', (None, 8, 8, 320))\n",
      "(264, 'batch_normalization_78', (None, 8, 8, 384))\n",
      "(265, 'batch_normalization_79', (None, 8, 8, 384))\n",
      "(266, 'batch_normalization_82', (None, 8, 8, 384))\n",
      "(267, 'batch_normalization_83', (None, 8, 8, 384))\n",
      "(268, 'conv2d_84', (None, 8, 8, 192))\n",
      "(269, 'batch_normalization_76', (None, 8, 8, 320))\n",
      "(270, 'activation_78', (None, 8, 8, 384))\n",
      "(271, 'activation_79', (None, 8, 8, 384))\n",
      "(272, 'activation_82', (None, 8, 8, 384))\n",
      "(273, 'activation_83', (None, 8, 8, 384))\n",
      "(274, 'batch_normalization_84', (None, 8, 8, 192))\n",
      "(275, 'activation_76', (None, 8, 8, 320))\n",
      "(276, 'mixed9_0', (None, 8, 8, 768))\n",
      "(277, 'concatenate', (None, 8, 8, 768))\n",
      "(278, 'activation_84', (None, 8, 8, 192))\n",
      "(279, 'mixed9', (None, 8, 8, 2048))\n",
      "(280, 'conv2d_89', (None, 8, 8, 448))\n",
      "(281, 'batch_normalization_89', (None, 8, 8, 448))\n",
      "(282, 'activation_89', (None, 8, 8, 448))\n",
      "(283, 'conv2d_86', (None, 8, 8, 384))\n",
      "(284, 'conv2d_90', (None, 8, 8, 384))\n",
      "(285, 'batch_normalization_86', (None, 8, 8, 384))\n",
      "(286, 'batch_normalization_90', (None, 8, 8, 384))\n",
      "(287, 'activation_86', (None, 8, 8, 384))\n",
      "(288, 'activation_90', (None, 8, 8, 384))\n",
      "(289, 'conv2d_87', (None, 8, 8, 384))\n",
      "(290, 'conv2d_88', (None, 8, 8, 384))\n",
      "(291, 'conv2d_91', (None, 8, 8, 384))\n",
      "(292, 'conv2d_92', (None, 8, 8, 384))\n",
      "(293, 'average_pooling2d_8', (None, 8, 8, 2048))\n",
      "(294, 'conv2d_85', (None, 8, 8, 320))\n",
      "(295, 'batch_normalization_87', (None, 8, 8, 384))\n",
      "(296, 'batch_normalization_88', (None, 8, 8, 384))\n",
      "(297, 'batch_normalization_91', (None, 8, 8, 384))\n",
      "(298, 'batch_normalization_92', (None, 8, 8, 384))\n",
      "(299, 'conv2d_93', (None, 8, 8, 192))\n",
      "(300, 'batch_normalization_85', (None, 8, 8, 320))\n",
      "(301, 'activation_87', (None, 8, 8, 384))\n",
      "(302, 'activation_88', (None, 8, 8, 384))\n",
      "(303, 'activation_91', (None, 8, 8, 384))\n",
      "(304, 'activation_92', (None, 8, 8, 384))\n",
      "(305, 'batch_normalization_93', (None, 8, 8, 192))\n",
      "(306, 'activation_85', (None, 8, 8, 320))\n",
      "(307, 'mixed9_1', (None, 8, 8, 768))\n",
      "(308, 'concatenate_1', (None, 8, 8, 768))\n",
      "(309, 'activation_93', (None, 8, 8, 192))\n",
      "(310, 'mixed10', (None, 8, 8, 2048))\n",
      "(311, 'avg_pool', (None, 2048))\n",
      "(312, 'predictions', (None, 1000))\n"
     ]
    }
   ],
   "source": [
    "inception_v3_model_top = inception_v3.InceptionV3(include_top=True,\n",
    "                   input_shape=(299,299,3),\n",
    "                   pooling='avg',\n",
    "                   weights='imagenet')\n",
    "\n",
    "for (i,layer) in enumerate(inception_v3_model_top.layers):\n",
    "    print((i, layer.name, layer.output_shape))"
   ]
  },
  {
   "cell_type": "code",
   "execution_count": 9,
   "id": "79756509",
   "metadata": {
    "scrolled": false
   },
   "outputs": [
    {
     "name": "stdout",
     "output_type": "stream",
     "text": [
      "(0, 'input_2', [(None, 299, 299, 3)])\n",
      "(1, 'conv2d_94', (None, 149, 149, 32))\n",
      "(2, 'batch_normalization_94', (None, 149, 149, 32))\n",
      "(3, 'activation_94', (None, 149, 149, 32))\n",
      "(4, 'conv2d_95', (None, 147, 147, 32))\n",
      "(5, 'batch_normalization_95', (None, 147, 147, 32))\n",
      "(6, 'activation_95', (None, 147, 147, 32))\n",
      "(7, 'conv2d_96', (None, 147, 147, 64))\n",
      "(8, 'batch_normalization_96', (None, 147, 147, 64))\n",
      "(9, 'activation_96', (None, 147, 147, 64))\n",
      "(10, 'max_pooling2d_4', (None, 73, 73, 64))\n",
      "(11, 'conv2d_97', (None, 73, 73, 80))\n",
      "(12, 'batch_normalization_97', (None, 73, 73, 80))\n",
      "(13, 'activation_97', (None, 73, 73, 80))\n",
      "(14, 'conv2d_98', (None, 71, 71, 192))\n",
      "(15, 'batch_normalization_98', (None, 71, 71, 192))\n",
      "(16, 'activation_98', (None, 71, 71, 192))\n",
      "(17, 'max_pooling2d_5', (None, 35, 35, 192))\n",
      "(18, 'conv2d_102', (None, 35, 35, 64))\n",
      "(19, 'batch_normalization_102', (None, 35, 35, 64))\n",
      "(20, 'activation_102', (None, 35, 35, 64))\n",
      "(21, 'conv2d_100', (None, 35, 35, 48))\n",
      "(22, 'conv2d_103', (None, 35, 35, 96))\n",
      "(23, 'batch_normalization_100', (None, 35, 35, 48))\n",
      "(24, 'batch_normalization_103', (None, 35, 35, 96))\n",
      "(25, 'activation_100', (None, 35, 35, 48))\n",
      "(26, 'activation_103', (None, 35, 35, 96))\n",
      "(27, 'average_pooling2d_9', (None, 35, 35, 192))\n",
      "(28, 'conv2d_99', (None, 35, 35, 64))\n",
      "(29, 'conv2d_101', (None, 35, 35, 64))\n",
      "(30, 'conv2d_104', (None, 35, 35, 96))\n",
      "(31, 'conv2d_105', (None, 35, 35, 32))\n",
      "(32, 'batch_normalization_99', (None, 35, 35, 64))\n",
      "(33, 'batch_normalization_101', (None, 35, 35, 64))\n",
      "(34, 'batch_normalization_104', (None, 35, 35, 96))\n",
      "(35, 'batch_normalization_105', (None, 35, 35, 32))\n",
      "(36, 'activation_99', (None, 35, 35, 64))\n",
      "(37, 'activation_101', (None, 35, 35, 64))\n",
      "(38, 'activation_104', (None, 35, 35, 96))\n",
      "(39, 'activation_105', (None, 35, 35, 32))\n",
      "(40, 'mixed0', (None, 35, 35, 256))\n",
      "(41, 'conv2d_109', (None, 35, 35, 64))\n",
      "(42, 'batch_normalization_109', (None, 35, 35, 64))\n",
      "(43, 'activation_109', (None, 35, 35, 64))\n",
      "(44, 'conv2d_107', (None, 35, 35, 48))\n",
      "(45, 'conv2d_110', (None, 35, 35, 96))\n",
      "(46, 'batch_normalization_107', (None, 35, 35, 48))\n",
      "(47, 'batch_normalization_110', (None, 35, 35, 96))\n",
      "(48, 'activation_107', (None, 35, 35, 48))\n",
      "(49, 'activation_110', (None, 35, 35, 96))\n",
      "(50, 'average_pooling2d_10', (None, 35, 35, 256))\n",
      "(51, 'conv2d_106', (None, 35, 35, 64))\n",
      "(52, 'conv2d_108', (None, 35, 35, 64))\n",
      "(53, 'conv2d_111', (None, 35, 35, 96))\n",
      "(54, 'conv2d_112', (None, 35, 35, 64))\n",
      "(55, 'batch_normalization_106', (None, 35, 35, 64))\n",
      "(56, 'batch_normalization_108', (None, 35, 35, 64))\n",
      "(57, 'batch_normalization_111', (None, 35, 35, 96))\n",
      "(58, 'batch_normalization_112', (None, 35, 35, 64))\n",
      "(59, 'activation_106', (None, 35, 35, 64))\n",
      "(60, 'activation_108', (None, 35, 35, 64))\n",
      "(61, 'activation_111', (None, 35, 35, 96))\n",
      "(62, 'activation_112', (None, 35, 35, 64))\n",
      "(63, 'mixed1', (None, 35, 35, 288))\n",
      "(64, 'conv2d_116', (None, 35, 35, 64))\n",
      "(65, 'batch_normalization_116', (None, 35, 35, 64))\n",
      "(66, 'activation_116', (None, 35, 35, 64))\n",
      "(67, 'conv2d_114', (None, 35, 35, 48))\n",
      "(68, 'conv2d_117', (None, 35, 35, 96))\n",
      "(69, 'batch_normalization_114', (None, 35, 35, 48))\n",
      "(70, 'batch_normalization_117', (None, 35, 35, 96))\n",
      "(71, 'activation_114', (None, 35, 35, 48))\n",
      "(72, 'activation_117', (None, 35, 35, 96))\n",
      "(73, 'average_pooling2d_11', (None, 35, 35, 288))\n",
      "(74, 'conv2d_113', (None, 35, 35, 64))\n",
      "(75, 'conv2d_115', (None, 35, 35, 64))\n",
      "(76, 'conv2d_118', (None, 35, 35, 96))\n",
      "(77, 'conv2d_119', (None, 35, 35, 64))\n",
      "(78, 'batch_normalization_113', (None, 35, 35, 64))\n",
      "(79, 'batch_normalization_115', (None, 35, 35, 64))\n",
      "(80, 'batch_normalization_118', (None, 35, 35, 96))\n",
      "(81, 'batch_normalization_119', (None, 35, 35, 64))\n",
      "(82, 'activation_113', (None, 35, 35, 64))\n",
      "(83, 'activation_115', (None, 35, 35, 64))\n",
      "(84, 'activation_118', (None, 35, 35, 96))\n",
      "(85, 'activation_119', (None, 35, 35, 64))\n",
      "(86, 'mixed2', (None, 35, 35, 288))\n",
      "(87, 'conv2d_121', (None, 35, 35, 64))\n",
      "(88, 'batch_normalization_121', (None, 35, 35, 64))\n",
      "(89, 'activation_121', (None, 35, 35, 64))\n",
      "(90, 'conv2d_122', (None, 35, 35, 96))\n",
      "(91, 'batch_normalization_122', (None, 35, 35, 96))\n",
      "(92, 'activation_122', (None, 35, 35, 96))\n",
      "(93, 'conv2d_120', (None, 17, 17, 384))\n",
      "(94, 'conv2d_123', (None, 17, 17, 96))\n",
      "(95, 'batch_normalization_120', (None, 17, 17, 384))\n",
      "(96, 'batch_normalization_123', (None, 17, 17, 96))\n",
      "(97, 'activation_120', (None, 17, 17, 384))\n",
      "(98, 'activation_123', (None, 17, 17, 96))\n",
      "(99, 'max_pooling2d_6', (None, 17, 17, 288))\n",
      "(100, 'mixed3', (None, 17, 17, 768))\n",
      "(101, 'conv2d_128', (None, 17, 17, 128))\n",
      "(102, 'batch_normalization_128', (None, 17, 17, 128))\n",
      "(103, 'activation_128', (None, 17, 17, 128))\n",
      "(104, 'conv2d_129', (None, 17, 17, 128))\n",
      "(105, 'batch_normalization_129', (None, 17, 17, 128))\n",
      "(106, 'activation_129', (None, 17, 17, 128))\n",
      "(107, 'conv2d_125', (None, 17, 17, 128))\n",
      "(108, 'conv2d_130', (None, 17, 17, 128))\n",
      "(109, 'batch_normalization_125', (None, 17, 17, 128))\n",
      "(110, 'batch_normalization_130', (None, 17, 17, 128))\n",
      "(111, 'activation_125', (None, 17, 17, 128))\n",
      "(112, 'activation_130', (None, 17, 17, 128))\n",
      "(113, 'conv2d_126', (None, 17, 17, 128))\n",
      "(114, 'conv2d_131', (None, 17, 17, 128))\n",
      "(115, 'batch_normalization_126', (None, 17, 17, 128))\n",
      "(116, 'batch_normalization_131', (None, 17, 17, 128))\n",
      "(117, 'activation_126', (None, 17, 17, 128))\n",
      "(118, 'activation_131', (None, 17, 17, 128))\n",
      "(119, 'average_pooling2d_12', (None, 17, 17, 768))\n",
      "(120, 'conv2d_124', (None, 17, 17, 192))\n",
      "(121, 'conv2d_127', (None, 17, 17, 192))\n",
      "(122, 'conv2d_132', (None, 17, 17, 192))\n",
      "(123, 'conv2d_133', (None, 17, 17, 192))\n",
      "(124, 'batch_normalization_124', (None, 17, 17, 192))\n",
      "(125, 'batch_normalization_127', (None, 17, 17, 192))\n",
      "(126, 'batch_normalization_132', (None, 17, 17, 192))\n",
      "(127, 'batch_normalization_133', (None, 17, 17, 192))\n",
      "(128, 'activation_124', (None, 17, 17, 192))\n",
      "(129, 'activation_127', (None, 17, 17, 192))\n",
      "(130, 'activation_132', (None, 17, 17, 192))\n",
      "(131, 'activation_133', (None, 17, 17, 192))\n",
      "(132, 'mixed4', (None, 17, 17, 768))\n",
      "(133, 'conv2d_138', (None, 17, 17, 160))\n",
      "(134, 'batch_normalization_138', (None, 17, 17, 160))\n",
      "(135, 'activation_138', (None, 17, 17, 160))\n",
      "(136, 'conv2d_139', (None, 17, 17, 160))\n",
      "(137, 'batch_normalization_139', (None, 17, 17, 160))\n",
      "(138, 'activation_139', (None, 17, 17, 160))\n",
      "(139, 'conv2d_135', (None, 17, 17, 160))\n",
      "(140, 'conv2d_140', (None, 17, 17, 160))\n",
      "(141, 'batch_normalization_135', (None, 17, 17, 160))\n",
      "(142, 'batch_normalization_140', (None, 17, 17, 160))\n",
      "(143, 'activation_135', (None, 17, 17, 160))\n",
      "(144, 'activation_140', (None, 17, 17, 160))\n",
      "(145, 'conv2d_136', (None, 17, 17, 160))\n",
      "(146, 'conv2d_141', (None, 17, 17, 160))\n",
      "(147, 'batch_normalization_136', (None, 17, 17, 160))\n",
      "(148, 'batch_normalization_141', (None, 17, 17, 160))\n",
      "(149, 'activation_136', (None, 17, 17, 160))\n",
      "(150, 'activation_141', (None, 17, 17, 160))\n",
      "(151, 'average_pooling2d_13', (None, 17, 17, 768))\n",
      "(152, 'conv2d_134', (None, 17, 17, 192))\n",
      "(153, 'conv2d_137', (None, 17, 17, 192))\n",
      "(154, 'conv2d_142', (None, 17, 17, 192))\n",
      "(155, 'conv2d_143', (None, 17, 17, 192))\n",
      "(156, 'batch_normalization_134', (None, 17, 17, 192))\n",
      "(157, 'batch_normalization_137', (None, 17, 17, 192))\n",
      "(158, 'batch_normalization_142', (None, 17, 17, 192))\n",
      "(159, 'batch_normalization_143', (None, 17, 17, 192))\n",
      "(160, 'activation_134', (None, 17, 17, 192))\n",
      "(161, 'activation_137', (None, 17, 17, 192))\n",
      "(162, 'activation_142', (None, 17, 17, 192))\n",
      "(163, 'activation_143', (None, 17, 17, 192))\n",
      "(164, 'mixed5', (None, 17, 17, 768))\n",
      "(165, 'conv2d_148', (None, 17, 17, 160))\n",
      "(166, 'batch_normalization_148', (None, 17, 17, 160))\n",
      "(167, 'activation_148', (None, 17, 17, 160))\n",
      "(168, 'conv2d_149', (None, 17, 17, 160))\n",
      "(169, 'batch_normalization_149', (None, 17, 17, 160))\n",
      "(170, 'activation_149', (None, 17, 17, 160))\n",
      "(171, 'conv2d_145', (None, 17, 17, 160))\n",
      "(172, 'conv2d_150', (None, 17, 17, 160))\n",
      "(173, 'batch_normalization_145', (None, 17, 17, 160))\n",
      "(174, 'batch_normalization_150', (None, 17, 17, 160))\n",
      "(175, 'activation_145', (None, 17, 17, 160))\n",
      "(176, 'activation_150', (None, 17, 17, 160))\n",
      "(177, 'conv2d_146', (None, 17, 17, 160))\n",
      "(178, 'conv2d_151', (None, 17, 17, 160))\n",
      "(179, 'batch_normalization_146', (None, 17, 17, 160))\n",
      "(180, 'batch_normalization_151', (None, 17, 17, 160))\n",
      "(181, 'activation_146', (None, 17, 17, 160))\n",
      "(182, 'activation_151', (None, 17, 17, 160))\n",
      "(183, 'average_pooling2d_14', (None, 17, 17, 768))\n",
      "(184, 'conv2d_144', (None, 17, 17, 192))\n",
      "(185, 'conv2d_147', (None, 17, 17, 192))\n",
      "(186, 'conv2d_152', (None, 17, 17, 192))\n",
      "(187, 'conv2d_153', (None, 17, 17, 192))\n",
      "(188, 'batch_normalization_144', (None, 17, 17, 192))\n",
      "(189, 'batch_normalization_147', (None, 17, 17, 192))\n",
      "(190, 'batch_normalization_152', (None, 17, 17, 192))\n",
      "(191, 'batch_normalization_153', (None, 17, 17, 192))\n",
      "(192, 'activation_144', (None, 17, 17, 192))\n",
      "(193, 'activation_147', (None, 17, 17, 192))\n",
      "(194, 'activation_152', (None, 17, 17, 192))\n",
      "(195, 'activation_153', (None, 17, 17, 192))\n",
      "(196, 'mixed6', (None, 17, 17, 768))\n",
      "(197, 'conv2d_158', (None, 17, 17, 192))\n",
      "(198, 'batch_normalization_158', (None, 17, 17, 192))\n",
      "(199, 'activation_158', (None, 17, 17, 192))\n",
      "(200, 'conv2d_159', (None, 17, 17, 192))\n",
      "(201, 'batch_normalization_159', (None, 17, 17, 192))\n",
      "(202, 'activation_159', (None, 17, 17, 192))\n",
      "(203, 'conv2d_155', (None, 17, 17, 192))\n",
      "(204, 'conv2d_160', (None, 17, 17, 192))\n",
      "(205, 'batch_normalization_155', (None, 17, 17, 192))\n",
      "(206, 'batch_normalization_160', (None, 17, 17, 192))\n",
      "(207, 'activation_155', (None, 17, 17, 192))\n",
      "(208, 'activation_160', (None, 17, 17, 192))\n",
      "(209, 'conv2d_156', (None, 17, 17, 192))\n",
      "(210, 'conv2d_161', (None, 17, 17, 192))\n",
      "(211, 'batch_normalization_156', (None, 17, 17, 192))\n",
      "(212, 'batch_normalization_161', (None, 17, 17, 192))\n",
      "(213, 'activation_156', (None, 17, 17, 192))\n",
      "(214, 'activation_161', (None, 17, 17, 192))\n",
      "(215, 'average_pooling2d_15', (None, 17, 17, 768))\n",
      "(216, 'conv2d_154', (None, 17, 17, 192))\n",
      "(217, 'conv2d_157', (None, 17, 17, 192))\n",
      "(218, 'conv2d_162', (None, 17, 17, 192))\n",
      "(219, 'conv2d_163', (None, 17, 17, 192))\n",
      "(220, 'batch_normalization_154', (None, 17, 17, 192))\n",
      "(221, 'batch_normalization_157', (None, 17, 17, 192))\n",
      "(222, 'batch_normalization_162', (None, 17, 17, 192))\n",
      "(223, 'batch_normalization_163', (None, 17, 17, 192))\n",
      "(224, 'activation_154', (None, 17, 17, 192))\n",
      "(225, 'activation_157', (None, 17, 17, 192))\n",
      "(226, 'activation_162', (None, 17, 17, 192))\n",
      "(227, 'activation_163', (None, 17, 17, 192))\n",
      "(228, 'mixed7', (None, 17, 17, 768))\n",
      "(229, 'conv2d_166', (None, 17, 17, 192))\n",
      "(230, 'batch_normalization_166', (None, 17, 17, 192))\n",
      "(231, 'activation_166', (None, 17, 17, 192))\n",
      "(232, 'conv2d_167', (None, 17, 17, 192))\n",
      "(233, 'batch_normalization_167', (None, 17, 17, 192))\n",
      "(234, 'activation_167', (None, 17, 17, 192))\n",
      "(235, 'conv2d_164', (None, 17, 17, 192))\n",
      "(236, 'conv2d_168', (None, 17, 17, 192))\n",
      "(237, 'batch_normalization_164', (None, 17, 17, 192))\n",
      "(238, 'batch_normalization_168', (None, 17, 17, 192))\n",
      "(239, 'activation_164', (None, 17, 17, 192))\n",
      "(240, 'activation_168', (None, 17, 17, 192))\n",
      "(241, 'conv2d_165', (None, 8, 8, 320))\n",
      "(242, 'conv2d_169', (None, 8, 8, 192))\n",
      "(243, 'batch_normalization_165', (None, 8, 8, 320))\n",
      "(244, 'batch_normalization_169', (None, 8, 8, 192))\n",
      "(245, 'activation_165', (None, 8, 8, 320))\n",
      "(246, 'activation_169', (None, 8, 8, 192))\n",
      "(247, 'max_pooling2d_7', (None, 8, 8, 768))\n",
      "(248, 'mixed8', (None, 8, 8, 1280))\n",
      "(249, 'conv2d_174', (None, 8, 8, 448))\n",
      "(250, 'batch_normalization_174', (None, 8, 8, 448))\n",
      "(251, 'activation_174', (None, 8, 8, 448))\n",
      "(252, 'conv2d_171', (None, 8, 8, 384))\n",
      "(253, 'conv2d_175', (None, 8, 8, 384))\n",
      "(254, 'batch_normalization_171', (None, 8, 8, 384))\n",
      "(255, 'batch_normalization_175', (None, 8, 8, 384))\n",
      "(256, 'activation_171', (None, 8, 8, 384))\n",
      "(257, 'activation_175', (None, 8, 8, 384))\n",
      "(258, 'conv2d_172', (None, 8, 8, 384))\n",
      "(259, 'conv2d_173', (None, 8, 8, 384))\n",
      "(260, 'conv2d_176', (None, 8, 8, 384))\n",
      "(261, 'conv2d_177', (None, 8, 8, 384))\n",
      "(262, 'average_pooling2d_16', (None, 8, 8, 1280))\n",
      "(263, 'conv2d_170', (None, 8, 8, 320))\n",
      "(264, 'batch_normalization_172', (None, 8, 8, 384))\n",
      "(265, 'batch_normalization_173', (None, 8, 8, 384))\n",
      "(266, 'batch_normalization_176', (None, 8, 8, 384))\n",
      "(267, 'batch_normalization_177', (None, 8, 8, 384))\n",
      "(268, 'conv2d_178', (None, 8, 8, 192))\n",
      "(269, 'batch_normalization_170', (None, 8, 8, 320))\n",
      "(270, 'activation_172', (None, 8, 8, 384))\n",
      "(271, 'activation_173', (None, 8, 8, 384))\n",
      "(272, 'activation_176', (None, 8, 8, 384))\n",
      "(273, 'activation_177', (None, 8, 8, 384))\n",
      "(274, 'batch_normalization_178', (None, 8, 8, 192))\n",
      "(275, 'activation_170', (None, 8, 8, 320))\n",
      "(276, 'mixed9_0', (None, 8, 8, 768))\n",
      "(277, 'concatenate_2', (None, 8, 8, 768))\n",
      "(278, 'activation_178', (None, 8, 8, 192))\n",
      "(279, 'mixed9', (None, 8, 8, 2048))\n",
      "(280, 'conv2d_183', (None, 8, 8, 448))\n",
      "(281, 'batch_normalization_183', (None, 8, 8, 448))\n",
      "(282, 'activation_183', (None, 8, 8, 448))\n",
      "(283, 'conv2d_180', (None, 8, 8, 384))\n",
      "(284, 'conv2d_184', (None, 8, 8, 384))\n",
      "(285, 'batch_normalization_180', (None, 8, 8, 384))\n",
      "(286, 'batch_normalization_184', (None, 8, 8, 384))\n",
      "(287, 'activation_180', (None, 8, 8, 384))\n",
      "(288, 'activation_184', (None, 8, 8, 384))\n",
      "(289, 'conv2d_181', (None, 8, 8, 384))\n",
      "(290, 'conv2d_182', (None, 8, 8, 384))\n",
      "(291, 'conv2d_185', (None, 8, 8, 384))\n",
      "(292, 'conv2d_186', (None, 8, 8, 384))\n",
      "(293, 'average_pooling2d_17', (None, 8, 8, 2048))\n",
      "(294, 'conv2d_179', (None, 8, 8, 320))\n",
      "(295, 'batch_normalization_181', (None, 8, 8, 384))\n",
      "(296, 'batch_normalization_182', (None, 8, 8, 384))\n",
      "(297, 'batch_normalization_185', (None, 8, 8, 384))\n",
      "(298, 'batch_normalization_186', (None, 8, 8, 384))\n",
      "(299, 'conv2d_187', (None, 8, 8, 192))\n",
      "(300, 'batch_normalization_179', (None, 8, 8, 320))\n",
      "(301, 'activation_181', (None, 8, 8, 384))\n",
      "(302, 'activation_182', (None, 8, 8, 384))\n",
      "(303, 'activation_185', (None, 8, 8, 384))\n",
      "(304, 'activation_186', (None, 8, 8, 384))\n",
      "(305, 'batch_normalization_187', (None, 8, 8, 192))\n",
      "(306, 'activation_179', (None, 8, 8, 320))\n",
      "(307, 'mixed9_1', (None, 8, 8, 768))\n",
      "(308, 'concatenate_3', (None, 8, 8, 768))\n",
      "(309, 'activation_187', (None, 8, 8, 192))\n",
      "(310, 'mixed10', (None, 8, 8, 2048))\n",
      "(311, 'global_average_pooling2d', (None, 2048))\n"
     ]
    }
   ],
   "source": [
    "inception_v3_model = inception_v3.InceptionV3(include_top=False,\n",
    "                   input_shape=(299,299,3),\n",
    "                   pooling='avg',classes=15,\n",
    "                   weights='imagenet')\n",
    "\n",
    "for (i,layer) in enumerate(inception_v3_model.layers):\n",
    "    layer.trainable = False\n",
    "    print((i, layer.name, layer.output_shape))"
   ]
  },
  {
   "cell_type": "code",
   "execution_count": 10,
   "id": "d4f668af",
   "metadata": {
    "scrolled": true
   },
   "outputs": [
    {
     "name": "stdout",
     "output_type": "stream",
     "text": [
      "Model: \"sequential\"\n",
      "_________________________________________________________________\n",
      " Layer (type)                Output Shape              Param #   \n",
      "=================================================================\n",
      " inception_v3 (Functional)   (None, 2048)              21802784  \n",
      "                                                                 \n",
      " dense (Dense)               (None, 32)                65568     \n",
      "                                                                 \n",
      " dense_1 (Dense)             (None, 15)                495       \n",
      "                                                                 \n",
      "=================================================================\n",
      "Total params: 21,868,847\n",
      "Trainable params: 66,063\n",
      "Non-trainable params: 21,802,784\n",
      "_________________________________________________________________\n"
     ]
    }
   ],
   "source": [
    "model = models.Sequential()\n",
    "\n",
    "dense_layer_1 = Dense(32, activation='relu')\n",
    "prediction_layer = Dense(15, activation='softmax')\n",
    "\n",
    "model.add(inception_v3_model)\n",
    "model.add(dense_layer_1)\n",
    "model.add(prediction_layer)\n",
    "\n",
    "model.summary()"
   ]
  },
  {
   "cell_type": "code",
   "execution_count": 11,
   "id": "557b39a3",
   "metadata": {
    "scrolled": true
   },
   "outputs": [],
   "source": [
    "model.compile(\n",
    "    optimizer='adam',\n",
    "    loss='categorical_crossentropy',\n",
    "    metrics=['accuracy'],\n",
    ")"
   ]
  },
  {
   "cell_type": "code",
   "execution_count": 12,
   "id": "0bba864d",
   "metadata": {
    "scrolled": true
   },
   "outputs": [],
   "source": [
    "model.save(\"./models/action-class-15-model-inception_v3_model.h5\")"
   ]
  },
  {
   "cell_type": "code",
   "execution_count": 13,
   "id": "0c496777",
   "metadata": {
    "scrolled": true
   },
   "outputs": [
    {
     "name": "stdout",
     "output_type": "stream",
     "text": [
      "Epoch 1/20\n"
     ]
    },
    {
     "name": "stderr",
     "output_type": "stream",
     "text": [
      "2022-08-25 16:11:33.853346: I tensorflow/stream_executor/cuda/cuda_dnn.cc:384] Loaded cuDNN version 8401\n",
      "2022-08-25 16:11:34.221907: I tensorflow/core/platform/default/subprocess.cc:304] Start cannot spawn child process: No such file or directory\n"
     ]
    },
    {
     "name": "stdout",
     "output_type": "stream",
     "text": [
      "377/377 [==============================] - 55s 133ms/step - loss: 0.8889 - accuracy: 0.7709 - val_loss: 0.3456 - val_accuracy: 0.9154\n",
      "Epoch 2/20\n",
      "377/377 [==============================] - 47s 124ms/step - loss: 0.1768 - accuracy: 0.9604 - val_loss: 0.2401 - val_accuracy: 0.9304\n",
      "Epoch 3/20\n",
      "377/377 [==============================] - 47s 125ms/step - loss: 0.0913 - accuracy: 0.9817 - val_loss: 0.2020 - val_accuracy: 0.9347\n",
      "Epoch 4/20\n",
      "377/377 [==============================] - 49s 131ms/step - loss: 0.0556 - accuracy: 0.9907 - val_loss: 0.1878 - val_accuracy: 0.9433\n",
      "Epoch 5/20\n",
      "377/377 [==============================] - 58s 155ms/step - loss: 0.0360 - accuracy: 0.9944 - val_loss: 0.2217 - val_accuracy: 0.9229\n",
      "Epoch 6/20\n",
      "377/377 [==============================] - 73s 193ms/step - loss: 0.0241 - accuracy: 0.9968 - val_loss: 0.2060 - val_accuracy: 0.9304\n",
      "Epoch 7/20\n",
      "377/377 [==============================] - 77s 205ms/step - loss: 0.0145 - accuracy: 0.9995 - val_loss: 0.1852 - val_accuracy: 0.9411\n",
      "Epoch 8/20\n",
      "377/377 [==============================] - 85s 226ms/step - loss: 0.0105 - accuracy: 0.9997 - val_loss: 0.1987 - val_accuracy: 0.9411\n",
      "Epoch 9/20\n",
      "377/377 [==============================] - 90s 239ms/step - loss: 0.0071 - accuracy: 1.0000 - val_loss: 0.2081 - val_accuracy: 0.9390\n",
      "Epoch 10/20\n",
      "377/377 [==============================] - 93s 246ms/step - loss: 0.0054 - accuracy: 1.0000 - val_loss: 0.2015 - val_accuracy: 0.9400\n",
      "Epoch 11/20\n",
      "377/377 [==============================] - 89s 235ms/step - loss: 0.0039 - accuracy: 1.0000 - val_loss: 0.1914 - val_accuracy: 0.9465\n",
      "Epoch 12/20\n",
      "377/377 [==============================] - 101s 268ms/step - loss: 0.0029 - accuracy: 1.0000 - val_loss: 0.2185 - val_accuracy: 0.9368\n",
      "Epoch 13/20\n",
      "377/377 [==============================] - 98s 259ms/step - loss: 0.0025 - accuracy: 1.0000 - val_loss: 0.2026 - val_accuracy: 0.9411\n",
      "Epoch 14/20\n",
      "377/377 [==============================] - 99s 261ms/step - loss: 0.0021 - accuracy: 1.0000 - val_loss: 0.2029 - val_accuracy: 0.9422\n",
      "Epoch 15/20\n",
      "377/377 [==============================] - 85s 224ms/step - loss: 0.0014 - accuracy: 1.0000 - val_loss: 0.2052 - val_accuracy: 0.9475\n",
      "Epoch 16/20\n",
      "377/377 [==============================] - 97s 257ms/step - loss: 0.0011 - accuracy: 1.0000 - val_loss: 0.2245 - val_accuracy: 0.9465\n",
      "Epoch 17/20\n",
      "377/377 [==============================] - 93s 246ms/step - loss: 0.0011 - accuracy: 1.0000 - val_loss: 0.2504 - val_accuracy: 0.9325\n",
      "Epoch 18/20\n",
      "377/377 [==============================] - 96s 255ms/step - loss: 0.0382 - accuracy: 0.9875 - val_loss: 0.2758 - val_accuracy: 0.9315\n",
      "Epoch 19/20\n",
      "377/377 [==============================] - 97s 257ms/step - loss: 0.0020 - accuracy: 1.0000 - val_loss: 0.3937 - val_accuracy: 0.9111\n",
      "Epoch 20/20\n",
      "377/377 [==============================] - 92s 243ms/step - loss: 7.8810e-04 - accuracy: 1.0000 - val_loss: 0.2655 - val_accuracy: 0.9379\n"
     ]
    }
   ],
   "source": [
    "fit = model.fit(train_batches, epochs=20, validation_data=validation_batches)"
   ]
  },
  {
   "cell_type": "code",
   "execution_count": 14,
   "id": "b2d29746",
   "metadata": {
    "scrolled": true
   },
   "outputs": [],
   "source": [
    "model.save(\"./models/action-class-15-trained-inception_v3_model.h5\")"
   ]
  },
  {
   "cell_type": "markdown",
   "id": "156ea49e",
   "metadata": {},
   "source": [
    "## Evaluate and Predict"
   ]
  },
  {
   "cell_type": "code",
   "execution_count": 15,
   "id": "7d14ce5f",
   "metadata": {
    "scrolled": true
   },
   "outputs": [
    {
     "name": "stdout",
     "output_type": "stream",
     "text": [
      "Model: \"sequential\"\n",
      "_________________________________________________________________\n",
      " Layer (type)                Output Shape              Param #   \n",
      "=================================================================\n",
      " inception_v3 (Functional)   (None, 2048)              21802784  \n",
      "                                                                 \n",
      " dense (Dense)               (None, 32)                65568     \n",
      "                                                                 \n",
      " dense_1 (Dense)             (None, 15)                495       \n",
      "                                                                 \n",
      "=================================================================\n",
      "Total params: 21,868,847\n",
      "Trainable params: 66,063\n",
      "Non-trainable params: 21,802,784\n",
      "_________________________________________________________________\n"
     ]
    }
   ],
   "source": [
    "model = models.load_model(\"./models/action-class-15-trained-inception_v3_model.h5\")\n",
    "model.summary()"
   ]
  },
  {
   "cell_type": "code",
   "execution_count": 16,
   "id": "fcae2848",
   "metadata": {
    "scrolled": true
   },
   "outputs": [
    {
     "name": "stdout",
     "output_type": "stream",
     "text": [
      "94/94 [==============================] - 12s 109ms/step - loss: 0.2655 - accuracy: 0.9379\n"
     ]
    },
    {
     "data": {
      "text/plain": [
       "[0.265487939119339, 0.937901496887207]"
      ]
     },
     "execution_count": 16,
     "metadata": {},
     "output_type": "execute_result"
    }
   ],
   "source": [
    "model.evaluate(test_batches)"
   ]
  },
  {
   "cell_type": "code",
   "execution_count": 17,
   "id": "fc0d3e51",
   "metadata": {
    "scrolled": true
   },
   "outputs": [
    {
     "data": {
      "image/png": "[encoded data removed]",
      "text/plain": [
       "<Figure size 432x288 with 1 Axes>"
      ]
     },
     "metadata": {},
     "output_type": "display_data"
    },
    {
     "data": {
      "image/png": "[encoded data removed]",
      "text/plain": [
       "<Figure size 432x288 with 1 Axes>"
      ]
     },
     "metadata": {},
     "output_type": "display_data"
    }
   ],
   "source": [
    "plt.style.use(\"ggplot\")\n",
    "plt.figure()\n",
    "\n",
    "plt.plot(np.arange(0, 20), fit.history[\"loss\"], label=\"train_loss\")\n",
    "plt.plot(np.arange(0, 20), fit.history[\"val_loss\"], label=\"val_loss\")\n",
    "plt.title(\"Training Loss\")\n",
    "plt.xlabel(\"Epoch #\")\n",
    "plt.ylabel(\"Loss\")\n",
    "plt.legend(loc=\"lower left\")\n",
    "plt.show()\n",
    "\n",
    "plt.plot(np.arange(0, 20), fit.history[\"accuracy\"], label=\"train_acc\")\n",
    "plt.plot(np.arange(0, 20), fit.history[\"val_accuracy\"], label=\"val_acc\")\n",
    "plt.title(\"Accuracy\")\n",
    "plt.xlabel(\"Epoch #\")\n",
    "plt.ylabel(\"Accuracy\")\n",
    "plt.legend(loc=\"lower left\")\n",
    "plt.show()"
   ]
  },
  {
   "cell_type": "code",
   "execution_count": 18,
   "id": "14d0a807",
   "metadata": {
    "scrolled": true
   },
   "outputs": [
    {
     "name": "stdout",
     "output_type": "stream",
     "text": [
      "Avg Val Acc: 0.9355995684862137\n",
      "Avg Val Loss: 0.23134735822677613\n"
     ]
    }
   ],
   "source": [
    "print(\"Avg Val Acc: \" + str(sum(fit.history[\"val_accuracy\"])/20))\n",
    "print(\"Avg Val Loss: \" + str(sum(fit.history[\"val_loss\"])/20))"
   ]
  }
 ],
 "metadata": {
  "kernelspec": {
   "display_name": "Python 3 (ipykernel)",
   "language": "python",
   "name": "python3"
  },
  "language_info": {
   "codemirror_mode": {
    "name": "ipython",
    "version": 3
   },
   "file_extension": ".py",
   "mimetype": "text/x-python",
   "name": "python",
   "nbconvert_exporter": "python",
   "pygments_lexer": "ipython3",
   "version": "3.10.4"
  }
 },
 "nbformat": 4,
 "nbformat_minor": 5
}
