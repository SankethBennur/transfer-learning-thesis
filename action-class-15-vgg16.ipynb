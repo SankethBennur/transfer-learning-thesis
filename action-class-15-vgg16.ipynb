{
 "cells": [
  {
   "cell_type": "markdown",
   "id": "ab025bf5",
   "metadata": {},
   "source": [
    "# VGG-16 Model"
   ]
  },
  {
   "cell_type": "markdown",
   "id": "45dd6033",
   "metadata": {},
   "source": [
    "### <u>Action Classes - 15</u>"
   ]
  },
  {
   "cell_type": "code",
   "execution_count": 1,
   "id": "d442044a",
   "metadata": {},
   "outputs": [],
   "source": [
    "from keras import models\n",
    "from keras.layers import Dense,Flatten\n",
    "from keras import backend as K\n",
    "import numpy as np\n",
    "import matplotlib.pyplot as plt\n",
    "\n",
    "from keras.applications import vgg16"
   ]
  },
  {
   "cell_type": "code",
   "execution_count": 2,
   "id": "aaa4be4f",
   "metadata": {},
   "outputs": [
    {
     "name": "stdout",
     "output_type": "stream",
     "text": [
      "Num GPUs Available:  1\n"
     ]
    },
    {
     "name": "stderr",
     "output_type": "stream",
     "text": [
      "2022-08-25 17:33:47.689083: I tensorflow/stream_executor/cuda/cuda_gpu_executor.cc:975] successful NUMA node read from SysFS had negative value (-1), but there must be at least one NUMA node, so returning NUMA node zero\n",
      "2022-08-25 17:33:47.717502: I tensorflow/stream_executor/cuda/cuda_gpu_executor.cc:975] successful NUMA node read from SysFS had negative value (-1), but there must be at least one NUMA node, so returning NUMA node zero\n",
      "2022-08-25 17:33:47.717753: I tensorflow/stream_executor/cuda/cuda_gpu_executor.cc:975] successful NUMA node read from SysFS had negative value (-1), but there must be at least one NUMA node, so returning NUMA node zero\n"
     ]
    }
   ],
   "source": [
    "import tensorflow as tf\n",
    "print(\"Num GPUs Available: \", len(tf.config.list_physical_devices('GPU')))"
   ]
  },
  {
   "cell_type": "markdown",
   "id": "8b671d8b",
   "metadata": {},
   "source": [
    "<img src='https://miro.medium.com/max/1400/1*NNifzsJ7tD2kAfBXt3AzEg.png'>"
   ]
  },
  {
   "cell_type": "markdown",
   "id": "83d2138a",
   "metadata": {},
   "source": [
    "## Dataset"
   ]
  },
  {
   "cell_type": "code",
   "execution_count": 3,
   "id": "8da02113",
   "metadata": {},
   "outputs": [],
   "source": [
    "from keras.preprocessing.image import ImageDataGenerator\n",
    "\n",
    "dataset_path = \"./frames/\"\n",
    "# will contain the categories in respective folders\n",
    "\n",
    "# Data generators\n",
    "train_datagen = ImageDataGenerator(rescale=1/255, validation_split=0.2)\n"
   ]
  },
  {
   "cell_type": "code",
   "execution_count": 4,
   "id": "929e061f",
   "metadata": {},
   "outputs": [
    {
     "name": "stdout",
     "output_type": "stream",
     "text": [
      "Found 3767 images belonging to 15 classes.\n",
      "Found 934 images belonging to 15 classes.\n",
      "Found 934 images belonging to 15 classes.\n"
     ]
    }
   ],
   "source": [
    "image_size = (224,224)\n",
    "batch_size = 10\n",
    "\n",
    "train_batches = train_datagen.flow_from_directory(\n",
    "    dataset_path,\n",
    "    target_size = image_size,\n",
    "    batch_size = batch_size,\n",
    "    class_mode = \"categorical\",\n",
    "    subset = \"training\"\n",
    ")\n",
    "\n",
    "validation_batches = train_datagen.flow_from_directory(\n",
    "    dataset_path,\n",
    "    target_size = image_size,\n",
    "    batch_size = batch_size,\n",
    "    class_mode = \"categorical\",\n",
    "    subset = \"validation\"\n",
    ")\n",
    "\n",
    "test_batches = train_datagen.flow_from_directory(\n",
    "    dataset_path,\n",
    "    target_size = image_size,\n",
    "    batch_size = batch_size,\n",
    "    class_mode = \"categorical\",\n",
    "    subset = \"validation\"\n",
    ")"
   ]
  },
  {
   "cell_type": "code",
   "execution_count": 5,
   "id": "2ceee3f1",
   "metadata": {},
   "outputs": [
    {
     "data": {
      "text/plain": [
       "{'ApplyLipstick': 0,\n",
       " 'Archery': 1,\n",
       " 'BabyCrawling': 2,\n",
       " 'Biking': 3,\n",
       " 'Diving': 4,\n",
       " 'Fencing': 5,\n",
       " 'Kayaking': 6,\n",
       " 'MilitaryParade': 7,\n",
       " 'PizzaTossing': 8,\n",
       " 'ShavingBeard': 9,\n",
       " 'SkateBoarding': 10,\n",
       " 'SumoWrestling': 11,\n",
       " 'TennisSwing': 12,\n",
       " 'Typing': 13,\n",
       " 'WritingOnBoard': 14}"
      ]
     },
     "execution_count": 5,
     "metadata": {},
     "output_type": "execute_result"
    }
   ],
   "source": [
    "train_batches.class_indices"
   ]
  },
  {
   "cell_type": "code",
   "execution_count": 6,
   "id": "8ed06cd8",
   "metadata": {},
   "outputs": [],
   "source": [
    "from matplotlib import pyplot as plt\n",
    "\n",
    "def plot_images(images_arr):\n",
    "    fig, axes = plt.subplots(1,10)\n",
    "    axes = axes.flatten()\n",
    "    for img, ax in zip(images_arr, axes):\n",
    "        ax.imshow(img)\n",
    "        ax.axis('off')\n",
    "    plt.tight_layout()\n",
    "    plt.show()"
   ]
  },
  {
   "cell_type": "code",
   "execution_count": 7,
   "id": "ae1ce8b5",
   "metadata": {},
   "outputs": [
    {
     "data": {
      "image/png": "[encoded data removed]",
      "text/plain": [
       "<Figure size 432x288 with 10 Axes>"
      ]
     },
     "metadata": {
      "needs_background": "light"
     },
     "output_type": "display_data"
    },
    {
     "name": "stdout",
     "output_type": "stream",
     "text": [
      "[[1. 0. 0. 0. 0. 0. 0. 0. 0. 0. 0. 0. 0. 0. 0.]\n",
      " [0. 0. 0. 0. 0. 0. 0. 0. 1. 0. 0. 0. 0. 0. 0.]\n",
      " [0. 0. 0. 0. 0. 0. 0. 0. 0. 0. 0. 0. 0. 0. 1.]\n",
      " [0. 0. 0. 0. 0. 0. 0. 0. 0. 0. 0. 1. 0. 0. 0.]\n",
      " [0. 0. 0. 0. 0. 0. 0. 0. 0. 0. 0. 0. 1. 0. 0.]\n",
      " [0. 0. 0. 1. 0. 0. 0. 0. 0. 0. 0. 0. 0. 0. 0.]\n",
      " [1. 0. 0. 0. 0. 0. 0. 0. 0. 0. 0. 0. 0. 0. 0.]\n",
      " [0. 0. 0. 0. 0. 0. 0. 0. 0. 0. 0. 0. 0. 1. 0.]\n",
      " [0. 0. 0. 0. 0. 0. 0. 0. 0. 1. 0. 0. 0. 0. 0.]\n",
      " [0. 0. 1. 0. 0. 0. 0. 0. 0. 0. 0. 0. 0. 0. 0.]]\n"
     ]
    }
   ],
   "source": [
    "imgs, labels = train_batches[0]\n",
    "plot_images(imgs)\n",
    "print(labels[:10])"
   ]
  },
  {
   "cell_type": "markdown",
   "id": "bbd99a9f",
   "metadata": {},
   "source": [
    "## Initialize Model"
   ]
  },
  {
   "cell_type": "code",
   "execution_count": 8,
   "id": "0ce80e18",
   "metadata": {},
   "outputs": [
    {
     "name": "stderr",
     "output_type": "stream",
     "text": [
      "2022-08-25 17:33:48.451468: I tensorflow/core/platform/cpu_feature_guard.cc:193] This TensorFlow binary is optimized with oneAPI Deep Neural Network Library (oneDNN) to use the following CPU instructions in performance-critical operations:  AVX2 FMA\n",
      "To enable them in other operations, rebuild TensorFlow with the appropriate compiler flags.\n",
      "2022-08-25 17:33:48.451975: I tensorflow/stream_executor/cuda/cuda_gpu_executor.cc:975] successful NUMA node read from SysFS had negative value (-1), but there must be at least one NUMA node, so returning NUMA node zero\n",
      "2022-08-25 17:33:48.452250: I tensorflow/stream_executor/cuda/cuda_gpu_executor.cc:975] successful NUMA node read from SysFS had negative value (-1), but there must be at least one NUMA node, so returning NUMA node zero\n",
      "2022-08-25 17:33:48.452522: I tensorflow/stream_executor/cuda/cuda_gpu_executor.cc:975] successful NUMA node read from SysFS had negative value (-1), but there must be at least one NUMA node, so returning NUMA node zero\n",
      "2022-08-25 17:33:48.887809: I tensorflow/stream_executor/cuda/cuda_gpu_executor.cc:975] successful NUMA node read from SysFS had negative value (-1), but there must be at least one NUMA node, so returning NUMA node zero\n",
      "2022-08-25 17:33:48.887991: I tensorflow/stream_executor/cuda/cuda_gpu_executor.cc:975] successful NUMA node read from SysFS had negative value (-1), but there must be at least one NUMA node, so returning NUMA node zero\n",
      "2022-08-25 17:33:48.888114: I tensorflow/stream_executor/cuda/cuda_gpu_executor.cc:975] successful NUMA node read from SysFS had negative value (-1), but there must be at least one NUMA node, so returning NUMA node zero\n",
      "2022-08-25 17:33:48.888215: I tensorflow/core/common_runtime/gpu/gpu_device.cc:1532] Created device /job:localhost/replica:0/task:0/device:GPU:0 with 3368 MB memory:  -> device: 0, name: NVIDIA GeForce GTX 1050 Ti, pci bus id: 0000:01:00.0, compute capability: 6.1\n"
     ]
    },
    {
     "name": "stdout",
     "output_type": "stream",
     "text": [
      "(0, 'input_1', [(None, 224, 224, 3)])\n",
      "(1, 'block1_conv1', (None, 224, 224, 64))\n",
      "(2, 'block1_conv2', (None, 224, 224, 64))\n",
      "(3, 'block1_pool', (None, 112, 112, 64))\n",
      "(4, 'block2_conv1', (None, 112, 112, 128))\n",
      "(5, 'block2_conv2', (None, 112, 112, 128))\n",
      "(6, 'block2_pool', (None, 56, 56, 128))\n",
      "(7, 'block3_conv1', (None, 56, 56, 256))\n",
      "(8, 'block3_conv2', (None, 56, 56, 256))\n",
      "(9, 'block3_conv3', (None, 56, 56, 256))\n",
      "(10, 'block3_pool', (None, 28, 28, 256))\n",
      "(11, 'block4_conv1', (None, 28, 28, 512))\n",
      "(12, 'block4_conv2', (None, 28, 28, 512))\n",
      "(13, 'block4_conv3', (None, 28, 28, 512))\n",
      "(14, 'block4_pool', (None, 14, 14, 512))\n",
      "(15, 'block5_conv1', (None, 14, 14, 512))\n",
      "(16, 'block5_conv2', (None, 14, 14, 512))\n",
      "(17, 'block5_conv3', (None, 14, 14, 512))\n",
      "(18, 'block5_pool', (None, 7, 7, 512))\n",
      "(19, 'flatten', (None, 25088))\n",
      "(20, 'fc1', (None, 4096))\n",
      "(21, 'fc2', (None, 4096))\n",
      "(22, 'predictions', (None, 1000))\n"
     ]
    }
   ],
   "source": [
    "vggmodeltop = vgg16.VGG16(include_top=True,\n",
    "                   input_shape=(224,224,3),\n",
    "                   pooling='avg',\n",
    "                   weights='imagenet')\n",
    "\n",
    "for (i,layer) in enumerate(vggmodeltop.layers):\n",
    "    layer.trainable = False\n",
    "    print((i, layer.name, layer.output_shape))"
   ]
  },
  {
   "cell_type": "code",
   "execution_count": 9,
   "id": "79756509",
   "metadata": {},
   "outputs": [
    {
     "name": "stdout",
     "output_type": "stream",
     "text": [
      "(0, 'input_2', [(None, 224, 224, 3)])\n",
      "(1, 'block1_conv1', (None, 224, 224, 64))\n",
      "(2, 'block1_conv2', (None, 224, 224, 64))\n",
      "(3, 'block1_pool', (None, 112, 112, 64))\n",
      "(4, 'block2_conv1', (None, 112, 112, 128))\n",
      "(5, 'block2_conv2', (None, 112, 112, 128))\n",
      "(6, 'block2_pool', (None, 56, 56, 128))\n",
      "(7, 'block3_conv1', (None, 56, 56, 256))\n",
      "(8, 'block3_conv2', (None, 56, 56, 256))\n",
      "(9, 'block3_conv3', (None, 56, 56, 256))\n",
      "(10, 'block3_pool', (None, 28, 28, 256))\n",
      "(11, 'block4_conv1', (None, 28, 28, 512))\n",
      "(12, 'block4_conv2', (None, 28, 28, 512))\n",
      "(13, 'block4_conv3', (None, 28, 28, 512))\n",
      "(14, 'block4_pool', (None, 14, 14, 512))\n",
      "(15, 'block5_conv1', (None, 14, 14, 512))\n",
      "(16, 'block5_conv2', (None, 14, 14, 512))\n",
      "(17, 'block5_conv3', (None, 14, 14, 512))\n",
      "(18, 'block5_pool', (None, 7, 7, 512))\n",
      "(19, 'global_average_pooling2d', (None, 512))\n"
     ]
    }
   ],
   "source": [
    "vggmodel = vgg16.VGG16(include_top=False,\n",
    "                   input_shape=(224,224,3),\n",
    "                   pooling='avg',classes=15,\n",
    "                   weights='imagenet')\n",
    "\n",
    "for (i,layer) in enumerate(vggmodel.layers):\n",
    "    layer.trainable = False\n",
    "    print((i, layer.name, layer.output_shape))"
   ]
  },
  {
   "cell_type": "code",
   "execution_count": 10,
   "id": "d4f668af",
   "metadata": {},
   "outputs": [
    {
     "name": "stdout",
     "output_type": "stream",
     "text": [
      "Model: \"sequential\"\n",
      "_________________________________________________________________\n",
      " Layer (type)                Output Shape              Param #   \n",
      "=================================================================\n",
      " vgg16 (Functional)          (None, 512)               14714688  \n",
      "                                                                 \n",
      " dense (Dense)               (None, 32)                16416     \n",
      "                                                                 \n",
      " dense_1 (Dense)             (None, 32)                1056      \n",
      "                                                                 \n",
      " dense_2 (Dense)             (None, 15)                495       \n",
      "                                                                 \n",
      "=================================================================\n",
      "Total params: 14,732,655\n",
      "Trainable params: 17,967\n",
      "Non-trainable params: 14,714,688\n",
      "_________________________________________________________________\n"
     ]
    }
   ],
   "source": [
    "model = models.Sequential()\n",
    "\n",
    "dense_layer_1 = Dense(32, activation='relu')\n",
    "dense_layer_2 = Dense(32, activation='relu')\n",
    "prediction_layer = Dense(15, activation='softmax')\n",
    "\n",
    "model.add(vggmodel)\n",
    "model.add(dense_layer_1)\n",
    "model.add(dense_layer_2)\n",
    "model.add(prediction_layer)\n",
    "\n",
    "model.summary()"
   ]
  },
  {
   "cell_type": "code",
   "execution_count": 11,
   "id": "557b39a3",
   "metadata": {},
   "outputs": [],
   "source": [
    "model.compile(\n",
    "    optimizer='adam',\n",
    "    loss='categorical_crossentropy',\n",
    "    metrics=['accuracy'],\n",
    ")"
   ]
  },
  {
   "cell_type": "code",
   "execution_count": 12,
   "id": "0bba864d",
   "metadata": {},
   "outputs": [],
   "source": [
    "model.save(\"./models/action-class-15-model-vgg16.h5\")"
   ]
  },
  {
   "cell_type": "code",
   "execution_count": 13,
   "id": "0c496777",
   "metadata": {
    "scrolled": false
   },
   "outputs": [
    {
     "name": "stdout",
     "output_type": "stream",
     "text": [
      "Epoch 1/20\n"
     ]
    },
    {
     "name": "stderr",
     "output_type": "stream",
     "text": [
      "2022-08-25 17:33:52.383352: I tensorflow/stream_executor/cuda/cuda_dnn.cc:384] Loaded cuDNN version 8401\n",
      "2022-08-25 17:33:52.797291: I tensorflow/core/platform/default/subprocess.cc:304] Start cannot spawn child process: No such file or directory\n",
      "2022-08-25 17:33:53.014079: W tensorflow/core/common_runtime/bfc_allocator.cc:290] Allocator (GPU_0_bfc) ran out of memory trying to allocate 2.35GiB with freed_by_count=0. The caller indicates that this is not a failure, but this may mean that there could be performance gains if more memory were available.\n"
     ]
    },
    {
     "name": "stdout",
     "output_type": "stream",
     "text": [
      "377/377 [==============================] - 71s 180ms/step - loss: 2.0605 - accuracy: 0.3770 - val_loss: 1.4728 - val_accuracy: 0.5728\n",
      "Epoch 2/20\n",
      "377/377 [==============================] - 67s 177ms/step - loss: 1.0353 - accuracy: 0.7075 - val_loss: 0.9628 - val_accuracy: 0.6938\n",
      "Epoch 3/20\n",
      "377/377 [==============================] - 69s 183ms/step - loss: 0.6941 - accuracy: 0.8025 - val_loss: 0.8382 - val_accuracy: 0.7152\n",
      "Epoch 4/20\n",
      "377/377 [==============================] - 79s 209ms/step - loss: 0.5286 - accuracy: 0.8439 - val_loss: 0.7389 - val_accuracy: 0.7484\n",
      "Epoch 5/20\n",
      "377/377 [==============================] - 108s 286ms/step - loss: 0.4212 - accuracy: 0.8832 - val_loss: 0.6552 - val_accuracy: 0.7741\n",
      "Epoch 6/20\n",
      "377/377 [==============================] - 110s 291ms/step - loss: 0.3491 - accuracy: 0.9005 - val_loss: 0.6646 - val_accuracy: 0.7655\n",
      "Epoch 7/20\n",
      "377/377 [==============================] - 111s 293ms/step - loss: 0.2894 - accuracy: 0.9196 - val_loss: 0.6429 - val_accuracy: 0.7687\n",
      "Epoch 8/20\n",
      "377/377 [==============================] - 110s 290ms/step - loss: 0.2431 - accuracy: 0.9326 - val_loss: 0.6903 - val_accuracy: 0.7602\n",
      "Epoch 9/20\n",
      "377/377 [==============================] - 111s 294ms/step - loss: 0.2108 - accuracy: 0.9403 - val_loss: 0.5873 - val_accuracy: 0.7944\n",
      "Epoch 10/20\n",
      "377/377 [==============================] - 112s 297ms/step - loss: 0.1868 - accuracy: 0.9448 - val_loss: 0.5973 - val_accuracy: 0.7912\n",
      "Epoch 11/20\n",
      "377/377 [==============================] - 111s 294ms/step - loss: 0.1578 - accuracy: 0.9586 - val_loss: 0.6983 - val_accuracy: 0.7623\n",
      "Epoch 12/20\n",
      "377/377 [==============================] - 112s 296ms/step - loss: 0.1384 - accuracy: 0.9610 - val_loss: 0.8109 - val_accuracy: 0.7281\n",
      "Epoch 13/20\n",
      "377/377 [==============================] - 111s 293ms/step - loss: 0.1313 - accuracy: 0.9631 - val_loss: 0.6609 - val_accuracy: 0.7762\n",
      "Epoch 14/20\n",
      "377/377 [==============================] - 114s 302ms/step - loss: 0.1123 - accuracy: 0.9711 - val_loss: 0.6520 - val_accuracy: 0.7827\n",
      "Epoch 15/20\n",
      "377/377 [==============================] - 112s 297ms/step - loss: 0.0956 - accuracy: 0.9774 - val_loss: 0.6752 - val_accuracy: 0.7827\n",
      "Epoch 16/20\n",
      "377/377 [==============================] - 113s 297ms/step - loss: 0.0930 - accuracy: 0.9764 - val_loss: 0.7154 - val_accuracy: 0.7762\n",
      "Epoch 17/20\n",
      "377/377 [==============================] - 112s 297ms/step - loss: 0.0788 - accuracy: 0.9814 - val_loss: 0.7033 - val_accuracy: 0.7794\n",
      "Epoch 18/20\n",
      "377/377 [==============================] - 112s 297ms/step - loss: 0.0702 - accuracy: 0.9814 - val_loss: 0.6772 - val_accuracy: 0.7848\n",
      "Epoch 19/20\n",
      "377/377 [==============================] - 113s 298ms/step - loss: 0.0643 - accuracy: 0.9851 - val_loss: 0.7302 - val_accuracy: 0.7859\n",
      "Epoch 20/20\n",
      "377/377 [==============================] - 112s 296ms/step - loss: 0.0577 - accuracy: 0.9859 - val_loss: 0.7463 - val_accuracy: 0.7837\n"
     ]
    }
   ],
   "source": [
    "fit = model.fit(train_batches, epochs=20, validation_data=validation_batches)"
   ]
  },
  {
   "cell_type": "code",
   "execution_count": 14,
   "id": "b2d29746",
   "metadata": {},
   "outputs": [],
   "source": [
    "model.save(\"./models/action-class-15-trained-vgg16.h5\")"
   ]
  },
  {
   "cell_type": "markdown",
   "id": "156ea49e",
   "metadata": {},
   "source": [
    "## Evaluate and Predict"
   ]
  },
  {
   "cell_type": "code",
   "execution_count": 15,
   "id": "7d14ce5f",
   "metadata": {},
   "outputs": [
    {
     "name": "stdout",
     "output_type": "stream",
     "text": [
      "Model: \"sequential\"\n",
      "_________________________________________________________________\n",
      " Layer (type)                Output Shape              Param #   \n",
      "=================================================================\n",
      " vgg16 (Functional)          (None, 512)               14714688  \n",
      "                                                                 \n",
      " dense (Dense)               (None, 32)                16416     \n",
      "                                                                 \n",
      " dense_1 (Dense)             (None, 32)                1056      \n",
      "                                                                 \n",
      " dense_2 (Dense)             (None, 15)                495       \n",
      "                                                                 \n",
      "=================================================================\n",
      "Total params: 14,732,655\n",
      "Trainable params: 17,967\n",
      "Non-trainable params: 14,714,688\n",
      "_________________________________________________________________\n"
     ]
    }
   ],
   "source": [
    "model = models.load_model(\"./models/action-class-15-trained-vgg16.h5\")\n",
    "model.summary()"
   ]
  },
  {
   "cell_type": "code",
   "execution_count": 16,
   "id": "fcae2848",
   "metadata": {},
   "outputs": [
    {
     "name": "stdout",
     "output_type": "stream",
     "text": [
      "94/94 [==============================] - 26s 233ms/step - loss: 0.7463 - accuracy: 0.7837\n"
     ]
    },
    {
     "data": {
      "text/plain": [
       "[0.746271014213562, 0.783725917339325]"
      ]
     },
     "execution_count": 16,
     "metadata": {},
     "output_type": "execute_result"
    }
   ],
   "source": [
    "model.evaluate(test_batches)"
   ]
  },
  {
   "cell_type": "code",
   "execution_count": 17,
   "id": "fc0d3e51",
   "metadata": {},
   "outputs": [
    {
     "data": {
      "image/png": "[encoded data removed]",
      "text/plain": [
       "<Figure size 432x288 with 1 Axes>"
      ]
     },
     "metadata": {},
     "output_type": "display_data"
    },
    {
     "data": {
      "image/png": "[encoded data removed]",
      "text/plain": [
       "<Figure size 432x288 with 1 Axes>"
      ]
     },
     "metadata": {},
     "output_type": "display_data"
    }
   ],
   "source": [
    "plt.style.use(\"ggplot\")\n",
    "plt.figure()\n",
    "\n",
    "plt.plot(np.arange(0, 20), fit.history[\"loss\"], label=\"train_loss\")\n",
    "plt.plot(np.arange(0, 20), fit.history[\"val_loss\"], label=\"val_loss\")\n",
    "plt.title(\"Training Loss\")\n",
    "plt.xlabel(\"Epoch #\")\n",
    "plt.ylabel(\"Loss\")\n",
    "plt.legend(loc=\"lower left\")\n",
    "plt.show()\n",
    "\n",
    "plt.plot(np.arange(0, 20), fit.history[\"accuracy\"], label=\"train_acc\")\n",
    "plt.plot(np.arange(0, 20), fit.history[\"val_accuracy\"], label=\"val_acc\")\n",
    "plt.title(\"Accuracy\")\n",
    "plt.xlabel(\"Epoch #\")\n",
    "plt.ylabel(\"Accuracy\")\n",
    "plt.legend(loc=\"lower left\")\n",
    "plt.show()"
   ]
  }
 ],
 "metadata": {
  "kernelspec": {
   "display_name": "Python 3 (ipykernel)",
   "language": "python",
   "name": "python3"
  },
  "language_info": {
   "codemirror_mode": {
    "name": "ipython",
    "version": 3
   },
   "file_extension": ".py",
   "mimetype": "text/x-python",
   "name": "python",
   "nbconvert_exporter": "python",
   "pygments_lexer": "ipython3",
   "version": "3.10.4"
  }
 },
 "nbformat": 4,
 "nbformat_minor": 5
}
